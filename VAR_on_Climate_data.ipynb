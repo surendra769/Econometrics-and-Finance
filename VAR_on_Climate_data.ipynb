{
  "nbformat": 4,
  "nbformat_minor": 0,
  "metadata": {
    "colab": {
      "provenance": []
    },
    "kernelspec": {
      "name": "python3",
      "display_name": "Python 3"
    },
    "language_info": {
      "name": "python"
    }
  },
  "cells": [
    {
      "cell_type": "markdown",
      "source": [
        "**Vector Autoregression (VAR)** is a statistical model for multivariate time series analysis, especially in a time series where the variables have a relationship that affects each other to time. VAR models are different from univariate autoregressive models because they allow analysis and make predictions on multivariate time series data. VAR models are often used in economics and weather forecasting. It make AR equation of each  variable\n",
        "![image-120.png](data:image/png;base64,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)"
      ],
      "metadata": {
        "id": "6iedP8i0T7kZ"
      }
    },
    {
      "cell_type": "markdown",
      "source": [
        "**Import Libraries**"
      ],
      "metadata": {
        "id": "1TaSpZuFlzlY"
      }
    },
    {
      "cell_type": "code",
      "source": [
        "import pandas as pd\n",
        "import numpy as np\n",
        "\n",
        "import seaborn as sns\n",
        "import matplotlib.pyplot as plt\n",
        "\n",
        "from datetime import datetime  # for time formating\n",
        "from matplotlib.dates import DateFormatter\n",
        "import matplotlib.dates as mdates\n",
        "\n",
        "import statsmodels.api  as sm\n",
        "from statsmodels.tsa.stattools import grangercausalitytests\n",
        "from statsmodels.tsa.stattools import adfuller\n",
        "import statsmodels.api as sm\n",
        "from statsmodels.tsa.api import VAR\n",
        "\n",
        "import warnings     # avoide the warning\n",
        "warnings.filterwarnings(\"ignore\")"
      ],
      "metadata": {
        "id": "Kdy5PAVsl0Gq"
      },
      "execution_count": 17,
      "outputs": []
    },
    {
      "cell_type": "code",
      "source": [
        "df = pd.read_csv('https://raw.githubusercontent.com/surendra769/Econometrics-and-Finance/main/DailyDelhiClimateTest.csv')\n",
        "df.head()\n",
        "\n",
        "\n",
        "# we have the dataset from 1st Jamuary 2017 to 24  April 2017 "
      ],
      "metadata": {
        "colab": {
          "base_uri": "https://localhost:8080/",
          "height": 206
        },
        "id": "Mf_6YBOtl9in",
        "outputId": "b489b826-ad2f-48f8-9183-9d1183570f61"
      },
      "execution_count": 18,
      "outputs": [
        {
          "output_type": "execute_result",
          "data": {
            "text/plain": [
              "         date   meantemp   humidity  wind_speed  meanpressure\n",
              "0  2017-01-01  15.913043  85.869565    2.743478     59.000000\n",
              "1  2017-01-02  18.500000  77.222222    2.894444   1018.277778\n",
              "2  2017-01-03  17.111111  81.888889    4.016667   1018.333333\n",
              "3  2017-01-04  18.700000  70.050000    4.545000   1015.700000\n",
              "4  2017-01-05  18.388889  74.944444    3.300000   1014.333333"
            ],
            "text/html": [
              "\n",
              "  <div id=\"df-e41d3628-97f9-457f-87e8-8f825075ee20\">\n",
              "    <div class=\"colab-df-container\">\n",
              "      <div>\n",
              "<style scoped>\n",
              "    .dataframe tbody tr th:only-of-type {\n",
              "        vertical-align: middle;\n",
              "    }\n",
              "\n",
              "    .dataframe tbody tr th {\n",
              "        vertical-align: top;\n",
              "    }\n",
              "\n",
              "    .dataframe thead th {\n",
              "        text-align: right;\n",
              "    }\n",
              "</style>\n",
              "<table border=\"1\" class=\"dataframe\">\n",
              "  <thead>\n",
              "    <tr style=\"text-align: right;\">\n",
              "      <th></th>\n",
              "      <th>date</th>\n",
              "      <th>meantemp</th>\n",
              "      <th>humidity</th>\n",
              "      <th>wind_speed</th>\n",
              "      <th>meanpressure</th>\n",
              "    </tr>\n",
              "  </thead>\n",
              "  <tbody>\n",
              "    <tr>\n",
              "      <th>0</th>\n",
              "      <td>2017-01-01</td>\n",
              "      <td>15.913043</td>\n",
              "      <td>85.869565</td>\n",
              "      <td>2.743478</td>\n",
              "      <td>59.000000</td>\n",
              "    </tr>\n",
              "    <tr>\n",
              "      <th>1</th>\n",
              "      <td>2017-01-02</td>\n",
              "      <td>18.500000</td>\n",
              "      <td>77.222222</td>\n",
              "      <td>2.894444</td>\n",
              "      <td>1018.277778</td>\n",
              "    </tr>\n",
              "    <tr>\n",
              "      <th>2</th>\n",
              "      <td>2017-01-03</td>\n",
              "      <td>17.111111</td>\n",
              "      <td>81.888889</td>\n",
              "      <td>4.016667</td>\n",
              "      <td>1018.333333</td>\n",
              "    </tr>\n",
              "    <tr>\n",
              "      <th>3</th>\n",
              "      <td>2017-01-04</td>\n",
              "      <td>18.700000</td>\n",
              "      <td>70.050000</td>\n",
              "      <td>4.545000</td>\n",
              "      <td>1015.700000</td>\n",
              "    </tr>\n",
              "    <tr>\n",
              "      <th>4</th>\n",
              "      <td>2017-01-05</td>\n",
              "      <td>18.388889</td>\n",
              "      <td>74.944444</td>\n",
              "      <td>3.300000</td>\n",
              "      <td>1014.333333</td>\n",
              "    </tr>\n",
              "  </tbody>\n",
              "</table>\n",
              "</div>\n",
              "      <button class=\"colab-df-convert\" onclick=\"convertToInteractive('df-e41d3628-97f9-457f-87e8-8f825075ee20')\"\n",
              "              title=\"Convert this dataframe to an interactive table.\"\n",
              "              style=\"display:none;\">\n",
              "        \n",
              "  <svg xmlns=\"http://www.w3.org/2000/svg\" height=\"24px\"viewBox=\"0 0 24 24\"\n",
              "       width=\"24px\">\n",
              "    <path d=\"M0 0h24v24H0V0z\" fill=\"none\"/>\n",
              "    <path d=\"M18.56 5.44l.94 2.06.94-2.06 2.06-.94-2.06-.94-.94-2.06-.94 2.06-2.06.94zm-11 1L8.5 8.5l.94-2.06 2.06-.94-2.06-.94L8.5 2.5l-.94 2.06-2.06.94zm10 10l.94 2.06.94-2.06 2.06-.94-2.06-.94-.94-2.06-.94 2.06-2.06.94z\"/><path d=\"M17.41 7.96l-1.37-1.37c-.4-.4-.92-.59-1.43-.59-.52 0-1.04.2-1.43.59L10.3 9.45l-7.72 7.72c-.78.78-.78 2.05 0 2.83L4 21.41c.39.39.9.59 1.41.59.51 0 1.02-.2 1.41-.59l7.78-7.78 2.81-2.81c.8-.78.8-2.07 0-2.86zM5.41 20L4 18.59l7.72-7.72 1.47 1.35L5.41 20z\"/>\n",
              "  </svg>\n",
              "      </button>\n",
              "      \n",
              "  <style>\n",
              "    .colab-df-container {\n",
              "      display:flex;\n",
              "      flex-wrap:wrap;\n",
              "      gap: 12px;\n",
              "    }\n",
              "\n",
              "    .colab-df-convert {\n",
              "      background-color: #E8F0FE;\n",
              "      border: none;\n",
              "      border-radius: 50%;\n",
              "      cursor: pointer;\n",
              "      display: none;\n",
              "      fill: #1967D2;\n",
              "      height: 32px;\n",
              "      padding: 0 0 0 0;\n",
              "      width: 32px;\n",
              "    }\n",
              "\n",
              "    .colab-df-convert:hover {\n",
              "      background-color: #E2EBFA;\n",
              "      box-shadow: 0px 1px 2px rgba(60, 64, 67, 0.3), 0px 1px 3px 1px rgba(60, 64, 67, 0.15);\n",
              "      fill: #174EA6;\n",
              "    }\n",
              "\n",
              "    [theme=dark] .colab-df-convert {\n",
              "      background-color: #3B4455;\n",
              "      fill: #D2E3FC;\n",
              "    }\n",
              "\n",
              "    [theme=dark] .colab-df-convert:hover {\n",
              "      background-color: #434B5C;\n",
              "      box-shadow: 0px 1px 3px 1px rgba(0, 0, 0, 0.15);\n",
              "      filter: drop-shadow(0px 1px 2px rgba(0, 0, 0, 0.3));\n",
              "      fill: #FFFFFF;\n",
              "    }\n",
              "  </style>\n",
              "\n",
              "      <script>\n",
              "        const buttonEl =\n",
              "          document.querySelector('#df-e41d3628-97f9-457f-87e8-8f825075ee20 button.colab-df-convert');\n",
              "        buttonEl.style.display =\n",
              "          google.colab.kernel.accessAllowed ? 'block' : 'none';\n",
              "\n",
              "        async function convertToInteractive(key) {\n",
              "          const element = document.querySelector('#df-e41d3628-97f9-457f-87e8-8f825075ee20');\n",
              "          const dataTable =\n",
              "            await google.colab.kernel.invokeFunction('convertToInteractive',\n",
              "                                                     [key], {});\n",
              "          if (!dataTable) return;\n",
              "\n",
              "          const docLinkHtml = 'Like what you see? Visit the ' +\n",
              "            '<a target=\"_blank\" href=https://colab.research.google.com/notebooks/data_table.ipynb>data table notebook</a>'\n",
              "            + ' to learn more about interactive tables.';\n",
              "          element.innerHTML = '';\n",
              "          dataTable['output_type'] = 'display_data';\n",
              "          await google.colab.output.renderOutput(dataTable, element);\n",
              "          const docLink = document.createElement('div');\n",
              "          docLink.innerHTML = docLinkHtml;\n",
              "          element.appendChild(docLink);\n",
              "        }\n",
              "      </script>\n",
              "    </div>\n",
              "  </div>\n",
              "  "
            ]
          },
          "metadata": {},
          "execution_count": 18
        }
      ]
    },
    {
      "cell_type": "markdown",
      "source": [
        "We will  take  date, mean pressure, humidity, wind_speed as train variable and mean temp as test variable."
      ],
      "metadata": {
        "id": "2a4Mv00JmIVz"
      }
    },
    {
      "cell_type": "code",
      "source": [
        "df.info()  # need to convert date column to date data type"
      ],
      "metadata": {
        "colab": {
          "base_uri": "https://localhost:8080/"
        },
        "id": "U51AF8Zxmjyd",
        "outputId": "a367cddf-ac4e-48f7-921e-2ded0f094e5b"
      },
      "execution_count": 19,
      "outputs": [
        {
          "output_type": "stream",
          "name": "stdout",
          "text": [
            "<class 'pandas.core.frame.DataFrame'>\n",
            "RangeIndex: 114 entries, 0 to 113\n",
            "Data columns (total 5 columns):\n",
            " #   Column        Non-Null Count  Dtype  \n",
            "---  ------        --------------  -----  \n",
            " 0   date          114 non-null    object \n",
            " 1   meantemp      114 non-null    float64\n",
            " 2   humidity      114 non-null    float64\n",
            " 3   wind_speed    114 non-null    float64\n",
            " 4   meanpressure  114 non-null    float64\n",
            "dtypes: float64(4), object(1)\n",
            "memory usage: 4.6+ KB\n"
          ]
        }
      ]
    },
    {
      "cell_type": "code",
      "source": [
        "df['date'] = pd.to_datetime(df['date'])\n",
        "df.head()"
      ],
      "metadata": {
        "colab": {
          "base_uri": "https://localhost:8080/",
          "height": 206
        },
        "id": "uMterwXOmxTl",
        "outputId": "5150a06d-2994-445c-a827-6ce76d3322c1"
      },
      "execution_count": 20,
      "outputs": [
        {
          "output_type": "execute_result",
          "data": {
            "text/plain": [
              "        date   meantemp   humidity  wind_speed  meanpressure\n",
              "0 2017-01-01  15.913043  85.869565    2.743478     59.000000\n",
              "1 2017-01-02  18.500000  77.222222    2.894444   1018.277778\n",
              "2 2017-01-03  17.111111  81.888889    4.016667   1018.333333\n",
              "3 2017-01-04  18.700000  70.050000    4.545000   1015.700000\n",
              "4 2017-01-05  18.388889  74.944444    3.300000   1014.333333"
            ],
            "text/html": [
              "\n",
              "  <div id=\"df-be51df26-ab98-40a6-aa28-41154e2e496b\">\n",
              "    <div class=\"colab-df-container\">\n",
              "      <div>\n",
              "<style scoped>\n",
              "    .dataframe tbody tr th:only-of-type {\n",
              "        vertical-align: middle;\n",
              "    }\n",
              "\n",
              "    .dataframe tbody tr th {\n",
              "        vertical-align: top;\n",
              "    }\n",
              "\n",
              "    .dataframe thead th {\n",
              "        text-align: right;\n",
              "    }\n",
              "</style>\n",
              "<table border=\"1\" class=\"dataframe\">\n",
              "  <thead>\n",
              "    <tr style=\"text-align: right;\">\n",
              "      <th></th>\n",
              "      <th>date</th>\n",
              "      <th>meantemp</th>\n",
              "      <th>humidity</th>\n",
              "      <th>wind_speed</th>\n",
              "      <th>meanpressure</th>\n",
              "    </tr>\n",
              "  </thead>\n",
              "  <tbody>\n",
              "    <tr>\n",
              "      <th>0</th>\n",
              "      <td>2017-01-01</td>\n",
              "      <td>15.913043</td>\n",
              "      <td>85.869565</td>\n",
              "      <td>2.743478</td>\n",
              "      <td>59.000000</td>\n",
              "    </tr>\n",
              "    <tr>\n",
              "      <th>1</th>\n",
              "      <td>2017-01-02</td>\n",
              "      <td>18.500000</td>\n",
              "      <td>77.222222</td>\n",
              "      <td>2.894444</td>\n",
              "      <td>1018.277778</td>\n",
              "    </tr>\n",
              "    <tr>\n",
              "      <th>2</th>\n",
              "      <td>2017-01-03</td>\n",
              "      <td>17.111111</td>\n",
              "      <td>81.888889</td>\n",
              "      <td>4.016667</td>\n",
              "      <td>1018.333333</td>\n",
              "    </tr>\n",
              "    <tr>\n",
              "      <th>3</th>\n",
              "      <td>2017-01-04</td>\n",
              "      <td>18.700000</td>\n",
              "      <td>70.050000</td>\n",
              "      <td>4.545000</td>\n",
              "      <td>1015.700000</td>\n",
              "    </tr>\n",
              "    <tr>\n",
              "      <th>4</th>\n",
              "      <td>2017-01-05</td>\n",
              "      <td>18.388889</td>\n",
              "      <td>74.944444</td>\n",
              "      <td>3.300000</td>\n",
              "      <td>1014.333333</td>\n",
              "    </tr>\n",
              "  </tbody>\n",
              "</table>\n",
              "</div>\n",
              "      <button class=\"colab-df-convert\" onclick=\"convertToInteractive('df-be51df26-ab98-40a6-aa28-41154e2e496b')\"\n",
              "              title=\"Convert this dataframe to an interactive table.\"\n",
              "              style=\"display:none;\">\n",
              "        \n",
              "  <svg xmlns=\"http://www.w3.org/2000/svg\" height=\"24px\"viewBox=\"0 0 24 24\"\n",
              "       width=\"24px\">\n",
              "    <path d=\"M0 0h24v24H0V0z\" fill=\"none\"/>\n",
              "    <path d=\"M18.56 5.44l.94 2.06.94-2.06 2.06-.94-2.06-.94-.94-2.06-.94 2.06-2.06.94zm-11 1L8.5 8.5l.94-2.06 2.06-.94-2.06-.94L8.5 2.5l-.94 2.06-2.06.94zm10 10l.94 2.06.94-2.06 2.06-.94-2.06-.94-.94-2.06-.94 2.06-2.06.94z\"/><path d=\"M17.41 7.96l-1.37-1.37c-.4-.4-.92-.59-1.43-.59-.52 0-1.04.2-1.43.59L10.3 9.45l-7.72 7.72c-.78.78-.78 2.05 0 2.83L4 21.41c.39.39.9.59 1.41.59.51 0 1.02-.2 1.41-.59l7.78-7.78 2.81-2.81c.8-.78.8-2.07 0-2.86zM5.41 20L4 18.59l7.72-7.72 1.47 1.35L5.41 20z\"/>\n",
              "  </svg>\n",
              "      </button>\n",
              "      \n",
              "  <style>\n",
              "    .colab-df-container {\n",
              "      display:flex;\n",
              "      flex-wrap:wrap;\n",
              "      gap: 12px;\n",
              "    }\n",
              "\n",
              "    .colab-df-convert {\n",
              "      background-color: #E8F0FE;\n",
              "      border: none;\n",
              "      border-radius: 50%;\n",
              "      cursor: pointer;\n",
              "      display: none;\n",
              "      fill: #1967D2;\n",
              "      height: 32px;\n",
              "      padding: 0 0 0 0;\n",
              "      width: 32px;\n",
              "    }\n",
              "\n",
              "    .colab-df-convert:hover {\n",
              "      background-color: #E2EBFA;\n",
              "      box-shadow: 0px 1px 2px rgba(60, 64, 67, 0.3), 0px 1px 3px 1px rgba(60, 64, 67, 0.15);\n",
              "      fill: #174EA6;\n",
              "    }\n",
              "\n",
              "    [theme=dark] .colab-df-convert {\n",
              "      background-color: #3B4455;\n",
              "      fill: #D2E3FC;\n",
              "    }\n",
              "\n",
              "    [theme=dark] .colab-df-convert:hover {\n",
              "      background-color: #434B5C;\n",
              "      box-shadow: 0px 1px 3px 1px rgba(0, 0, 0, 0.15);\n",
              "      filter: drop-shadow(0px 1px 2px rgba(0, 0, 0, 0.3));\n",
              "      fill: #FFFFFF;\n",
              "    }\n",
              "  </style>\n",
              "\n",
              "      <script>\n",
              "        const buttonEl =\n",
              "          document.querySelector('#df-be51df26-ab98-40a6-aa28-41154e2e496b button.colab-df-convert');\n",
              "        buttonEl.style.display =\n",
              "          google.colab.kernel.accessAllowed ? 'block' : 'none';\n",
              "\n",
              "        async function convertToInteractive(key) {\n",
              "          const element = document.querySelector('#df-be51df26-ab98-40a6-aa28-41154e2e496b');\n",
              "          const dataTable =\n",
              "            await google.colab.kernel.invokeFunction('convertToInteractive',\n",
              "                                                     [key], {});\n",
              "          if (!dataTable) return;\n",
              "\n",
              "          const docLinkHtml = 'Like what you see? Visit the ' +\n",
              "            '<a target=\"_blank\" href=https://colab.research.google.com/notebooks/data_table.ipynb>data table notebook</a>'\n",
              "            + ' to learn more about interactive tables.';\n",
              "          element.innerHTML = '';\n",
              "          dataTable['output_type'] = 'display_data';\n",
              "          await google.colab.output.renderOutput(dataTable, element);\n",
              "          const docLink = document.createElement('div');\n",
              "          docLink.innerHTML = docLinkHtml;\n",
              "          element.appendChild(docLink);\n",
              "        }\n",
              "      </script>\n",
              "    </div>\n",
              "  </div>\n",
              "  "
            ]
          },
          "metadata": {},
          "execution_count": 20
        }
      ]
    },
    {
      "cell_type": "code",
      "source": [
        "## plot the time series\n",
        "\n",
        "plt.figure(figsize=(12,6))\n",
        "plt.gcf().autofmt_xdate()\n",
        "plt.gca().xaxis.set_major_locator(mdates.DayLocator(interval=6))\n",
        "sns.lineplot( df['date'],  df['meantemp'])\n",
        "plt.gca().xaxis.set_major_locator(mdates.DayLocator());\n"
      ],
      "metadata": {
        "colab": {
          "base_uri": "https://localhost:8080/",
          "height": 356
        },
        "id": "bra__QLWs8Au",
        "outputId": "ba97223a-2cd8-4fe6-bdae-6185c70e7ffc"
      },
      "execution_count": 21,
      "outputs": [
        {
          "output_type": "display_data",
          "data": {
            "text/plain": [
              "<Figure size 864x432 with 1 Axes>"
            ],
            "image/png": "[encoded data removed]"
          },
          "metadata": {
            "needs_background": "light"
          }
        }
      ]
    },
    {
      "cell_type": "markdown",
      "source": [
        "Unable to see the date cearly  therefore we will change the range of date."
      ],
      "metadata": {
        "id": "NldhtYGW_CNn"
      }
    },
    {
      "cell_type": "code",
      "source": [
        "plt.figure(figsize = (14,7))\n",
        "plt.gca().xaxis.set_major_formatter(mdates.DateFormatter('%d-%m-%Y'))     #specify the date foramt of  xaxis\n",
        "\n",
        "plt.gca().xaxis.set_major_locator(mdates.DayLocator(interval=10))  # specify  the interval\n",
        "plt.gcf().autofmt_xdate()    # manage the space\n",
        "\n",
        "sns.lineplot(df['date'], df['meantemp'])\n",
        "plt.ylabel('Temperature')\n",
        "\n",
        "plt.xticks(rotation=90)     # rotate the xaxis value by 90 degree\n",
        "plt.show()"
      ],
      "metadata": {
        "colab": {
          "base_uri": "https://localhost:8080/",
          "height": 453
        },
        "id": "XqSyIYOL-5D1",
        "outputId": "56e872e7-d5a4-4d72-9a27-fc957942abea"
      },
      "execution_count": 22,
      "outputs": [
        {
          "output_type": "display_data",
          "data": {
            "text/plain": [
              "<Figure size 1008x504 with 1 Axes>"
            ],
            "image/png": "[encoded data removed]"
          },
          "metadata": {
            "needs_background": "light"
          }
        }
      ]
    },
    {
      "cell_type": "markdown",
      "source": [
        "**Inference**: It is observed that over the month there is increase in temperature."
      ],
      "metadata": {
        "id": "04c1HsRUACb2"
      }
    },
    {
      "cell_type": "code",
      "source": [
        "## to get  the better idea about trend, cyclical variation and  residuall\n",
        "decomposition = sm.tsa.seasonal_decompose(df['meantemp'],period = 12, model = 'multiplicative' )\n",
        "decomposition.plot()\n",
        "plt.show()     # to get only one plot "
      ],
      "metadata": {
        "colab": {
          "base_uri": "https://localhost:8080/",
          "height": 297
        },
        "id": "VBhAF_rOAaUl",
        "outputId": "995654b4-df8e-4efb-8be5-74302334dba7"
      },
      "execution_count": 23,
      "outputs": [
        {
          "output_type": "display_data",
          "data": {
            "text/plain": [
              "<Figure size 432x288 with 4 Axes>"
            ],
            "image/png": "[encoded data removed]"
          },
          "metadata": {
            "needs_background": "light"
          }
        }
      ]
    },
    {
      "cell_type": "markdown",
      "source": [
        "**Infernece**: we clearly see the upward trend in trend plpot alsoe see  the seasonal variation which  repeat each 20 days"
      ],
      "metadata": {
        "id": "GaKpdUs9sM--"
      }
    },
    {
      "cell_type": "code",
      "source": [
        "# function to  calcualte Mean Absolute Percentage Error\n",
        "def MAPE(Y_actual,Y_Predicted):  \n",
        "    mape = np.mean(np.abs((Y_actual - Y_Predicted)/Y_actual))*100\n",
        "    return mape"
      ],
      "metadata": {
        "id": "XROiCsvdz_yZ"
      },
      "execution_count": 24,
      "outputs": []
    },
    {
      "cell_type": "markdown",
      "source": [
        "## Statistical Time-Series"
      ],
      "metadata": {
        "id": "HXGLucS5rSom"
      }
    },
    {
      "cell_type": "markdown",
      "source": [
        "Im Multi-variate Time series Analysis  we use VAR(vector  Auto  Regressive)  \n",
        "\n",
        "Stationarity: Similar to the Augmented Dickey-Fuller test for univariate series, we have Johansen’s test for checking the stationarity of any multivariate time series data. "
      ],
      "metadata": {
        "id": "dkd30-9qJ_g9"
      }
    },
    {
      "cell_type": "code",
      "source": [
        "from statsmodels.tsa.stattools import grangercausalitytests\n",
        "from statsmodels.tsa.stattools import adfuller\n",
        "import statsmodels.api as sm\n",
        "from statsmodels.tsa.api import VAR"
      ],
      "metadata": {
        "id": "fuWswyDMnips"
      },
      "execution_count": 25,
      "outputs": []
    },
    {
      "cell_type": "markdown",
      "source": [
        "### Hypothesis Testing for stationarity check (ADF test)\n",
        "Ho: series  is not stationary  \n",
        "H1: series is stationary"
      ],
      "metadata": {
        "id": "P99Up1ltqzut"
      }
    },
    {
      "cell_type": "code",
      "source": [
        "## first we chcke the stationrity  of all variable\n",
        "for i in range(len(df.columns)):\n",
        "  result = adfuller(df[df.columns[i]])\n",
        "\n",
        "  if result[1]> 0.05:         # adf test first value is statistic and  second value is p value\n",
        "    print('{} series is not stationary'.format(df.columns[i]))\n",
        "\n",
        "  else:\n",
        "    print('{} series is  stationary'.format(df.columns[i]))"
      ],
      "metadata": {
        "colab": {
          "base_uri": "https://localhost:8080/"
        },
        "id": "-A-ixmOAqOOo",
        "outputId": "9369fb7c-d343-4218-ae28-d1cae127aad1"
      },
      "execution_count": 26,
      "outputs": [
        {
          "output_type": "stream",
          "name": "stdout",
          "text": [
            "date series is not stationary\n",
            "meantemp series is not stationary\n",
            "humidity series is not stationary\n",
            "wind_speed series is  stationary\n",
            "meanpressure series is not stationary\n"
          ]
        }
      ]
    },
    {
      "cell_type": "markdown",
      "source": [
        "**Inference**: ignore the date series and  it is found that mean_temp and  humidity and meanpressure are not stationnarity so we need make them stationary."
      ],
      "metadata": {
        "id": "SNn5UBZwqxHo"
      }
    },
    {
      "cell_type": "code",
      "source": [
        "df['meantemp'] = np.diff(df['meantemp'], n = 1,prepend = df['meantemp'][1])    # without prepend we get one value less as it value start from 2 value -1 value of column\n",
        "df['humidity'] = np.diff(df['humidity'], n = 1, prepend = df['humidity'][1] )    # to  make equal  value  of row we substract 1st value with help of predend \n",
        "df['meanpressure'] = np.diff(df['meanpressure'], n = 1,prepend =df['meanpressure'][1])   # we can take  any value in predend, we take second  value as it is  close to first value"
      ],
      "metadata": {
        "id": "A-N24S-fQfiQ"
      },
      "execution_count": 27,
      "outputs": []
    },
    {
      "cell_type": "code",
      "source": [
        "## again check the stationarity\n",
        "for i in range(len(df.columns)):\n",
        "  result = adfuller(df[df.columns[i]])\n",
        "\n",
        "  if result[1]> 0.05:         # adf test first value is statistic and  second value is p value\n",
        "    print('{} series is not stationary'.format(df.columns[i]))\n",
        "\n",
        "  else:\n",
        "    print('{} series is  stationary'.format(df.columns[i]))\n",
        "\n",
        "## now all are stationary and we can move to new part"
      ],
      "metadata": {
        "colab": {
          "base_uri": "https://localhost:8080/"
        },
        "id": "c0-jaXwCzX2D",
        "outputId": "5a0093bf-910b-4bab-c09a-1156545d4211"
      },
      "execution_count": 28,
      "outputs": [
        {
          "output_type": "stream",
          "name": "stdout",
          "text": [
            "date series is not stationary\n",
            "meantemp series is  stationary\n",
            "humidity series is  stationary\n",
            "wind_speed series is  stationary\n",
            "meanpressure series is  stationary\n"
          ]
        }
      ]
    },
    {
      "cell_type": "markdown",
      "source": [
        "\n",
        "Now we take causelity check that by which variable/ time series cause change in mean temp series for this purpose we wil  use grangercausalitytests  \n",
        "\n",
        "Granger Causality test is used to determine whether or not one time series is useful for forecasting another.  \n",
        "\n",
        "Null Hypothesis (H0): Time series x does not Granger-cause time series y\n",
        "\n",
        "Alternative Hypothesis (HA): Time series x Granger-causes time series y\n",
        "\n"
      ],
      "metadata": {
        "id": "TfXchxT52D6y"
      }
    },
    {
      "cell_type": "code",
      "source": [
        "f = grangercausalitytests(df[['meantemp','humidity']], maxlag = [2])   # first variable  is respose variable, second varible  is predictor variable\n",
        "# here we take consideratin p value of F test\n"
      ],
      "metadata": {
        "colab": {
          "base_uri": "https://localhost:8080/"
        },
        "id": "SbIqHZzl4r2P",
        "outputId": "c9c7bcb8-8f1b-4e98-e7bb-87eb07c1983e"
      },
      "execution_count": 29,
      "outputs": [
        {
          "output_type": "stream",
          "name": "stdout",
          "text": [
            "\n",
            "Granger Causality\n",
            "number of lags (no zero) 2\n",
            "ssr based F test:         F=3.5613  , p=0.0318  , df_denom=107, df_num=2\n",
            "ssr based chi2 test:   chi2=7.4553  , p=0.0240  , df=2\n",
            "likelihood ratio test: chi2=7.2177  , p=0.0271  , df=2\n",
            "parameter F test:         F=3.5613  , p=0.0318  , df_denom=107, df_num=2\n"
          ]
        }
      ]
    },
    {
      "cell_type": "code",
      "source": [
        "for i in  range(len(df.columns)-2):\n",
        "  print(df.columns[i + 2])\n",
        "  "
      ],
      "metadata": {
        "colab": {
          "base_uri": "https://localhost:8080/"
        },
        "id": "4UHw-cZQ-RSB",
        "outputId": "e86fde25-b28f-4517-aef9-ab65e300aca1"
      },
      "execution_count": 30,
      "outputs": [
        {
          "output_type": "stream",
          "name": "stdout",
          "text": [
            "humidity\n",
            "wind_speed\n",
            "meanpressure\n"
          ]
        }
      ]
    },
    {
      "cell_type": "code",
      "source": [
        "maxlag = 10\n",
        "\n",
        "for i in range(len(df.columns)-2):\n",
        "  results = grangercausalitytests(df[['meantemp', df.columns[i+2]]], maxlag= maxlag, verbose = False)\n",
        "  p_value = [round(results[i+1][0]['ssr_ftest'][1], 4) for i in range(maxlag)]\n",
        "  print('Column  - {} : P-values - {}'.format(df.columns[i+2], p_value))"
      ],
      "metadata": {
        "colab": {
          "base_uri": "https://localhost:8080/"
        },
        "id": "2qAM7Ptq_G-f",
        "outputId": "65eade1e-3a4a-4e9e-ceab-2ed1b8bf4568"
      },
      "execution_count": 31,
      "outputs": [
        {
          "output_type": "stream",
          "name": "stdout",
          "text": [
            "Column  - humidity : P-values - [0.027, 0.0318, 0.0728, 0.0566, 0.0657, 0.064, 0.0604, 0.0777, 0.0709, 0.1004]\n",
            "Column  - wind_speed : P-values - [0.3052, 0.1272, 0.2549, 0.3129, 0.5108, 0.534, 0.7518, 0.4748, 0.5069, 0.7425]\n",
            "Column  - meanpressure : P-values - [0.167, 0.5497, 0.8607, 0.2078, 0.0234, 0.0152, 0.143, 0.0105, 0.0004, 0.0023]\n"
          ]
        }
      ]
    },
    {
      "cell_type": "markdown",
      "source": [
        "**Inference**: For  most of p value is greater than 0.05 therefore we fail to reject null hypothesis and  conclude that no varaible is helping in predictive the meantemp variable.  \n",
        "\n",
        "but we only have three variable so we will not drop any variable."
      ],
      "metadata": {
        "id": "h8eK30HpBlrh"
      }
    },
    {
      "cell_type": "markdown",
      "source": [
        "## VAR Model  \n",
        "In VAR(Vector  Auto regression) we take all previous value of each variable so this we develop the VAR model.  \n",
        "The main task is to find the order for VAR. one way is to take range of lags(order) and select that one which have lower AIC and BIC value "
      ],
      "metadata": {
        "id": "9TPwSeSLDsbT"
      }
    },
    {
      "cell_type": "code",
      "source": [],
      "metadata": {
        "id": "MiJwVimZF2Bn"
      },
      "execution_count": 31,
      "outputs": []
    },
    {
      "cell_type": "code",
      "source": [
        "## we will take 80-20 train test \n",
        "\n",
        "train = df.iloc[:int(df.shape[0]*0.80),]  \n",
        "test = df.iloc[int(df.shape[0]*0.80):,]"
      ],
      "metadata": {
        "id": "YPDk5FqSHI_X"
      },
      "execution_count": 32,
      "outputs": []
    },
    {
      "cell_type": "code",
      "source": [
        "train = train.drop(['date'], axis = 1)"
      ],
      "metadata": {
        "id": "5kzXB7sUGaER"
      },
      "execution_count": 33,
      "outputs": []
    },
    {
      "cell_type": "code",
      "source": [
        "m = VAR(train).fit()\n",
        "m.summary()"
      ],
      "metadata": {
        "id": "d4ufIqlaFnNH",
        "colab": {
          "base_uri": "https://localhost:8080/"
        },
        "outputId": "5e6237d9-301a-41fe-83c8-8972ebd00161"
      },
      "execution_count": 34,
      "outputs": [
        {
          "output_type": "execute_result",
          "data": {
            "text/plain": [
              "  Summary of Regression Results   \n",
              "==================================\n",
              "Model:                         VAR\n",
              "Method:                        OLS\n",
              "Date:           Fri, 23, Dec, 2022\n",
              "Time:                     14:27:24\n",
              "--------------------------------------------------------------------\n",
              "No. of Equations:         4.00000    BIC:                    16.1913\n",
              "Nobs:                     90.0000    HQIC:                   15.8598\n",
              "Log likelihood:          -1194.43    FPE:                6.17614e+06\n",
              "AIC:                      15.6357    Det(Omega_mle):     4.97500e+06\n",
              "--------------------------------------------------------------------\n",
              "Results for equation meantemp\n",
              "==================================================================================\n",
              "                     coefficient       std. error           t-stat            prob\n",
              "----------------------------------------------------------------------------------\n",
              "const                   0.566195         0.481369            1.176           0.240\n",
              "L1.meantemp            -0.066614         0.116066           -0.574           0.566\n",
              "L1.humidity             0.036580         0.027398            1.335           0.182\n",
              "L1.wind_speed          -0.046884         0.056220           -0.834           0.404\n",
              "L1.meanpressure        -0.001555         0.001318           -1.180           0.238\n",
              "==================================================================================\n",
              "\n",
              "Results for equation humidity\n",
              "==================================================================================\n",
              "                     coefficient       std. error           t-stat            prob\n",
              "----------------------------------------------------------------------------------\n",
              "const                  -4.093587         1.792091           -2.284           0.022\n",
              "L1.meantemp             1.919586         0.432103            4.442           0.000\n",
              "L1.humidity            -0.068141         0.102002           -0.668           0.504\n",
              "L1.wind_speed           0.411259         0.209302            1.965           0.049\n",
              "L1.meanpressure         0.001014         0.004905            0.207           0.836\n",
              "==================================================================================\n",
              "\n",
              "Results for equation wind_speed\n",
              "==================================================================================\n",
              "                     coefficient       std. error           t-stat            prob\n",
              "----------------------------------------------------------------------------------\n",
              "const                   4.961628         0.854467            5.807           0.000\n",
              "L1.meantemp            -0.000751         0.206027           -0.004           0.997\n",
              "L1.humidity            -0.025791         0.048634           -0.530           0.596\n",
              "L1.wind_speed           0.377914         0.099795            3.787           0.000\n",
              "L1.meanpressure         0.000328         0.002339            0.140           0.889\n",
              "==================================================================================\n",
              "\n",
              "Results for equation meanpressure\n",
              "==================================================================================\n",
              "                     coefficient       std. error           t-stat            prob\n",
              "----------------------------------------------------------------------------------\n",
              "const                  51.193904        19.607377            2.611           0.009\n",
              "L1.meantemp            -2.500034         4.727670           -0.529           0.597\n",
              "L1.humidity            -0.121858         1.116007           -0.109           0.913\n",
              "L1.wind_speed          -5.133457         2.289985           -2.242           0.025\n",
              "L1.meanpressure        -0.493944         0.053667           -9.204           0.000\n",
              "==================================================================================\n",
              "\n",
              "Correlation matrix of residuals\n",
              "                meantemp  humidity  wind_speed  meanpressure\n",
              "meantemp        1.000000 -0.363015   -0.141175      0.007417\n",
              "humidity       -0.363015  1.000000   -0.026772      0.020793\n",
              "wind_speed     -0.141175 -0.026772    1.000000     -0.135733\n",
              "meanpressure    0.007417  0.020793   -0.135733      1.000000\n",
              "\n"
            ]
          },
          "metadata": {},
          "execution_count": 34
        }
      ]
    },
    {
      "cell_type": "code",
      "source": [
        "model = VAR(train)\n",
        "for i in range(15):\n",
        "  results = model.fit(i+1)\n",
        "  print('Order :', i+1)\n",
        "  print('AIC :', results.aic)\n",
        "  print('BIC:', results.bic)\n",
        "\n",
        "# we prefer that order which  AIC and BIC is  low"
      ],
      "metadata": {
        "colab": {
          "base_uri": "https://localhost:8080/"
        },
        "id": "4_U_WlZSBteO",
        "outputId": "d50fa1c0-e667-4a17-c03f-827f74ff3449"
      },
      "execution_count": 35,
      "outputs": [
        {
          "output_type": "stream",
          "name": "stdout",
          "text": [
            "Order : 1\n",
            "AIC : 15.635745733375769\n",
            "BIC: 16.19125899344916\n",
            "Order : 2\n",
            "AIC : 8.339654773804593\n",
            "BIC: 9.346294204258044\n",
            "Order : 3\n",
            "AIC : 8.55590370840197\n",
            "BIC: 10.01978455332091\n",
            "Order : 4\n",
            "AIC : 8.663435848423482\n",
            "BIC: 10.59081230898109\n",
            "Order : 5\n",
            "AIC : 8.706241777366486\n",
            "BIC: 11.103511229521075\n",
            "Order : 6\n",
            "AIC : 8.760337741734865\n",
            "BIC: 11.634045102311708\n",
            "Order : 7\n",
            "AIC : 8.91947546266693\n",
            "BIC: 12.27631770868865\n",
            "Order : 8\n",
            "AIC : 8.817223153982333\n",
            "BIC: 12.664054000116682\n",
            "Order : 9\n",
            "AIC : 8.754879196678095\n",
            "BIC: 13.098713935642845\n",
            "Order : 10\n",
            "AIC : 8.780273595793371\n",
            "BIC: 13.628294106488184\n",
            "Order : 11\n",
            "AIC : 8.807719245846767\n",
            "BIC: 14.167279173863\n",
            "Order : 12\n",
            "AIC : 8.953298006171488\n",
            "BIC: 14.83192812115296\n",
            "Order : 13\n",
            "AIC : 8.990711540661135\n",
            "BIC: 15.396125274740537\n",
            "Order : 14\n",
            "AIC : 8.302212072256623\n",
            "BIC: 15.242311243459739\n",
            "Order : 15\n",
            "AIC : 7.237953908486288\n",
            "BIC: 14.720834632563458\n"
          ]
        }
      ]
    },
    {
      "cell_type": "code",
      "source": [
        "## another way to  choose order(lag) which is better is select_order function\n",
        "model.select_order(15).summary()\n",
        "# we will take lag 2 which have lowest FPE, even we take any consideration metrix"
      ],
      "metadata": {
        "colab": {
          "base_uri": "https://localhost:8080/",
          "height": 409
        },
        "id": "99actPKzL-dP",
        "outputId": "e5a04c33-d588-4b15-e92b-507fe5e2b2ab"
      },
      "execution_count": 36,
      "outputs": [
        {
          "output_type": "execute_result",
          "data": {
            "text/plain": [
              "<class 'statsmodels.iolib.table.SimpleTable'>"
            ],
            "text/html": [
              "<table class=\"simpletable\">\n",
              "<caption>VAR Order Selection (* highlights the minimums)</caption>\n",
              "<tr>\n",
              "   <td></td>      <th>AIC</th>         <th>BIC</th>         <th>FPE</th>        <th>HQIC</th>    \n",
              "</tr>\n",
              "<tr>\n",
              "  <th>0</th>  <td>     8.462</td>  <td>     8.584*</td> <td>     4731.</td>  <td>     8.511*</td>\n",
              "</tr>\n",
              "<tr>\n",
              "  <th>1</th>  <td>     8.336</td>  <td>     8.949</td>  <td>     4174.</td>  <td>     8.581</td> \n",
              "</tr>\n",
              "<tr>\n",
              "  <th>2</th>  <td>     8.281</td>  <td>     9.385</td>  <td>     3966.*</td> <td>     8.722</td> \n",
              "</tr>\n",
              "<tr>\n",
              "  <th>3</th>  <td>     8.550</td>  <td>     10.14</td>  <td>     5237.</td>  <td>     9.187</td> \n",
              "</tr>\n",
              "<tr>\n",
              "  <th>4</th>  <td>     8.776</td>  <td>     10.86</td>  <td>     6679.</td>  <td>     9.609</td> \n",
              "</tr>\n",
              "<tr>\n",
              "  <th>5</th>  <td>     8.972</td>  <td>     11.55</td>  <td>     8357.</td>  <td>     10.00</td> \n",
              "</tr>\n",
              "<tr>\n",
              "  <th>6</th>  <td>     8.860</td>  <td>     11.93</td>  <td>     7801.</td>  <td>     10.09</td> \n",
              "</tr>\n",
              "<tr>\n",
              "  <th>7</th>  <td>     8.892</td>  <td>     12.45</td>  <td>     8554.</td>  <td>     10.31</td> \n",
              "</tr>\n",
              "<tr>\n",
              "  <th>8</th>  <td>     8.910</td>  <td>     12.96</td>  <td>     9477.</td>  <td>     10.53</td> \n",
              "</tr>\n",
              "<tr>\n",
              "  <th>9</th>  <td>     8.912</td>  <td>     13.45</td>  <td> 1.064e+04</td>  <td>     10.73</td> \n",
              "</tr>\n",
              "<tr>\n",
              "  <th>10</th> <td>     8.937</td>  <td>     13.97</td>  <td> 1.269e+04</td>  <td>     10.95</td> \n",
              "</tr>\n",
              "<tr>\n",
              "  <th>11</th> <td>     8.994</td>  <td>     14.51</td>  <td> 1.638e+04</td>  <td>     11.20</td> \n",
              "</tr>\n",
              "<tr>\n",
              "  <th>12</th> <td>     9.015</td>  <td>     15.03</td>  <td> 2.174e+04</td>  <td>     11.42</td> \n",
              "</tr>\n",
              "<tr>\n",
              "  <th>13</th> <td>     8.765</td>  <td>     15.27</td>  <td> 2.394e+04</td>  <td>     11.36</td> \n",
              "</tr>\n",
              "<tr>\n",
              "  <th>14</th> <td>     7.887</td>  <td>     14.88</td>  <td> 1.584e+04</td>  <td>     10.68</td> \n",
              "</tr>\n",
              "<tr>\n",
              "  <th>15</th> <td>     7.238*</td> <td>     14.72</td>  <td> 1.575e+04</td>  <td>     10.23</td> \n",
              "</tr>\n",
              "</table>"
            ]
          },
          "metadata": {},
          "execution_count": 36
        }
      ]
    },
    {
      "cell_type": "code",
      "source": [
        "VAR_model = model.fit(2)\n",
        "VAR_model.summary()"
      ],
      "metadata": {
        "colab": {
          "base_uri": "https://localhost:8080/"
        },
        "id": "L8VyPU2jNVnJ",
        "outputId": "7d16ce6b-2ef1-477f-d1d0-43d389e2e23b"
      },
      "execution_count": 37,
      "outputs": [
        {
          "output_type": "execute_result",
          "data": {
            "text/plain": [
              "  Summary of Regression Results   \n",
              "==================================\n",
              "Model:                         VAR\n",
              "Method:                        OLS\n",
              "Date:           Fri, 23, Dec, 2022\n",
              "Time:                     14:27:24\n",
              "--------------------------------------------------------------------\n",
              "No. of Equations:         4.00000    BIC:                    9.34629\n",
              "Nobs:                     89.0000    HQIC:                   8.74540\n",
              "Log likelihood:          -840.257    FPE:                    4198.28\n",
              "AIC:                      8.33965    Det(Omega_mle):         2855.79\n",
              "--------------------------------------------------------------------\n",
              "Results for equation meantemp\n",
              "==================================================================================\n",
              "                     coefficient       std. error           t-stat            prob\n",
              "----------------------------------------------------------------------------------\n",
              "const                  -0.169287         0.606589           -0.279           0.780\n",
              "L1.meantemp            -0.052864         0.117081           -0.452           0.652\n",
              "L1.humidity             0.033915         0.031179            1.088           0.277\n",
              "L1.wind_speed          -0.090511         0.062109           -1.457           0.145\n",
              "L1.meanpressure         0.000687         0.002668            0.258           0.797\n",
              "L2.meantemp            -0.077957         0.129507           -0.602           0.547\n",
              "L2.humidity            -0.022084         0.027529           -0.802           0.422\n",
              "L2.wind_speed           0.133297         0.062616            2.129           0.033\n",
              "L2.meanpressure         0.001636         0.001863            0.878           0.380\n",
              "==================================================================================\n",
              "\n",
              "Results for equation humidity\n",
              "==================================================================================\n",
              "                     coefficient       std. error           t-stat            prob\n",
              "----------------------------------------------------------------------------------\n",
              "const                  -2.556498         2.256062           -1.133           0.257\n",
              "L1.meantemp             1.979460         0.435455            4.546           0.000\n",
              "L1.humidity            -0.079773         0.115962           -0.688           0.491\n",
              "L1.wind_speed           0.458413         0.231000            1.984           0.047\n",
              "L1.meanpressure        -0.007361         0.009922           -0.742           0.458\n",
              "L2.meantemp            -0.122939         0.481669           -0.255           0.799\n",
              "L2.humidity            -0.200505         0.102387           -1.958           0.050\n",
              "L2.wind_speed          -0.243938         0.232884           -1.047           0.295\n",
              "L2.meanpressure        -0.009415         0.006930           -1.359           0.174\n",
              "==================================================================================\n",
              "\n",
              "Results for equation wind_speed\n",
              "==================================================================================\n",
              "                     coefficient       std. error           t-stat            prob\n",
              "----------------------------------------------------------------------------------\n",
              "const                   5.071822         1.085092            4.674           0.000\n",
              "L1.meantemp             0.008299         0.209440            0.040           0.968\n",
              "L1.humidity            -0.034078         0.055774           -0.611           0.541\n",
              "L1.wind_speed           0.308360         0.111104            2.775           0.006\n",
              "L1.meanpressure        -0.004349         0.004772           -0.911           0.362\n",
              "L2.meantemp            -0.097859         0.231667           -0.422           0.673\n",
              "L2.humidity            -0.082090         0.049245           -1.667           0.096\n",
              "L2.wind_speed           0.061970         0.112010            0.553           0.580\n",
              "L2.meanpressure        -0.002278         0.003333           -0.683           0.494\n",
              "==================================================================================\n",
              "\n",
              "Results for equation meanpressure\n",
              "==================================================================================\n",
              "                     coefficient       std. error           t-stat            prob\n",
              "----------------------------------------------------------------------------------\n",
              "const                  -0.215084         0.663660           -0.324           0.746\n",
              "L1.meantemp            -0.362655         0.128097           -2.831           0.005\n",
              "L1.humidity            -0.031739         0.034112           -0.930           0.352\n",
              "L1.wind_speed           0.001367         0.067953            0.020           0.984\n",
              "L1.meanpressure        -0.002022         0.002919           -0.693           0.488\n",
              "L2.meantemp            -0.081980         0.141691           -0.579           0.563\n",
              "L2.humidity             0.022207         0.030119            0.737           0.461\n",
              "L2.wind_speed           0.017616         0.068507            0.257           0.797\n",
              "L2.meanpressure        -0.002568         0.002039           -1.260           0.208\n",
              "==================================================================================\n",
              "\n",
              "Correlation matrix of residuals\n",
              "                meantemp  humidity  wind_speed  meanpressure\n",
              "meantemp        1.000000 -0.369241   -0.175682     -0.324306\n",
              "humidity       -0.369241  1.000000   -0.067748      0.006776\n",
              "wind_speed     -0.175682 -0.067748    1.000000     -0.107697\n",
              "meanpressure   -0.324306  0.006776   -0.107697      1.000000\n",
              "\n"
            ]
          },
          "metadata": {},
          "execution_count": 37
        }
      ]
    },
    {
      "cell_type": "markdown",
      "source": [
        "**Inference**: We see that VAR Make a individual equation for each 4 variable of lag2"
      ],
      "metadata": {
        "id": "u6kxZRPVN0sG"
      }
    },
    {
      "cell_type": "code",
      "source": [
        "lag = results.k_ar\n",
        "lag"
      ],
      "metadata": {
        "colab": {
          "base_uri": "https://localhost:8080/"
        },
        "id": "iF5yoaunOm5M",
        "outputId": "7e34d44a-520f-4cc1-d7d0-ff428b72da6e"
      },
      "execution_count": 38,
      "outputs": [
        {
          "output_type": "execute_result",
          "data": {
            "text/plain": [
              "15"
            ]
          },
          "metadata": {},
          "execution_count": 38
        }
      ]
    },
    {
      "cell_type": "code",
      "source": [
        "test.shape"
      ],
      "metadata": {
        "colab": {
          "base_uri": "https://localhost:8080/"
        },
        "id": "xDSjbXSWUJtZ",
        "outputId": "ae8ad4dd-25ba-4541-fe36-b068a0104868"
      },
      "execution_count": 39,
      "outputs": [
        {
          "output_type": "execute_result",
          "data": {
            "text/plain": [
              "(23, 5)"
            ]
          },
          "metadata": {},
          "execution_count": 39
        }
      ]
    },
    {
      "cell_type": "code",
      "source": [
        "pred_df = pd.DataFrame(VAR_model.forecast(train.values[-lag:], steps = 23))  # it predict for all 4 variable but we need only meanTemp variable, step is 23 because rest size is 23 \n",
        "pred_df.head()"
      ],
      "metadata": {
        "colab": {
          "base_uri": "https://localhost:8080/",
          "height": 206
        },
        "id": "JiZ2UlA2Qnrk",
        "outputId": "64b5fa0c-e1b4-4335-dc41-0e6132423b0f"
      },
      "execution_count": 40,
      "outputs": [
        {
          "output_type": "execute_result",
          "data": {
            "text/plain": [
              "          0         1         2         3\n",
              "0 -0.307797  1.271495  8.196697 -0.361549\n",
              "1  0.345292 -1.279063  8.252620 -0.083260\n",
              "2  0.109990 -0.200434  8.097929 -0.089471\n",
              "3  0.186332 -0.408270  8.159842 -0.148481\n",
              "4  0.143496 -0.361308  8.111816 -0.128832"
            ],
            "text/html": [
              "\n",
              "  <div id=\"df-d3c326e6-504f-4b58-b2ff-3fbc1bdb771e\">\n",
              "    <div class=\"colab-df-container\">\n",
              "      <div>\n",
              "<style scoped>\n",
              "    .dataframe tbody tr th:only-of-type {\n",
              "        vertical-align: middle;\n",
              "    }\n",
              "\n",
              "    .dataframe tbody tr th {\n",
              "        vertical-align: top;\n",
              "    }\n",
              "\n",
              "    .dataframe thead th {\n",
              "        text-align: right;\n",
              "    }\n",
              "</style>\n",
              "<table border=\"1\" class=\"dataframe\">\n",
              "  <thead>\n",
              "    <tr style=\"text-align: right;\">\n",
              "      <th></th>\n",
              "      <th>0</th>\n",
              "      <th>1</th>\n",
              "      <th>2</th>\n",
              "      <th>3</th>\n",
              "    </tr>\n",
              "  </thead>\n",
              "  <tbody>\n",
              "    <tr>\n",
              "      <th>0</th>\n",
              "      <td>-0.307797</td>\n",
              "      <td>1.271495</td>\n",
              "      <td>8.196697</td>\n",
              "      <td>-0.361549</td>\n",
              "    </tr>\n",
              "    <tr>\n",
              "      <th>1</th>\n",
              "      <td>0.345292</td>\n",
              "      <td>-1.279063</td>\n",
              "      <td>8.252620</td>\n",
              "      <td>-0.083260</td>\n",
              "    </tr>\n",
              "    <tr>\n",
              "      <th>2</th>\n",
              "      <td>0.109990</td>\n",
              "      <td>-0.200434</td>\n",
              "      <td>8.097929</td>\n",
              "      <td>-0.089471</td>\n",
              "    </tr>\n",
              "    <tr>\n",
              "      <th>3</th>\n",
              "      <td>0.186332</td>\n",
              "      <td>-0.408270</td>\n",
              "      <td>8.159842</td>\n",
              "      <td>-0.148481</td>\n",
              "    </tr>\n",
              "    <tr>\n",
              "      <th>4</th>\n",
              "      <td>0.143496</td>\n",
              "      <td>-0.361308</td>\n",
              "      <td>8.111816</td>\n",
              "      <td>-0.128832</td>\n",
              "    </tr>\n",
              "  </tbody>\n",
              "</table>\n",
              "</div>\n",
              "      <button class=\"colab-df-convert\" onclick=\"convertToInteractive('df-d3c326e6-504f-4b58-b2ff-3fbc1bdb771e')\"\n",
              "              title=\"Convert this dataframe to an interactive table.\"\n",
              "              style=\"display:none;\">\n",
              "        \n",
              "  <svg xmlns=\"http://www.w3.org/2000/svg\" height=\"24px\"viewBox=\"0 0 24 24\"\n",
              "       width=\"24px\">\n",
              "    <path d=\"M0 0h24v24H0V0z\" fill=\"none\"/>\n",
              "    <path d=\"M18.56 5.44l.94 2.06.94-2.06 2.06-.94-2.06-.94-.94-2.06-.94 2.06-2.06.94zm-11 1L8.5 8.5l.94-2.06 2.06-.94-2.06-.94L8.5 2.5l-.94 2.06-2.06.94zm10 10l.94 2.06.94-2.06 2.06-.94-2.06-.94-.94-2.06-.94 2.06-2.06.94z\"/><path d=\"M17.41 7.96l-1.37-1.37c-.4-.4-.92-.59-1.43-.59-.52 0-1.04.2-1.43.59L10.3 9.45l-7.72 7.72c-.78.78-.78 2.05 0 2.83L4 21.41c.39.39.9.59 1.41.59.51 0 1.02-.2 1.41-.59l7.78-7.78 2.81-2.81c.8-.78.8-2.07 0-2.86zM5.41 20L4 18.59l7.72-7.72 1.47 1.35L5.41 20z\"/>\n",
              "  </svg>\n",
              "      </button>\n",
              "      \n",
              "  <style>\n",
              "    .colab-df-container {\n",
              "      display:flex;\n",
              "      flex-wrap:wrap;\n",
              "      gap: 12px;\n",
              "    }\n",
              "\n",
              "    .colab-df-convert {\n",
              "      background-color: #E8F0FE;\n",
              "      border: none;\n",
              "      border-radius: 50%;\n",
              "      cursor: pointer;\n",
              "      display: none;\n",
              "      fill: #1967D2;\n",
              "      height: 32px;\n",
              "      padding: 0 0 0 0;\n",
              "      width: 32px;\n",
              "    }\n",
              "\n",
              "    .colab-df-convert:hover {\n",
              "      background-color: #E2EBFA;\n",
              "      box-shadow: 0px 1px 2px rgba(60, 64, 67, 0.3), 0px 1px 3px 1px rgba(60, 64, 67, 0.15);\n",
              "      fill: #174EA6;\n",
              "    }\n",
              "\n",
              "    [theme=dark] .colab-df-convert {\n",
              "      background-color: #3B4455;\n",
              "      fill: #D2E3FC;\n",
              "    }\n",
              "\n",
              "    [theme=dark] .colab-df-convert:hover {\n",
              "      background-color: #434B5C;\n",
              "      box-shadow: 0px 1px 3px 1px rgba(0, 0, 0, 0.15);\n",
              "      filter: drop-shadow(0px 1px 2px rgba(0, 0, 0, 0.3));\n",
              "      fill: #FFFFFF;\n",
              "    }\n",
              "  </style>\n",
              "\n",
              "      <script>\n",
              "        const buttonEl =\n",
              "          document.querySelector('#df-d3c326e6-504f-4b58-b2ff-3fbc1bdb771e button.colab-df-convert');\n",
              "        buttonEl.style.display =\n",
              "          google.colab.kernel.accessAllowed ? 'block' : 'none';\n",
              "\n",
              "        async function convertToInteractive(key) {\n",
              "          const element = document.querySelector('#df-d3c326e6-504f-4b58-b2ff-3fbc1bdb771e');\n",
              "          const dataTable =\n",
              "            await google.colab.kernel.invokeFunction('convertToInteractive',\n",
              "                                                     [key], {});\n",
              "          if (!dataTable) return;\n",
              "\n",
              "          const docLinkHtml = 'Like what you see? Visit the ' +\n",
              "            '<a target=\"_blank\" href=https://colab.research.google.com/notebooks/data_table.ipynb>data table notebook</a>'\n",
              "            + ' to learn more about interactive tables.';\n",
              "          element.innerHTML = '';\n",
              "          dataTable['output_type'] = 'display_data';\n",
              "          await google.colab.output.renderOutput(dataTable, element);\n",
              "          const docLink = document.createElement('div');\n",
              "          docLink.innerHTML = docLinkHtml;\n",
              "          element.appendChild(docLink);\n",
              "        }\n",
              "      </script>\n",
              "    </div>\n",
              "  </div>\n",
              "  "
            ]
          },
          "metadata": {},
          "execution_count": 40
        }
      ]
    },
    {
      "cell_type": "code",
      "source": [
        "pred_df.columns= ['a', 'b', 'c', 'd']"
      ],
      "metadata": {
        "id": "vhj-Bp3tVjpN"
      },
      "execution_count": 41,
      "outputs": []
    },
    {
      "cell_type": "code",
      "source": [
        "test.head()"
      ],
      "metadata": {
        "colab": {
          "base_uri": "https://localhost:8080/",
          "height": 206
        },
        "id": "fFGJZvMwYNW8",
        "outputId": "80a3cf04-1fc9-4ced-f4bf-3093f4269ce2"
      },
      "execution_count": 42,
      "outputs": [
        {
          "output_type": "execute_result",
          "data": {
            "text/plain": [
              "         date  meantemp   humidity  wind_speed  meanpressure\n",
              "91 2017-04-02 -1.625000  -1.375000    9.262500     -0.750000\n",
              "92 2017-04-03  0.750000  -4.000000    6.937500      0.000000\n",
              "93 2017-04-04  0.433333   2.116667   14.320000      2.950000\n",
              "94 2017-04-05 -1.702564  14.133333   14.384615     -2.200000\n",
              "95 2017-04-06  1.991453 -20.000000   13.577778     -2.111111"
            ],
            "text/html": [
              "\n",
              "  <div id=\"df-f470b1cb-0162-46cd-abc4-cf9f52925bad\">\n",
              "    <div class=\"colab-df-container\">\n",
              "      <div>\n",
              "<style scoped>\n",
              "    .dataframe tbody tr th:only-of-type {\n",
              "        vertical-align: middle;\n",
              "    }\n",
              "\n",
              "    .dataframe tbody tr th {\n",
              "        vertical-align: top;\n",
              "    }\n",
              "\n",
              "    .dataframe thead th {\n",
              "        text-align: right;\n",
              "    }\n",
              "</style>\n",
              "<table border=\"1\" class=\"dataframe\">\n",
              "  <thead>\n",
              "    <tr style=\"text-align: right;\">\n",
              "      <th></th>\n",
              "      <th>date</th>\n",
              "      <th>meantemp</th>\n",
              "      <th>humidity</th>\n",
              "      <th>wind_speed</th>\n",
              "      <th>meanpressure</th>\n",
              "    </tr>\n",
              "  </thead>\n",
              "  <tbody>\n",
              "    <tr>\n",
              "      <th>91</th>\n",
              "      <td>2017-04-02</td>\n",
              "      <td>-1.625000</td>\n",
              "      <td>-1.375000</td>\n",
              "      <td>9.262500</td>\n",
              "      <td>-0.750000</td>\n",
              "    </tr>\n",
              "    <tr>\n",
              "      <th>92</th>\n",
              "      <td>2017-04-03</td>\n",
              "      <td>0.750000</td>\n",
              "      <td>-4.000000</td>\n",
              "      <td>6.937500</td>\n",
              "      <td>0.000000</td>\n",
              "    </tr>\n",
              "    <tr>\n",
              "      <th>93</th>\n",
              "      <td>2017-04-04</td>\n",
              "      <td>0.433333</td>\n",
              "      <td>2.116667</td>\n",
              "      <td>14.320000</td>\n",
              "      <td>2.950000</td>\n",
              "    </tr>\n",
              "    <tr>\n",
              "      <th>94</th>\n",
              "      <td>2017-04-05</td>\n",
              "      <td>-1.702564</td>\n",
              "      <td>14.133333</td>\n",
              "      <td>14.384615</td>\n",
              "      <td>-2.200000</td>\n",
              "    </tr>\n",
              "    <tr>\n",
              "      <th>95</th>\n",
              "      <td>2017-04-06</td>\n",
              "      <td>1.991453</td>\n",
              "      <td>-20.000000</td>\n",
              "      <td>13.577778</td>\n",
              "      <td>-2.111111</td>\n",
              "    </tr>\n",
              "  </tbody>\n",
              "</table>\n",
              "</div>\n",
              "      <button class=\"colab-df-convert\" onclick=\"convertToInteractive('df-f470b1cb-0162-46cd-abc4-cf9f52925bad')\"\n",
              "              title=\"Convert this dataframe to an interactive table.\"\n",
              "              style=\"display:none;\">\n",
              "        \n",
              "  <svg xmlns=\"http://www.w3.org/2000/svg\" height=\"24px\"viewBox=\"0 0 24 24\"\n",
              "       width=\"24px\">\n",
              "    <path d=\"M0 0h24v24H0V0z\" fill=\"none\"/>\n",
              "    <path d=\"M18.56 5.44l.94 2.06.94-2.06 2.06-.94-2.06-.94-.94-2.06-.94 2.06-2.06.94zm-11 1L8.5 8.5l.94-2.06 2.06-.94-2.06-.94L8.5 2.5l-.94 2.06-2.06.94zm10 10l.94 2.06.94-2.06 2.06-.94-2.06-.94-.94-2.06-.94 2.06-2.06.94z\"/><path d=\"M17.41 7.96l-1.37-1.37c-.4-.4-.92-.59-1.43-.59-.52 0-1.04.2-1.43.59L10.3 9.45l-7.72 7.72c-.78.78-.78 2.05 0 2.83L4 21.41c.39.39.9.59 1.41.59.51 0 1.02-.2 1.41-.59l7.78-7.78 2.81-2.81c.8-.78.8-2.07 0-2.86zM5.41 20L4 18.59l7.72-7.72 1.47 1.35L5.41 20z\"/>\n",
              "  </svg>\n",
              "      </button>\n",
              "      \n",
              "  <style>\n",
              "    .colab-df-container {\n",
              "      display:flex;\n",
              "      flex-wrap:wrap;\n",
              "      gap: 12px;\n",
              "    }\n",
              "\n",
              "    .colab-df-convert {\n",
              "      background-color: #E8F0FE;\n",
              "      border: none;\n",
              "      border-radius: 50%;\n",
              "      cursor: pointer;\n",
              "      display: none;\n",
              "      fill: #1967D2;\n",
              "      height: 32px;\n",
              "      padding: 0 0 0 0;\n",
              "      width: 32px;\n",
              "    }\n",
              "\n",
              "    .colab-df-convert:hover {\n",
              "      background-color: #E2EBFA;\n",
              "      box-shadow: 0px 1px 2px rgba(60, 64, 67, 0.3), 0px 1px 3px 1px rgba(60, 64, 67, 0.15);\n",
              "      fill: #174EA6;\n",
              "    }\n",
              "\n",
              "    [theme=dark] .colab-df-convert {\n",
              "      background-color: #3B4455;\n",
              "      fill: #D2E3FC;\n",
              "    }\n",
              "\n",
              "    [theme=dark] .colab-df-convert:hover {\n",
              "      background-color: #434B5C;\n",
              "      box-shadow: 0px 1px 3px 1px rgba(0, 0, 0, 0.15);\n",
              "      filter: drop-shadow(0px 1px 2px rgba(0, 0, 0, 0.3));\n",
              "      fill: #FFFFFF;\n",
              "    }\n",
              "  </style>\n",
              "\n",
              "      <script>\n",
              "        const buttonEl =\n",
              "          document.querySelector('#df-f470b1cb-0162-46cd-abc4-cf9f52925bad button.colab-df-convert');\n",
              "        buttonEl.style.display =\n",
              "          google.colab.kernel.accessAllowed ? 'block' : 'none';\n",
              "\n",
              "        async function convertToInteractive(key) {\n",
              "          const element = document.querySelector('#df-f470b1cb-0162-46cd-abc4-cf9f52925bad');\n",
              "          const dataTable =\n",
              "            await google.colab.kernel.invokeFunction('convertToInteractive',\n",
              "                                                     [key], {});\n",
              "          if (!dataTable) return;\n",
              "\n",
              "          const docLinkHtml = 'Like what you see? Visit the ' +\n",
              "            '<a target=\"_blank\" href=https://colab.research.google.com/notebooks/data_table.ipynb>data table notebook</a>'\n",
              "            + ' to learn more about interactive tables.';\n",
              "          element.innerHTML = '';\n",
              "          dataTable['output_type'] = 'display_data';\n",
              "          await google.colab.output.renderOutput(dataTable, element);\n",
              "          const docLink = document.createElement('div');\n",
              "          docLink.innerHTML = docLinkHtml;\n",
              "          element.appendChild(docLink);\n",
              "        }\n",
              "      </script>\n",
              "    </div>\n",
              "  </div>\n",
              "  "
            ]
          },
          "metadata": {},
          "execution_count": 42
        }
      ]
    },
    {
      "cell_type": "code",
      "source": [
        "test.reset_index(inplace = True)"
      ],
      "metadata": {
        "id": "Ak3_YZUeX2fe"
      },
      "execution_count": 43,
      "outputs": []
    },
    {
      "cell_type": "code",
      "source": [
        "from sklearn.metrics import mean_squared_error\n",
        "from math import sqrt\n",
        "\n",
        "rms = sqrt(mean_squared_error(test['meantemp'], pred_df['a']))\n",
        "rms"
      ],
      "metadata": {
        "colab": {
          "base_uri": "https://localhost:8080/"
        },
        "id": "xLOtCsGOXtBs",
        "outputId": "9392f7ae-1de6-4549-ac8b-9de1c8313b31"
      },
      "execution_count": 44,
      "outputs": [
        {
          "output_type": "execute_result",
          "data": {
            "text/plain": [
              "1.3752974407537286"
            ]
          },
          "metadata": {},
          "execution_count": 44
        }
      ]
    },
    {
      "cell_type": "code",
      "source": [
        "MAPE(test['meantemp'], pred_df['a'])  # due to negative and postive it is not able to calculate"
      ],
      "metadata": {
        "colab": {
          "base_uri": "https://localhost:8080/"
        },
        "id": "bgWn4unwW4w4",
        "outputId": "9e29878a-8c5d-4712-a09f-10f5f1f1bde6"
      },
      "execution_count": 45,
      "outputs": [
        {
          "output_type": "execute_result",
          "data": {
            "text/plain": [
              "inf"
            ]
          },
          "metadata": {},
          "execution_count": 45
        }
      ]
    },
    {
      "cell_type": "code",
      "source": [
        "test.join(pred_df['a']) ## adding predicted temp to test data"
      ],
      "metadata": {
        "colab": {
          "base_uri": "https://localhost:8080/",
          "height": 770
        },
        "id": "0KuL-4tRVJhe",
        "outputId": "fce58cf0-51e0-49c0-e2fa-0c7beb2d17c8"
      },
      "execution_count": 46,
      "outputs": [
        {
          "output_type": "execute_result",
          "data": {
            "text/plain": [
              "    index       date  meantemp   humidity  wind_speed  meanpressure         a\n",
              "0      91 2017-04-02 -1.625000  -1.375000    9.262500     -0.750000 -0.307797\n",
              "1      92 2017-04-03  0.750000  -4.000000    6.937500      0.000000  0.345292\n",
              "2      93 2017-04-04  0.433333   2.116667   14.320000      2.950000  0.109990\n",
              "3      94 2017-04-05 -1.702564  14.133333   14.384615     -2.200000  0.186332\n",
              "4      95 2017-04-06  1.991453 -20.000000   13.577778     -2.111111  0.143496\n",
              "5      96 2017-04-07 -4.222222   3.875000    4.650000      4.486111  0.158508\n",
              "6      97 2017-04-08 -1.375000  -0.500000    8.337500      3.000000  0.150795\n",
              "7      98 2017-04-09  1.500000  -8.250000   14.125000      0.250000  0.153151\n",
              "8      99 2017-04-10  0.732143  -1.696429   19.314286     -2.053571  0.152189\n",
              "9     100 2017-04-11  1.392857  -1.678571   15.512500     -2.321429  0.152754\n",
              "10    101 2017-04-12  0.000000   8.250000    9.487500     -0.375000  0.152535\n",
              "11    102 2017-04-13  0.416667   3.111111    4.944444      0.902778  0.152599\n",
              "12    103 2017-04-14  0.833333   8.513889    1.387500     -2.152778  0.152575\n",
              "13    104 2017-04-15  0.722222  -7.180556    5.966667     -2.180556  0.152593\n",
              "14    105 2017-04-16 -0.222222   3.805556    2.100000      0.805556  0.152585\n",
              "15    106 2017-04-17  1.555556   4.194444    5.366667      1.194444  0.152587\n",
              "16    107 2017-04-18  1.444444 -11.111111    7.811111     -1.333333  0.152586\n",
              "17    108 2017-04-19 -0.500000  -3.208333    9.025000     -2.236111  0.152587\n",
              "18    109 2017-04-20  1.000000   3.375000    5.562500     -2.250000  0.152586\n",
              "19    110 2017-04-21 -0.250000  11.875000    6.962500      1.250000  0.152586\n",
              "20    111 2017-04-22 -1.350000   1.525000    8.890000      1.725000  0.152586\n",
              "21    112 2017-04-23 -0.025000 -13.400000    9.962500      0.525000  0.152586\n",
              "22    113 2017-04-24 -0.875000  -0.357143   12.157143      2.017857  0.152586"
            ],
            "text/html": [
              "\n",
              "  <div id=\"df-2f96c244-fdb6-4f93-9948-eaddecb06fdd\">\n",
              "    <div class=\"colab-df-container\">\n",
              "      <div>\n",
              "<style scoped>\n",
              "    .dataframe tbody tr th:only-of-type {\n",
              "        vertical-align: middle;\n",
              "    }\n",
              "\n",
              "    .dataframe tbody tr th {\n",
              "        vertical-align: top;\n",
              "    }\n",
              "\n",
              "    .dataframe thead th {\n",
              "        text-align: right;\n",
              "    }\n",
              "</style>\n",
              "<table border=\"1\" class=\"dataframe\">\n",
              "  <thead>\n",
              "    <tr style=\"text-align: right;\">\n",
              "      <th></th>\n",
              "      <th>index</th>\n",
              "      <th>date</th>\n",
              "      <th>meantemp</th>\n",
              "      <th>humidity</th>\n",
              "      <th>wind_speed</th>\n",
              "      <th>meanpressure</th>\n",
              "      <th>a</th>\n",
              "    </tr>\n",
              "  </thead>\n",
              "  <tbody>\n",
              "    <tr>\n",
              "      <th>0</th>\n",
              "      <td>91</td>\n",
              "      <td>2017-04-02</td>\n",
              "      <td>-1.625000</td>\n",
              "      <td>-1.375000</td>\n",
              "      <td>9.262500</td>\n",
              "      <td>-0.750000</td>\n",
              "      <td>-0.307797</td>\n",
              "    </tr>\n",
              "    <tr>\n",
              "      <th>1</th>\n",
              "      <td>92</td>\n",
              "      <td>2017-04-03</td>\n",
              "      <td>0.750000</td>\n",
              "      <td>-4.000000</td>\n",
              "      <td>6.937500</td>\n",
              "      <td>0.000000</td>\n",
              "      <td>0.345292</td>\n",
              "    </tr>\n",
              "    <tr>\n",
              "      <th>2</th>\n",
              "      <td>93</td>\n",
              "      <td>2017-04-04</td>\n",
              "      <td>0.433333</td>\n",
              "      <td>2.116667</td>\n",
              "      <td>14.320000</td>\n",
              "      <td>2.950000</td>\n",
              "      <td>0.109990</td>\n",
              "    </tr>\n",
              "    <tr>\n",
              "      <th>3</th>\n",
              "      <td>94</td>\n",
              "      <td>2017-04-05</td>\n",
              "      <td>-1.702564</td>\n",
              "      <td>14.133333</td>\n",
              "      <td>14.384615</td>\n",
              "      <td>-2.200000</td>\n",
              "      <td>0.186332</td>\n",
              "    </tr>\n",
              "    <tr>\n",
              "      <th>4</th>\n",
              "      <td>95</td>\n",
              "      <td>2017-04-06</td>\n",
              "      <td>1.991453</td>\n",
              "      <td>-20.000000</td>\n",
              "      <td>13.577778</td>\n",
              "      <td>-2.111111</td>\n",
              "      <td>0.143496</td>\n",
              "    </tr>\n",
              "    <tr>\n",
              "      <th>5</th>\n",
              "      <td>96</td>\n",
              "      <td>2017-04-07</td>\n",
              "      <td>-4.222222</td>\n",
              "      <td>3.875000</td>\n",
              "      <td>4.650000</td>\n",
              "      <td>4.486111</td>\n",
              "      <td>0.158508</td>\n",
              "    </tr>\n",
              "    <tr>\n",
              "      <th>6</th>\n",
              "      <td>97</td>\n",
              "      <td>2017-04-08</td>\n",
              "      <td>-1.375000</td>\n",
              "      <td>-0.500000</td>\n",
              "      <td>8.337500</td>\n",
              "      <td>3.000000</td>\n",
              "      <td>0.150795</td>\n",
              "    </tr>\n",
              "    <tr>\n",
              "      <th>7</th>\n",
              "      <td>98</td>\n",
              "      <td>2017-04-09</td>\n",
              "      <td>1.500000</td>\n",
              "      <td>-8.250000</td>\n",
              "      <td>14.125000</td>\n",
              "      <td>0.250000</td>\n",
              "      <td>0.153151</td>\n",
              "    </tr>\n",
              "    <tr>\n",
              "      <th>8</th>\n",
              "      <td>99</td>\n",
              "      <td>2017-04-10</td>\n",
              "      <td>0.732143</td>\n",
              "      <td>-1.696429</td>\n",
              "      <td>19.314286</td>\n",
              "      <td>-2.053571</td>\n",
              "      <td>0.152189</td>\n",
              "    </tr>\n",
              "    <tr>\n",
              "      <th>9</th>\n",
              "      <td>100</td>\n",
              "      <td>2017-04-11</td>\n",
              "      <td>1.392857</td>\n",
              "      <td>-1.678571</td>\n",
              "      <td>15.512500</td>\n",
              "      <td>-2.321429</td>\n",
              "      <td>0.152754</td>\n",
              "    </tr>\n",
              "    <tr>\n",
              "      <th>10</th>\n",
              "      <td>101</td>\n",
              "      <td>2017-04-12</td>\n",
              "      <td>0.000000</td>\n",
              "      <td>8.250000</td>\n",
              "      <td>9.487500</td>\n",
              "      <td>-0.375000</td>\n",
              "      <td>0.152535</td>\n",
              "    </tr>\n",
              "    <tr>\n",
              "      <th>11</th>\n",
              "      <td>102</td>\n",
              "      <td>2017-04-13</td>\n",
              "      <td>0.416667</td>\n",
              "      <td>3.111111</td>\n",
              "      <td>4.944444</td>\n",
              "      <td>0.902778</td>\n",
              "      <td>0.152599</td>\n",
              "    </tr>\n",
              "    <tr>\n",
              "      <th>12</th>\n",
              "      <td>103</td>\n",
              "      <td>2017-04-14</td>\n",
              "      <td>0.833333</td>\n",
              "      <td>8.513889</td>\n",
              "      <td>1.387500</td>\n",
              "      <td>-2.152778</td>\n",
              "      <td>0.152575</td>\n",
              "    </tr>\n",
              "    <tr>\n",
              "      <th>13</th>\n",
              "      <td>104</td>\n",
              "      <td>2017-04-15</td>\n",
              "      <td>0.722222</td>\n",
              "      <td>-7.180556</td>\n",
              "      <td>5.966667</td>\n",
              "      <td>-2.180556</td>\n",
              "      <td>0.152593</td>\n",
              "    </tr>\n",
              "    <tr>\n",
              "      <th>14</th>\n",
              "      <td>105</td>\n",
              "      <td>2017-04-16</td>\n",
              "      <td>-0.222222</td>\n",
              "      <td>3.805556</td>\n",
              "      <td>2.100000</td>\n",
              "      <td>0.805556</td>\n",
              "      <td>0.152585</td>\n",
              "    </tr>\n",
              "    <tr>\n",
              "      <th>15</th>\n",
              "      <td>106</td>\n",
              "      <td>2017-04-17</td>\n",
              "      <td>1.555556</td>\n",
              "      <td>4.194444</td>\n",
              "      <td>5.366667</td>\n",
              "      <td>1.194444</td>\n",
              "      <td>0.152587</td>\n",
              "    </tr>\n",
              "    <tr>\n",
              "      <th>16</th>\n",
              "      <td>107</td>\n",
              "      <td>2017-04-18</td>\n",
              "      <td>1.444444</td>\n",
              "      <td>-11.111111</td>\n",
              "      <td>7.811111</td>\n",
              "      <td>-1.333333</td>\n",
              "      <td>0.152586</td>\n",
              "    </tr>\n",
              "    <tr>\n",
              "      <th>17</th>\n",
              "      <td>108</td>\n",
              "      <td>2017-04-19</td>\n",
              "      <td>-0.500000</td>\n",
              "      <td>-3.208333</td>\n",
              "      <td>9.025000</td>\n",
              "      <td>-2.236111</td>\n",
              "      <td>0.152587</td>\n",
              "    </tr>\n",
              "    <tr>\n",
              "      <th>18</th>\n",
              "      <td>109</td>\n",
              "      <td>2017-04-20</td>\n",
              "      <td>1.000000</td>\n",
              "      <td>3.375000</td>\n",
              "      <td>5.562500</td>\n",
              "      <td>-2.250000</td>\n",
              "      <td>0.152586</td>\n",
              "    </tr>\n",
              "    <tr>\n",
              "      <th>19</th>\n",
              "      <td>110</td>\n",
              "      <td>2017-04-21</td>\n",
              "      <td>-0.250000</td>\n",
              "      <td>11.875000</td>\n",
              "      <td>6.962500</td>\n",
              "      <td>1.250000</td>\n",
              "      <td>0.152586</td>\n",
              "    </tr>\n",
              "    <tr>\n",
              "      <th>20</th>\n",
              "      <td>111</td>\n",
              "      <td>2017-04-22</td>\n",
              "      <td>-1.350000</td>\n",
              "      <td>1.525000</td>\n",
              "      <td>8.890000</td>\n",
              "      <td>1.725000</td>\n",
              "      <td>0.152586</td>\n",
              "    </tr>\n",
              "    <tr>\n",
              "      <th>21</th>\n",
              "      <td>112</td>\n",
              "      <td>2017-04-23</td>\n",
              "      <td>-0.025000</td>\n",
              "      <td>-13.400000</td>\n",
              "      <td>9.962500</td>\n",
              "      <td>0.525000</td>\n",
              "      <td>0.152586</td>\n",
              "    </tr>\n",
              "    <tr>\n",
              "      <th>22</th>\n",
              "      <td>113</td>\n",
              "      <td>2017-04-24</td>\n",
              "      <td>-0.875000</td>\n",
              "      <td>-0.357143</td>\n",
              "      <td>12.157143</td>\n",
              "      <td>2.017857</td>\n",
              "      <td>0.152586</td>\n",
              "    </tr>\n",
              "  </tbody>\n",
              "</table>\n",
              "</div>\n",
              "      <button class=\"colab-df-convert\" onclick=\"convertToInteractive('df-2f96c244-fdb6-4f93-9948-eaddecb06fdd')\"\n",
              "              title=\"Convert this dataframe to an interactive table.\"\n",
              "              style=\"display:none;\">\n",
              "        \n",
              "  <svg xmlns=\"http://www.w3.org/2000/svg\" height=\"24px\"viewBox=\"0 0 24 24\"\n",
              "       width=\"24px\">\n",
              "    <path d=\"M0 0h24v24H0V0z\" fill=\"none\"/>\n",
              "    <path d=\"M18.56 5.44l.94 2.06.94-2.06 2.06-.94-2.06-.94-.94-2.06-.94 2.06-2.06.94zm-11 1L8.5 8.5l.94-2.06 2.06-.94-2.06-.94L8.5 2.5l-.94 2.06-2.06.94zm10 10l.94 2.06.94-2.06 2.06-.94-2.06-.94-.94-2.06-.94 2.06-2.06.94z\"/><path d=\"M17.41 7.96l-1.37-1.37c-.4-.4-.92-.59-1.43-.59-.52 0-1.04.2-1.43.59L10.3 9.45l-7.72 7.72c-.78.78-.78 2.05 0 2.83L4 21.41c.39.39.9.59 1.41.59.51 0 1.02-.2 1.41-.59l7.78-7.78 2.81-2.81c.8-.78.8-2.07 0-2.86zM5.41 20L4 18.59l7.72-7.72 1.47 1.35L5.41 20z\"/>\n",
              "  </svg>\n",
              "      </button>\n",
              "      \n",
              "  <style>\n",
              "    .colab-df-container {\n",
              "      display:flex;\n",
              "      flex-wrap:wrap;\n",
              "      gap: 12px;\n",
              "    }\n",
              "\n",
              "    .colab-df-convert {\n",
              "      background-color: #E8F0FE;\n",
              "      border: none;\n",
              "      border-radius: 50%;\n",
              "      cursor: pointer;\n",
              "      display: none;\n",
              "      fill: #1967D2;\n",
              "      height: 32px;\n",
              "      padding: 0 0 0 0;\n",
              "      width: 32px;\n",
              "    }\n",
              "\n",
              "    .colab-df-convert:hover {\n",
              "      background-color: #E2EBFA;\n",
              "      box-shadow: 0px 1px 2px rgba(60, 64, 67, 0.3), 0px 1px 3px 1px rgba(60, 64, 67, 0.15);\n",
              "      fill: #174EA6;\n",
              "    }\n",
              "\n",
              "    [theme=dark] .colab-df-convert {\n",
              "      background-color: #3B4455;\n",
              "      fill: #D2E3FC;\n",
              "    }\n",
              "\n",
              "    [theme=dark] .colab-df-convert:hover {\n",
              "      background-color: #434B5C;\n",
              "      box-shadow: 0px 1px 3px 1px rgba(0, 0, 0, 0.15);\n",
              "      filter: drop-shadow(0px 1px 2px rgba(0, 0, 0, 0.3));\n",
              "      fill: #FFFFFF;\n",
              "    }\n",
              "  </style>\n",
              "\n",
              "      <script>\n",
              "        const buttonEl =\n",
              "          document.querySelector('#df-2f96c244-fdb6-4f93-9948-eaddecb06fdd button.colab-df-convert');\n",
              "        buttonEl.style.display =\n",
              "          google.colab.kernel.accessAllowed ? 'block' : 'none';\n",
              "\n",
              "        async function convertToInteractive(key) {\n",
              "          const element = document.querySelector('#df-2f96c244-fdb6-4f93-9948-eaddecb06fdd');\n",
              "          const dataTable =\n",
              "            await google.colab.kernel.invokeFunction('convertToInteractive',\n",
              "                                                     [key], {});\n",
              "          if (!dataTable) return;\n",
              "\n",
              "          const docLinkHtml = 'Like what you see? Visit the ' +\n",
              "            '<a target=\"_blank\" href=https://colab.research.google.com/notebooks/data_table.ipynb>data table notebook</a>'\n",
              "            + ' to learn more about interactive tables.';\n",
              "          element.innerHTML = '';\n",
              "          dataTable['output_type'] = 'display_data';\n",
              "          await google.colab.output.renderOutput(dataTable, element);\n",
              "          const docLink = document.createElement('div');\n",
              "          docLink.innerHTML = docLinkHtml;\n",
              "          element.appendChild(docLink);\n",
              "        }\n",
              "      </script>\n",
              "    </div>\n",
              "  </div>\n",
              "  "
            ]
          },
          "metadata": {},
          "execution_count": 46
        }
      ]
    },
    {
      "cell_type": "code",
      "source": [
        "df_coeff = pd.DataFrame([VAR_model.params['meantemp'], VAR_model.pvalues['meantemp']]).T  # give the coefficent and  p value of meantemp var \n"
      ],
      "metadata": {
        "id": "yb3fJAX2QF_u"
      },
      "execution_count": 47,
      "outputs": []
    },
    {
      "cell_type": "code",
      "source": [
        "df_coeff.columns = ['coeff', 'pval']"
      ],
      "metadata": {
        "id": "qhdYxGf3RWEA"
      },
      "execution_count": 48,
      "outputs": []
    },
    {
      "cell_type": "code",
      "source": [
        "df_coeff.query('pval< 0.05')\n",
        "np.where(df_coeff['pval'] <0.05, 1,0)\n",
        "\n",
        "df_coeff['valid'] = np.where(df_coeff['pval'] <0.05, 1,0)"
      ],
      "metadata": {
        "id": "3LcnZli4SBf3"
      },
      "execution_count": 49,
      "outputs": []
    },
    {
      "cell_type": "code",
      "source": [
        "df_coeff"
      ],
      "metadata": {
        "colab": {
          "base_uri": "https://localhost:8080/",
          "height": 332
        },
        "id": "MFs-xIckSCaT",
        "outputId": "073c3d40-6834-4c30-80bd-b27e207f68ea"
      },
      "execution_count": 50,
      "outputs": [
        {
          "output_type": "execute_result",
          "data": {
            "text/plain": [
              "                    coeff      pval  valid\n",
              "const           -0.169287  0.780183      0\n",
              "L1.meantemp     -0.052864  0.651619      0\n",
              "L1.humidity      0.033915  0.276702      0\n",
              "L1.wind_speed   -0.090511  0.145039      0\n",
              "L1.meanpressure  0.000687  0.796689      0\n",
              "L2.meantemp     -0.077957  0.547204      0\n",
              "L2.humidity     -0.022084  0.422422      0\n",
              "L2.wind_speed    0.133297  0.033270      1\n",
              "L2.meanpressure  0.001636  0.379798      0"
            ],
            "text/html": [
              "\n",
              "  <div id=\"df-d48c6069-a727-4736-a7ab-238aeea22f85\">\n",
              "    <div class=\"colab-df-container\">\n",
              "      <div>\n",
              "<style scoped>\n",
              "    .dataframe tbody tr th:only-of-type {\n",
              "        vertical-align: middle;\n",
              "    }\n",
              "\n",
              "    .dataframe tbody tr th {\n",
              "        vertical-align: top;\n",
              "    }\n",
              "\n",
              "    .dataframe thead th {\n",
              "        text-align: right;\n",
              "    }\n",
              "</style>\n",
              "<table border=\"1\" class=\"dataframe\">\n",
              "  <thead>\n",
              "    <tr style=\"text-align: right;\">\n",
              "      <th></th>\n",
              "      <th>coeff</th>\n",
              "      <th>pval</th>\n",
              "      <th>valid</th>\n",
              "    </tr>\n",
              "  </thead>\n",
              "  <tbody>\n",
              "    <tr>\n",
              "      <th>const</th>\n",
              "      <td>-0.169287</td>\n",
              "      <td>0.780183</td>\n",
              "      <td>0</td>\n",
              "    </tr>\n",
              "    <tr>\n",
              "      <th>L1.meantemp</th>\n",
              "      <td>-0.052864</td>\n",
              "      <td>0.651619</td>\n",
              "      <td>0</td>\n",
              "    </tr>\n",
              "    <tr>\n",
              "      <th>L1.humidity</th>\n",
              "      <td>0.033915</td>\n",
              "      <td>0.276702</td>\n",
              "      <td>0</td>\n",
              "    </tr>\n",
              "    <tr>\n",
              "      <th>L1.wind_speed</th>\n",
              "      <td>-0.090511</td>\n",
              "      <td>0.145039</td>\n",
              "      <td>0</td>\n",
              "    </tr>\n",
              "    <tr>\n",
              "      <th>L1.meanpressure</th>\n",
              "      <td>0.000687</td>\n",
              "      <td>0.796689</td>\n",
              "      <td>0</td>\n",
              "    </tr>\n",
              "    <tr>\n",
              "      <th>L2.meantemp</th>\n",
              "      <td>-0.077957</td>\n",
              "      <td>0.547204</td>\n",
              "      <td>0</td>\n",
              "    </tr>\n",
              "    <tr>\n",
              "      <th>L2.humidity</th>\n",
              "      <td>-0.022084</td>\n",
              "      <td>0.422422</td>\n",
              "      <td>0</td>\n",
              "    </tr>\n",
              "    <tr>\n",
              "      <th>L2.wind_speed</th>\n",
              "      <td>0.133297</td>\n",
              "      <td>0.033270</td>\n",
              "      <td>1</td>\n",
              "    </tr>\n",
              "    <tr>\n",
              "      <th>L2.meanpressure</th>\n",
              "      <td>0.001636</td>\n",
              "      <td>0.379798</td>\n",
              "      <td>0</td>\n",
              "    </tr>\n",
              "  </tbody>\n",
              "</table>\n",
              "</div>\n",
              "      <button class=\"colab-df-convert\" onclick=\"convertToInteractive('df-d48c6069-a727-4736-a7ab-238aeea22f85')\"\n",
              "              title=\"Convert this dataframe to an interactive table.\"\n",
              "              style=\"display:none;\">\n",
              "        \n",
              "  <svg xmlns=\"http://www.w3.org/2000/svg\" height=\"24px\"viewBox=\"0 0 24 24\"\n",
              "       width=\"24px\">\n",
              "    <path d=\"M0 0h24v24H0V0z\" fill=\"none\"/>\n",
              "    <path d=\"M18.56 5.44l.94 2.06.94-2.06 2.06-.94-2.06-.94-.94-2.06-.94 2.06-2.06.94zm-11 1L8.5 8.5l.94-2.06 2.06-.94-2.06-.94L8.5 2.5l-.94 2.06-2.06.94zm10 10l.94 2.06.94-2.06 2.06-.94-2.06-.94-.94-2.06-.94 2.06-2.06.94z\"/><path d=\"M17.41 7.96l-1.37-1.37c-.4-.4-.92-.59-1.43-.59-.52 0-1.04.2-1.43.59L10.3 9.45l-7.72 7.72c-.78.78-.78 2.05 0 2.83L4 21.41c.39.39.9.59 1.41.59.51 0 1.02-.2 1.41-.59l7.78-7.78 2.81-2.81c.8-.78.8-2.07 0-2.86zM5.41 20L4 18.59l7.72-7.72 1.47 1.35L5.41 20z\"/>\n",
              "  </svg>\n",
              "      </button>\n",
              "      \n",
              "  <style>\n",
              "    .colab-df-container {\n",
              "      display:flex;\n",
              "      flex-wrap:wrap;\n",
              "      gap: 12px;\n",
              "    }\n",
              "\n",
              "    .colab-df-convert {\n",
              "      background-color: #E8F0FE;\n",
              "      border: none;\n",
              "      border-radius: 50%;\n",
              "      cursor: pointer;\n",
              "      display: none;\n",
              "      fill: #1967D2;\n",
              "      height: 32px;\n",
              "      padding: 0 0 0 0;\n",
              "      width: 32px;\n",
              "    }\n",
              "\n",
              "    .colab-df-convert:hover {\n",
              "      background-color: #E2EBFA;\n",
              "      box-shadow: 0px 1px 2px rgba(60, 64, 67, 0.3), 0px 1px 3px 1px rgba(60, 64, 67, 0.15);\n",
              "      fill: #174EA6;\n",
              "    }\n",
              "\n",
              "    [theme=dark] .colab-df-convert {\n",
              "      background-color: #3B4455;\n",
              "      fill: #D2E3FC;\n",
              "    }\n",
              "\n",
              "    [theme=dark] .colab-df-convert:hover {\n",
              "      background-color: #434B5C;\n",
              "      box-shadow: 0px 1px 3px 1px rgba(0, 0, 0, 0.15);\n",
              "      filter: drop-shadow(0px 1px 2px rgba(0, 0, 0, 0.3));\n",
              "      fill: #FFFFFF;\n",
              "    }\n",
              "  </style>\n",
              "\n",
              "      <script>\n",
              "        const buttonEl =\n",
              "          document.querySelector('#df-d48c6069-a727-4736-a7ab-238aeea22f85 button.colab-df-convert');\n",
              "        buttonEl.style.display =\n",
              "          google.colab.kernel.accessAllowed ? 'block' : 'none';\n",
              "\n",
              "        async function convertToInteractive(key) {\n",
              "          const element = document.querySelector('#df-d48c6069-a727-4736-a7ab-238aeea22f85');\n",
              "          const dataTable =\n",
              "            await google.colab.kernel.invokeFunction('convertToInteractive',\n",
              "                                                     [key], {});\n",
              "          if (!dataTable) return;\n",
              "\n",
              "          const docLinkHtml = 'Like what you see? Visit the ' +\n",
              "            '<a target=\"_blank\" href=https://colab.research.google.com/notebooks/data_table.ipynb>data table notebook</a>'\n",
              "            + ' to learn more about interactive tables.';\n",
              "          element.innerHTML = '';\n",
              "          dataTable['output_type'] = 'display_data';\n",
              "          await google.colab.output.renderOutput(dataTable, element);\n",
              "          const docLink = document.createElement('div');\n",
              "          docLink.innerHTML = docLinkHtml;\n",
              "          element.appendChild(docLink);\n",
              "        }\n",
              "      </script>\n",
              "    </div>\n",
              "  </div>\n",
              "  "
            ]
          },
          "metadata": {},
          "execution_count": 50
        }
      ]
    },
    {
      "cell_type": "code",
      "source": [],
      "metadata": {
        "id": "2e0NHqoTSCd3"
      },
      "execution_count": 50,
      "outputs": []
    }
  ]
}