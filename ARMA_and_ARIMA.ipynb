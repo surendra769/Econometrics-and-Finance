{
  "nbformat": 4,
  "nbformat_minor": 0,
  "metadata": {
    "colab": {
      "provenance": []
    },
    "kernelspec": {
      "name": "python3",
      "display_name": "Python 3"
    },
    "language_info": {
      "name": "python"
    },
    "widgets": {
      "application/vnd.jupyter.widget-state+json": {
        "f6adc2b0df8f448aa91b40bf7cddf964": {
          "model_module": "@jupyter-widgets/controls",
          "model_name": "HBoxModel",
          "model_module_version": "1.5.0",
          "state": {
            "_dom_classes": [],
            "_model_module": "@jupyter-widgets/controls",
            "_model_module_version": "1.5.0",
            "_model_name": "HBoxModel",
            "_view_count": null,
            "_view_module": "@jupyter-widgets/controls",
            "_view_module_version": "1.5.0",
            "_view_name": "HBoxView",
            "box_style": "",
            "children": [
              "IPY_MODEL_92e37d05a6644010896d61731d5a35e4",
              "IPY_MODEL_cfe82af6d375485ebbbdb26d0e107401",
              "IPY_MODEL_598f7ce493ae41d2afda0ccd91532e71"
            ],
            "layout": "IPY_MODEL_c388749f0efc4bdcbc01556911abfbcf"
          }
        },
        "92e37d05a6644010896d61731d5a35e4": {
          "model_module": "@jupyter-widgets/controls",
          "model_name": "HTMLModel",
          "model_module_version": "1.5.0",
          "state": {
            "_dom_classes": [],
            "_model_module": "@jupyter-widgets/controls",
            "_model_module_version": "1.5.0",
            "_model_name": "HTMLModel",
            "_view_count": null,
            "_view_module": "@jupyter-widgets/controls",
            "_view_module_version": "1.5.0",
            "_view_name": "HTMLView",
            "description": "",
            "description_tooltip": null,
            "layout": "IPY_MODEL_825c0132848c4fea94cbceaaf1bb52db",
            "placeholder": "​",
            "style": "IPY_MODEL_81d3a006f25b4d578a7fbde073ae6aa0",
            "value": "100%"
          }
        },
        "cfe82af6d375485ebbbdb26d0e107401": {
          "model_module": "@jupyter-widgets/controls",
          "model_name": "FloatProgressModel",
          "model_module_version": "1.5.0",
          "state": {
            "_dom_classes": [],
            "_model_module": "@jupyter-widgets/controls",
            "_model_module_version": "1.5.0",
            "_model_name": "FloatProgressModel",
            "_view_count": null,
            "_view_module": "@jupyter-widgets/controls",
            "_view_module_version": "1.5.0",
            "_view_name": "ProgressView",
            "bar_style": "success",
            "description": "",
            "description_tooltip": null,
            "layout": "IPY_MODEL_feeb37efbba5454ca9251864571bcb51",
            "max": 16,
            "min": 0,
            "orientation": "horizontal",
            "style": "IPY_MODEL_e2b6ea38a85a4ac4bb2da854829cab01",
            "value": 16
          }
        },
        "598f7ce493ae41d2afda0ccd91532e71": {
          "model_module": "@jupyter-widgets/controls",
          "model_name": "HTMLModel",
          "model_module_version": "1.5.0",
          "state": {
            "_dom_classes": [],
            "_model_module": "@jupyter-widgets/controls",
            "_model_module_version": "1.5.0",
            "_model_name": "HTMLModel",
            "_view_count": null,
            "_view_module": "@jupyter-widgets/controls",
            "_view_module_version": "1.5.0",
            "_view_name": "HTMLView",
            "description": "",
            "description_tooltip": null,
            "layout": "IPY_MODEL_cfc63f40be60409296d105e1ac622e02",
            "placeholder": "​",
            "style": "IPY_MODEL_bfe14137497a4891b662fd2e20386e3e",
            "value": " 16/16 [00:05&lt;00:00,  1.43it/s]"
          }
        },
        "c388749f0efc4bdcbc01556911abfbcf": {
          "model_module": "@jupyter-widgets/base",
          "model_name": "LayoutModel",
          "model_module_version": "1.2.0",
          "state": {
            "_model_module": "@jupyter-widgets/base",
            "_model_module_version": "1.2.0",
            "_model_name": "LayoutModel",
            "_view_count": null,
            "_view_module": "@jupyter-widgets/base",
            "_view_module_version": "1.2.0",
            "_view_name": "LayoutView",
            "align_content": null,
            "align_items": null,
            "align_self": null,
            "border": null,
            "bottom": null,
            "display": null,
            "flex": null,
            "flex_flow": null,
            "grid_area": null,
            "grid_auto_columns": null,
            "grid_auto_flow": null,
            "grid_auto_rows": null,
            "grid_column": null,
            "grid_gap": null,
            "grid_row": null,
            "grid_template_areas": null,
            "grid_template_columns": null,
            "grid_template_rows": null,
            "height": null,
            "justify_content": null,
            "justify_items": null,
            "left": null,
            "margin": null,
            "max_height": null,
            "max_width": null,
            "min_height": null,
            "min_width": null,
            "object_fit": null,
            "object_position": null,
            "order": null,
            "overflow": null,
            "overflow_x": null,
            "overflow_y": null,
            "padding": null,
            "right": null,
            "top": null,
            "visibility": null,
            "width": null
          }
        },
        "825c0132848c4fea94cbceaaf1bb52db": {
          "model_module": "@jupyter-widgets/base",
          "model_name": "LayoutModel",
          "model_module_version": "1.2.0",
          "state": {
            "_model_module": "@jupyter-widgets/base",
            "_model_module_version": "1.2.0",
            "_model_name": "LayoutModel",
            "_view_count": null,
            "_view_module": "@jupyter-widgets/base",
            "_view_module_version": "1.2.0",
            "_view_name": "LayoutView",
            "align_content": null,
            "align_items": null,
            "align_self": null,
            "border": null,
            "bottom": null,
            "display": null,
            "flex": null,
            "flex_flow": null,
            "grid_area": null,
            "grid_auto_columns": null,
            "grid_auto_flow": null,
            "grid_auto_rows": null,
            "grid_column": null,
            "grid_gap": null,
            "grid_row": null,
            "grid_template_areas": null,
            "grid_template_columns": null,
            "grid_template_rows": null,
            "height": null,
            "justify_content": null,
            "justify_items": null,
            "left": null,
            "margin": null,
            "max_height": null,
            "max_width": null,
            "min_height": null,
            "min_width": null,
            "object_fit": null,
            "object_position": null,
            "order": null,
            "overflow": null,
            "overflow_x": null,
            "overflow_y": null,
            "padding": null,
            "right": null,
            "top": null,
            "visibility": null,
            "width": null
          }
        },
        "81d3a006f25b4d578a7fbde073ae6aa0": {
          "model_module": "@jupyter-widgets/controls",
          "model_name": "DescriptionStyleModel",
          "model_module_version": "1.5.0",
          "state": {
            "_model_module": "@jupyter-widgets/controls",
            "_model_module_version": "1.5.0",
            "_model_name": "DescriptionStyleModel",
            "_view_count": null,
            "_view_module": "@jupyter-widgets/base",
            "_view_module_version": "1.2.0",
            "_view_name": "StyleView",
            "description_width": ""
          }
        },
        "feeb37efbba5454ca9251864571bcb51": {
          "model_module": "@jupyter-widgets/base",
          "model_name": "LayoutModel",
          "model_module_version": "1.2.0",
          "state": {
            "_model_module": "@jupyter-widgets/base",
            "_model_module_version": "1.2.0",
            "_model_name": "LayoutModel",
            "_view_count": null,
            "_view_module": "@jupyter-widgets/base",
            "_view_module_version": "1.2.0",
            "_view_name": "LayoutView",
            "align_content": null,
            "align_items": null,
            "align_self": null,
            "border": null,
            "bottom": null,
            "display": null,
            "flex": null,
            "flex_flow": null,
            "grid_area": null,
            "grid_auto_columns": null,
            "grid_auto_flow": null,
            "grid_auto_rows": null,
            "grid_column": null,
            "grid_gap": null,
            "grid_row": null,
            "grid_template_areas": null,
            "grid_template_columns": null,
            "grid_template_rows": null,
            "height": null,
            "justify_content": null,
            "justify_items": null,
            "left": null,
            "margin": null,
            "max_height": null,
            "max_width": null,
            "min_height": null,
            "min_width": null,
            "object_fit": null,
            "object_position": null,
            "order": null,
            "overflow": null,
            "overflow_x": null,
            "overflow_y": null,
            "padding": null,
            "right": null,
            "top": null,
            "visibility": null,
            "width": null
          }
        },
        "e2b6ea38a85a4ac4bb2da854829cab01": {
          "model_module": "@jupyter-widgets/controls",
          "model_name": "ProgressStyleModel",
          "model_module_version": "1.5.0",
          "state": {
            "_model_module": "@jupyter-widgets/controls",
            "_model_module_version": "1.5.0",
            "_model_name": "ProgressStyleModel",
            "_view_count": null,
            "_view_module": "@jupyter-widgets/base",
            "_view_module_version": "1.2.0",
            "_view_name": "StyleView",
            "bar_color": null,
            "description_width": ""
          }
        },
        "cfc63f40be60409296d105e1ac622e02": {
          "model_module": "@jupyter-widgets/base",
          "model_name": "LayoutModel",
          "model_module_version": "1.2.0",
          "state": {
            "_model_module": "@jupyter-widgets/base",
            "_model_module_version": "1.2.0",
            "_model_name": "LayoutModel",
            "_view_count": null,
            "_view_module": "@jupyter-widgets/base",
            "_view_module_version": "1.2.0",
            "_view_name": "LayoutView",
            "align_content": null,
            "align_items": null,
            "align_self": null,
            "border": null,
            "bottom": null,
            "display": null,
            "flex": null,
            "flex_flow": null,
            "grid_area": null,
            "grid_auto_columns": null,
            "grid_auto_flow": null,
            "grid_auto_rows": null,
            "grid_column": null,
            "grid_gap": null,
            "grid_row": null,
            "grid_template_areas": null,
            "grid_template_columns": null,
            "grid_template_rows": null,
            "height": null,
            "justify_content": null,
            "justify_items": null,
            "left": null,
            "margin": null,
            "max_height": null,
            "max_width": null,
            "min_height": null,
            "min_width": null,
            "object_fit": null,
            "object_position": null,
            "order": null,
            "overflow": null,
            "overflow_x": null,
            "overflow_y": null,
            "padding": null,
            "right": null,
            "top": null,
            "visibility": null,
            "width": null
          }
        },
        "bfe14137497a4891b662fd2e20386e3e": {
          "model_module": "@jupyter-widgets/controls",
          "model_name": "DescriptionStyleModel",
          "model_module_version": "1.5.0",
          "state": {
            "_model_module": "@jupyter-widgets/controls",
            "_model_module_version": "1.5.0",
            "_model_name": "DescriptionStyleModel",
            "_view_count": null,
            "_view_module": "@jupyter-widgets/base",
            "_view_module_version": "1.2.0",
            "_view_name": "StyleView",
            "description_width": ""
          }
        },
        "b4faa82900784140b28cacb3b718eb82": {
          "model_module": "@jupyter-widgets/controls",
          "model_name": "HBoxModel",
          "model_module_version": "1.5.0",
          "state": {
            "_dom_classes": [],
            "_model_module": "@jupyter-widgets/controls",
            "_model_module_version": "1.5.0",
            "_model_name": "HBoxModel",
            "_view_count": null,
            "_view_module": "@jupyter-widgets/controls",
            "_view_module_version": "1.5.0",
            "_view_name": "HBoxView",
            "box_style": "",
            "children": [
              "IPY_MODEL_387b5f204f6c40dba66d423587c11cc1",
              "IPY_MODEL_ebdbb94f4a384c31a4022d47b72644d3",
              "IPY_MODEL_0fef9eafeb3f4d53a7a1ae615bbaddfe"
            ],
            "layout": "IPY_MODEL_bddd4895ce33412c97be625cae417001"
          }
        },
        "387b5f204f6c40dba66d423587c11cc1": {
          "model_module": "@jupyter-widgets/controls",
          "model_name": "HTMLModel",
          "model_module_version": "1.5.0",
          "state": {
            "_dom_classes": [],
            "_model_module": "@jupyter-widgets/controls",
            "_model_module_version": "1.5.0",
            "_model_name": "HTMLModel",
            "_view_count": null,
            "_view_module": "@jupyter-widgets/controls",
            "_view_module_version": "1.5.0",
            "_view_name": "HTMLView",
            "description": "",
            "description_tooltip": null,
            "layout": "IPY_MODEL_993e33291bc648ae8cb1c6a65e0cbb86",
            "placeholder": "​",
            "style": "IPY_MODEL_12c8b38418cb4aaaaaa6b43517030f71",
            "value": "100%"
          }
        },
        "ebdbb94f4a384c31a4022d47b72644d3": {
          "model_module": "@jupyter-widgets/controls",
          "model_name": "FloatProgressModel",
          "model_module_version": "1.5.0",
          "state": {
            "_dom_classes": [],
            "_model_module": "@jupyter-widgets/controls",
            "_model_module_version": "1.5.0",
            "_model_name": "FloatProgressModel",
            "_view_count": null,
            "_view_module": "@jupyter-widgets/controls",
            "_view_module_version": "1.5.0",
            "_view_name": "ProgressView",
            "bar_style": "success",
            "description": "",
            "description_tooltip": null,
            "layout": "IPY_MODEL_70fe66fb175249c39936bfbcda735d3d",
            "max": 16,
            "min": 0,
            "orientation": "horizontal",
            "style": "IPY_MODEL_f2ec87c25fdc46b681c093d6521282a6",
            "value": 16
          }
        },
        "0fef9eafeb3f4d53a7a1ae615bbaddfe": {
          "model_module": "@jupyter-widgets/controls",
          "model_name": "HTMLModel",
          "model_module_version": "1.5.0",
          "state": {
            "_dom_classes": [],
            "_model_module": "@jupyter-widgets/controls",
            "_model_module_version": "1.5.0",
            "_model_name": "HTMLModel",
            "_view_count": null,
            "_view_module": "@jupyter-widgets/controls",
            "_view_module_version": "1.5.0",
            "_view_name": "HTMLView",
            "description": "",
            "description_tooltip": null,
            "layout": "IPY_MODEL_3f1e8ac6824b4f1982cb9163cad9d7da",
            "placeholder": "​",
            "style": "IPY_MODEL_613da613c96b4d86bad4a63cf5f27b69",
            "value": " 16/16 [00:01&lt;00:00,  6.74it/s]"
          }
        },
        "bddd4895ce33412c97be625cae417001": {
          "model_module": "@jupyter-widgets/base",
          "model_name": "LayoutModel",
          "model_module_version": "1.2.0",
          "state": {
            "_model_module": "@jupyter-widgets/base",
            "_model_module_version": "1.2.0",
            "_model_name": "LayoutModel",
            "_view_count": null,
            "_view_module": "@jupyter-widgets/base",
            "_view_module_version": "1.2.0",
            "_view_name": "LayoutView",
            "align_content": null,
            "align_items": null,
            "align_self": null,
            "border": null,
            "bottom": null,
            "display": null,
            "flex": null,
            "flex_flow": null,
            "grid_area": null,
            "grid_auto_columns": null,
            "grid_auto_flow": null,
            "grid_auto_rows": null,
            "grid_column": null,
            "grid_gap": null,
            "grid_row": null,
            "grid_template_areas": null,
            "grid_template_columns": null,
            "grid_template_rows": null,
            "height": null,
            "justify_content": null,
            "justify_items": null,
            "left": null,
            "margin": null,
            "max_height": null,
            "max_width": null,
            "min_height": null,
            "min_width": null,
            "object_fit": null,
            "object_position": null,
            "order": null,
            "overflow": null,
            "overflow_x": null,
            "overflow_y": null,
            "padding": null,
            "right": null,
            "top": null,
            "visibility": null,
            "width": null
          }
        },
        "993e33291bc648ae8cb1c6a65e0cbb86": {
          "model_module": "@jupyter-widgets/base",
          "model_name": "LayoutModel",
          "model_module_version": "1.2.0",
          "state": {
            "_model_module": "@jupyter-widgets/base",
            "_model_module_version": "1.2.0",
            "_model_name": "LayoutModel",
            "_view_count": null,
            "_view_module": "@jupyter-widgets/base",
            "_view_module_version": "1.2.0",
            "_view_name": "LayoutView",
            "align_content": null,
            "align_items": null,
            "align_self": null,
            "border": null,
            "bottom": null,
            "display": null,
            "flex": null,
            "flex_flow": null,
            "grid_area": null,
            "grid_auto_columns": null,
            "grid_auto_flow": null,
            "grid_auto_rows": null,
            "grid_column": null,
            "grid_gap": null,
            "grid_row": null,
            "grid_template_areas": null,
            "grid_template_columns": null,
            "grid_template_rows": null,
            "height": null,
            "justify_content": null,
            "justify_items": null,
            "left": null,
            "margin": null,
            "max_height": null,
            "max_width": null,
            "min_height": null,
            "min_width": null,
            "object_fit": null,
            "object_position": null,
            "order": null,
            "overflow": null,
            "overflow_x": null,
            "overflow_y": null,
            "padding": null,
            "right": null,
            "top": null,
            "visibility": null,
            "width": null
          }
        },
        "12c8b38418cb4aaaaaa6b43517030f71": {
          "model_module": "@jupyter-widgets/controls",
          "model_name": "DescriptionStyleModel",
          "model_module_version": "1.5.0",
          "state": {
            "_model_module": "@jupyter-widgets/controls",
            "_model_module_version": "1.5.0",
            "_model_name": "DescriptionStyleModel",
            "_view_count": null,
            "_view_module": "@jupyter-widgets/base",
            "_view_module_version": "1.2.0",
            "_view_name": "StyleView",
            "description_width": ""
          }
        },
        "70fe66fb175249c39936bfbcda735d3d": {
          "model_module": "@jupyter-widgets/base",
          "model_name": "LayoutModel",
          "model_module_version": "1.2.0",
          "state": {
            "_model_module": "@jupyter-widgets/base",
            "_model_module_version": "1.2.0",
            "_model_name": "LayoutModel",
            "_view_count": null,
            "_view_module": "@jupyter-widgets/base",
            "_view_module_version": "1.2.0",
            "_view_name": "LayoutView",
            "align_content": null,
            "align_items": null,
            "align_self": null,
            "border": null,
            "bottom": null,
            "display": null,
            "flex": null,
            "flex_flow": null,
            "grid_area": null,
            "grid_auto_columns": null,
            "grid_auto_flow": null,
            "grid_auto_rows": null,
            "grid_column": null,
            "grid_gap": null,
            "grid_row": null,
            "grid_template_areas": null,
            "grid_template_columns": null,
            "grid_template_rows": null,
            "height": null,
            "justify_content": null,
            "justify_items": null,
            "left": null,
            "margin": null,
            "max_height": null,
            "max_width": null,
            "min_height": null,
            "min_width": null,
            "object_fit": null,
            "object_position": null,
            "order": null,
            "overflow": null,
            "overflow_x": null,
            "overflow_y": null,
            "padding": null,
            "right": null,
            "top": null,
            "visibility": null,
            "width": null
          }
        },
        "f2ec87c25fdc46b681c093d6521282a6": {
          "model_module": "@jupyter-widgets/controls",
          "model_name": "ProgressStyleModel",
          "model_module_version": "1.5.0",
          "state": {
            "_model_module": "@jupyter-widgets/controls",
            "_model_module_version": "1.5.0",
            "_model_name": "ProgressStyleModel",
            "_view_count": null,
            "_view_module": "@jupyter-widgets/base",
            "_view_module_version": "1.2.0",
            "_view_name": "StyleView",
            "bar_color": null,
            "description_width": ""
          }
        },
        "3f1e8ac6824b4f1982cb9163cad9d7da": {
          "model_module": "@jupyter-widgets/base",
          "model_name": "LayoutModel",
          "model_module_version": "1.2.0",
          "state": {
            "_model_module": "@jupyter-widgets/base",
            "_model_module_version": "1.2.0",
            "_model_name": "LayoutModel",
            "_view_count": null,
            "_view_module": "@jupyter-widgets/base",
            "_view_module_version": "1.2.0",
            "_view_name": "LayoutView",
            "align_content": null,
            "align_items": null,
            "align_self": null,
            "border": null,
            "bottom": null,
            "display": null,
            "flex": null,
            "flex_flow": null,
            "grid_area": null,
            "grid_auto_columns": null,
            "grid_auto_flow": null,
            "grid_auto_rows": null,
            "grid_column": null,
            "grid_gap": null,
            "grid_row": null,
            "grid_template_areas": null,
            "grid_template_columns": null,
            "grid_template_rows": null,
            "height": null,
            "justify_content": null,
            "justify_items": null,
            "left": null,
            "margin": null,
            "max_height": null,
            "max_width": null,
            "min_height": null,
            "min_width": null,
            "object_fit": null,
            "object_position": null,
            "order": null,
            "overflow": null,
            "overflow_x": null,
            "overflow_y": null,
            "padding": null,
            "right": null,
            "top": null,
            "visibility": null,
            "width": null
          }
        },
        "613da613c96b4d86bad4a63cf5f27b69": {
          "model_module": "@jupyter-widgets/controls",
          "model_name": "DescriptionStyleModel",
          "model_module_version": "1.5.0",
          "state": {
            "_model_module": "@jupyter-widgets/controls",
            "_model_module_version": "1.5.0",
            "_model_name": "DescriptionStyleModel",
            "_view_count": null,
            "_view_module": "@jupyter-widgets/base",
            "_view_module_version": "1.2.0",
            "_view_name": "StyleView",
            "description_width": ""
          }
        }
      }
    }
  },
  "cells": [
    {
      "cell_type": "code",
      "execution_count": null,
      "metadata": {
        "id": "Ndni5Dk1Rfnq"
      },
      "outputs": [],
      "source": []
    },
    {
      "cell_type": "code",
      "source": [
        "\n",
        "import numpy as np\n",
        "from statsmodels.tsa.arima_process import ArmaProcess\n",
        "\n",
        "from statsmodels.tsa.stattools import adfuller\n",
        "from sklearn.metrics import mean_squared_error, mean_absolute_error\n",
        "from statsmodels.graphics.tsaplots import plot_acf, plot_pacf\n",
        "from statsmodels.tsa.statespace.sarimax import SARIMAX\n",
        "from statsmodels.tsa.arima_process import ArmaProcess\n",
        "from statsmodels.tsa.stattools import adfuller\n",
        "from tqdm import tqdm_notebook\n",
        "from itertools import product\n",
        "import statsmodels.api  as sm\n",
        "\n",
        "\n",
        "import matplotlib.pyplot as plt\n",
        "import seaborn as sns\n",
        "import numpy as np\n",
        "import pandas as pd\n",
        "\n",
        "from datetime import datetime  # for time formating\n",
        "from matplotlib.dates import DateFormatter\n",
        "import matplotlib.dates as mdates\n",
        "\n",
        "import warnings\n",
        "warnings.filterwarnings('ignore')\n",
        "\n",
        "%matplotlib inline"
      ],
      "metadata": {
        "id": "dmVGWDXTTdgm"
      },
      "execution_count": 1,
      "outputs": []
    },
    {
      "cell_type": "markdown",
      "source": [],
      "metadata": {
        "id": "R7jzAoJRr0Ul"
      }
    },
    {
      "cell_type": "code",
      "source": [],
      "metadata": {
        "id": "IXwHB2KQVDV2"
      },
      "execution_count": 1,
      "outputs": []
    },
    {
      "cell_type": "code",
      "source": [
        "## develop the arma data\n",
        "np.random.seed(42)\n",
        "\n",
        "ar1 = np.array([1, -0.33])\n",
        "ma1 = np.array([1, 0.9])\n",
        "\n",
        "ARMA_1_1 = ArmaProcess(ar1, ma1).generate_sample(nsample=1000)\n",
        "\n"
      ],
      "metadata": {
        "id": "deoR85DgT-XW"
      },
      "execution_count": 2,
      "outputs": []
    },
    {
      "cell_type": "code",
      "source": [
        "ARMA_1_1.shape"
      ],
      "metadata": {
        "colab": {
          "base_uri": "https://localhost:8080/"
        },
        "id": "lV8FAUd_Tdnj",
        "outputId": "fce9b23e-a000-4a23-f143-ad78b597af67"
      },
      "execution_count": 3,
      "outputs": [
        {
          "output_type": "execute_result",
          "data": {
            "text/plain": [
              "(1000,)"
            ]
          },
          "metadata": {},
          "execution_count": 3
        }
      ]
    },
    {
      "cell_type": "code",
      "source": [
        "## check the stationnary\n",
        "adf = adfuller(ARMA_1_1)\n",
        "adf_stats = adf[0]\n",
        "adf_p = adf[1]\n",
        "\n",
        "print(adf_stats, adf_p)\n",
        "\n",
        "# palvue is less than  0.05 stationary"
      ],
      "metadata": {
        "colab": {
          "base_uri": "https://localhost:8080/"
        },
        "id": "gbNxXzbTUGkO",
        "outputId": "dba7463c-df86-4f5a-9dda-578493e59a9c"
      },
      "execution_count": 4,
      "outputs": [
        {
          "output_type": "stream",
          "name": "stdout",
          "text": [
            "-6.429878682042683 1.7078466680097572e-08\n"
          ]
        }
      ]
    },
    {
      "cell_type": "code",
      "source": [
        "## acf plot for order of  AR\n",
        "plt.rc(\"figure\", figsize=(12,6))\n",
        "\n",
        "plot_acf(ARMA_1_1, lags = 20)\n",
        "plt.show()\n",
        "\n",
        "# order will be  2  but we take data of AR order 1"
      ],
      "metadata": {
        "colab": {
          "base_uri": "https://localhost:8080/",
          "height": 390
        },
        "id": "3WgkOwoLVEL2",
        "outputId": "5d85223f-1927-4a4c-e91a-fff8692b8dcf"
      },
      "execution_count": 5,
      "outputs": [
        {
          "output_type": "display_data",
          "data": {
            "text/plain": [
              "<Figure size 864x432 with 1 Axes>"
            ],
            "image/png": "[encoded data removed]"
          },
          "metadata": {
            "needs_background": "light"
          }
        }
      ]
    },
    {
      "cell_type": "code",
      "source": [
        "## pacf for order of AR\n",
        "plot_pacf(ARMA_1_1, lags = 20)\n",
        "plt.show()\n",
        "\n",
        "# not able to identify the order of AR"
      ],
      "metadata": {
        "colab": {
          "base_uri": "https://localhost:8080/",
          "height": 390
        },
        "id": "NK8P5X63V_xT",
        "outputId": "05d1ed4d-2b39-4368-fb5a-09568893ccd7"
      },
      "execution_count": 6,
      "outputs": [
        {
          "output_type": "display_data",
          "data": {
            "text/plain": [
              "<Figure size 864x432 with 1 Axes>"
            ],
            "image/png": "[encoded data removed]"
          },
          "metadata": {
            "needs_background": "light"
          }
        }
      ]
    },
    {
      "cell_type": "markdown",
      "source": [
        "For finding correct order(p,q) for ARMA model we will not use ACF and PACF plot insted we use to select a model based entirely on statistical tests and numerical criteria, instead of relying on the qualitative analysis of the\n",
        "ACF and PACF plots  \n",
        "\n",
        "1) we use AIC(Akaike information criterion) which quantifies the quality of each\n",
        "model in relation to each other. The model with the lowest AIC is then selected  \n",
        "2) Then we  analyze the model’s residuals, which is the difference between\n",
        "the actual and predicted values of the model. normally we want residual should be random and does have any pattern"
      ],
      "metadata": {
        "id": "zFbZkWIIr1LW"
      }
    },
    {
      "cell_type": "markdown",
      "source": [
        "**AIC**: The AIC estimates the quality of a model relative to other models. Given that there\n",
        "will be some information lost when a model is fitted to the data, the AIC quantifies the\n",
        "relative amount of information lost by the model. The less information lost, the lower\n",
        "the AIC value and the better the model."
      ],
      "metadata": {
        "id": "453Muk9TuGXp"
      }
    },
    {
      "cell_type": "code",
      "source": [
        "from itertools import product\n",
        "\n",
        "ps = range(0, 4, 1)   # 1 is the steps\n",
        "qs = range(0, 4, 1)\n",
        "\n",
        "order_list = list(product(ps, qs))  # it give unique combination of ps and qs\n",
        "print(order_list)\n",
        "\n",
        "print('Number of combination: {}'.format(len(order_list)))"
      ],
      "metadata": {
        "colab": {
          "base_uri": "https://localhost:8080/"
        },
        "id": "YQkWgggmveqc",
        "outputId": "5c0c978e-ed3d-4842-f0ef-e310f4353f72"
      },
      "execution_count": 7,
      "outputs": [
        {
          "output_type": "stream",
          "name": "stdout",
          "text": [
            "[(0, 0), (0, 1), (0, 2), (0, 3), (1, 0), (1, 1), (1, 2), (1, 3), (2, 0), (2, 1), (2, 2), (2, 3), (3, 0), (3, 1), (3, 2), (3, 3)]\n",
            "Number of combination: 16\n"
          ]
        }
      ]
    },
    {
      "cell_type": "code",
      "source": [
        "from typing import Union\n",
        "from tqdm import tqdm_notebook\n",
        "from statsmodels.tsa.statespace.sarimax import SARIMAX"
      ],
      "metadata": {
        "id": "zJT0Xclnw6En"
      },
      "execution_count": 8,
      "outputs": []
    },
    {
      "cell_type": "code",
      "source": [
        "# we will take all 16 combiantion of p,q try to fit on data and calculate  AIC score, we will select that which have lowest AICC\n",
        "\n",
        "\n",
        "from matplotlib.path import simple_linear_interpolation\n",
        "\n",
        "def optimize_arma(endog: Union[pd.Series, list], order_list: list) -> pd.DataFrame:  \n",
        "  results = []\n",
        "  \n",
        "  for order in tqdm_notebook(order_list):   # Iterate over each unique (p,q) combination. The use of tqdm_notebook will display a progress bar.\n",
        "\n",
        "    try:  # is there is no error run try block\n",
        "      model = SARIMAX(endog, order = (order[0], 0, order[1]), simple_differencing = False).fit(disp = False)   # ARMA model is fit on SARIMAx, diff is false as series is already sation\n",
        "    except:    # if error occur run except block\n",
        "        continue\n",
        "\n",
        "    aic = model.aic\n",
        "    results.append([order, aic])\n",
        "\n",
        "  results_df = pd.DataFrame(results)\n",
        "  results_df.columns = ['(p,q)', 'AIC']\n",
        "\n",
        "\n",
        "  # sort in AIC ascending order\n",
        "  results_df = results_df.sort_values(by = 'AIC', ascending = True).reset_index(drop = True)\n",
        "\n",
        "  return results_df\n",
        "\n"
      ],
      "metadata": {
        "id": "hk4oHp7jxQaC"
      },
      "execution_count": 9,
      "outputs": []
    },
    {
      "cell_type": "code",
      "source": [
        "optimize_arma(ARMA_1_1, order_list)"
      ],
      "metadata": {
        "colab": {
          "base_uri": "https://localhost:8080/",
          "height": 583,
          "referenced_widgets": [
            "f6adc2b0df8f448aa91b40bf7cddf964",
            "92e37d05a6644010896d61731d5a35e4",
            "cfe82af6d375485ebbbdb26d0e107401",
            "598f7ce493ae41d2afda0ccd91532e71",
            "c388749f0efc4bdcbc01556911abfbcf",
            "825c0132848c4fea94cbceaaf1bb52db",
            "81d3a006f25b4d578a7fbde073ae6aa0",
            "feeb37efbba5454ca9251864571bcb51",
            "e2b6ea38a85a4ac4bb2da854829cab01",
            "cfc63f40be60409296d105e1ac622e02",
            "bfe14137497a4891b662fd2e20386e3e"
          ]
        },
        "id": "g0x3LU8t1w1h",
        "outputId": "74ba6cff-cb2c-4309-b264-743ce7d59ad5"
      },
      "execution_count": 10,
      "outputs": [
        {
          "output_type": "display_data",
          "data": {
            "text/plain": [
              "  0%|          | 0/16 [00:00<?, ?it/s]"
            ],
            "application/vnd.jupyter.widget-view+json": {
              "version_major": 2,
              "version_minor": 0,
              "model_id": "f6adc2b0df8f448aa91b40bf7cddf964"
            }
          },
          "metadata": {}
        },
        {
          "output_type": "execute_result",
          "data": {
            "text/plain": [
              "     (p,q)          AIC\n",
              "0   (1, 1)  2801.407785\n",
              "1   (2, 1)  2802.906070\n",
              "2   (1, 2)  2802.967762\n",
              "3   (0, 3)  2803.666793\n",
              "4   (1, 3)  2804.524027\n",
              "5   (3, 1)  2804.588567\n",
              "6   (2, 2)  2804.822282\n",
              "7   (3, 3)  2806.163145\n",
              "8   (2, 3)  2806.175380\n",
              "9   (3, 2)  2806.894930\n",
              "10  (0, 2)  2812.840730\n",
              "11  (0, 1)  2891.869245\n",
              "12  (3, 0)  2981.643911\n",
              "13  (2, 0)  3042.627787\n",
              "14  (1, 0)  3207.291261\n",
              "15  (0, 0)  3780.418416"
            ],
            "text/html": [
              "\n",
              "  <div id=\"df-857729ae-1167-4b23-b031-58fced349042\">\n",
              "    <div class=\"colab-df-container\">\n",
              "      <div>\n",
              "<style scoped>\n",
              "    .dataframe tbody tr th:only-of-type {\n",
              "        vertical-align: middle;\n",
              "    }\n",
              "\n",
              "    .dataframe tbody tr th {\n",
              "        vertical-align: top;\n",
              "    }\n",
              "\n",
              "    .dataframe thead th {\n",
              "        text-align: right;\n",
              "    }\n",
              "</style>\n",
              "<table border=\"1\" class=\"dataframe\">\n",
              "  <thead>\n",
              "    <tr style=\"text-align: right;\">\n",
              "      <th></th>\n",
              "      <th>(p,q)</th>\n",
              "      <th>AIC</th>\n",
              "    </tr>\n",
              "  </thead>\n",
              "  <tbody>\n",
              "    <tr>\n",
              "      <th>0</th>\n",
              "      <td>(1, 1)</td>\n",
              "      <td>2801.407785</td>\n",
              "    </tr>\n",
              "    <tr>\n",
              "      <th>1</th>\n",
              "      <td>(2, 1)</td>\n",
              "      <td>2802.906070</td>\n",
              "    </tr>\n",
              "    <tr>\n",
              "      <th>2</th>\n",
              "      <td>(1, 2)</td>\n",
              "      <td>2802.967762</td>\n",
              "    </tr>\n",
              "    <tr>\n",
              "      <th>3</th>\n",
              "      <td>(0, 3)</td>\n",
              "      <td>2803.666793</td>\n",
              "    </tr>\n",
              "    <tr>\n",
              "      <th>4</th>\n",
              "      <td>(1, 3)</td>\n",
              "      <td>2804.524027</td>\n",
              "    </tr>\n",
              "    <tr>\n",
              "      <th>5</th>\n",
              "      <td>(3, 1)</td>\n",
              "      <td>2804.588567</td>\n",
              "    </tr>\n",
              "    <tr>\n",
              "      <th>6</th>\n",
              "      <td>(2, 2)</td>\n",
              "      <td>2804.822282</td>\n",
              "    </tr>\n",
              "    <tr>\n",
              "      <th>7</th>\n",
              "      <td>(3, 3)</td>\n",
              "      <td>2806.163145</td>\n",
              "    </tr>\n",
              "    <tr>\n",
              "      <th>8</th>\n",
              "      <td>(2, 3)</td>\n",
              "      <td>2806.175380</td>\n",
              "    </tr>\n",
              "    <tr>\n",
              "      <th>9</th>\n",
              "      <td>(3, 2)</td>\n",
              "      <td>2806.894930</td>\n",
              "    </tr>\n",
              "    <tr>\n",
              "      <th>10</th>\n",
              "      <td>(0, 2)</td>\n",
              "      <td>2812.840730</td>\n",
              "    </tr>\n",
              "    <tr>\n",
              "      <th>11</th>\n",
              "      <td>(0, 1)</td>\n",
              "      <td>2891.869245</td>\n",
              "    </tr>\n",
              "    <tr>\n",
              "      <th>12</th>\n",
              "      <td>(3, 0)</td>\n",
              "      <td>2981.643911</td>\n",
              "    </tr>\n",
              "    <tr>\n",
              "      <th>13</th>\n",
              "      <td>(2, 0)</td>\n",
              "      <td>3042.627787</td>\n",
              "    </tr>\n",
              "    <tr>\n",
              "      <th>14</th>\n",
              "      <td>(1, 0)</td>\n",
              "      <td>3207.291261</td>\n",
              "    </tr>\n",
              "    <tr>\n",
              "      <th>15</th>\n",
              "      <td>(0, 0)</td>\n",
              "      <td>3780.418416</td>\n",
              "    </tr>\n",
              "  </tbody>\n",
              "</table>\n",
              "</div>\n",
              "      <button class=\"colab-df-convert\" onclick=\"convertToInteractive('df-857729ae-1167-4b23-b031-58fced349042')\"\n",
              "              title=\"Convert this dataframe to an interactive table.\"\n",
              "              style=\"display:none;\">\n",
              "        \n",
              "  <svg xmlns=\"http://www.w3.org/2000/svg\" height=\"24px\"viewBox=\"0 0 24 24\"\n",
              "       width=\"24px\">\n",
              "    <path d=\"M0 0h24v24H0V0z\" fill=\"none\"/>\n",
              "    <path d=\"M18.56 5.44l.94 2.06.94-2.06 2.06-.94-2.06-.94-.94-2.06-.94 2.06-2.06.94zm-11 1L8.5 8.5l.94-2.06 2.06-.94-2.06-.94L8.5 2.5l-.94 2.06-2.06.94zm10 10l.94 2.06.94-2.06 2.06-.94-2.06-.94-.94-2.06-.94 2.06-2.06.94z\"/><path d=\"M17.41 7.96l-1.37-1.37c-.4-.4-.92-.59-1.43-.59-.52 0-1.04.2-1.43.59L10.3 9.45l-7.72 7.72c-.78.78-.78 2.05 0 2.83L4 21.41c.39.39.9.59 1.41.59.51 0 1.02-.2 1.41-.59l7.78-7.78 2.81-2.81c.8-.78.8-2.07 0-2.86zM5.41 20L4 18.59l7.72-7.72 1.47 1.35L5.41 20z\"/>\n",
              "  </svg>\n",
              "      </button>\n",
              "      \n",
              "  <style>\n",
              "    .colab-df-container {\n",
              "      display:flex;\n",
              "      flex-wrap:wrap;\n",
              "      gap: 12px;\n",
              "    }\n",
              "\n",
              "    .colab-df-convert {\n",
              "      background-color: #E8F0FE;\n",
              "      border: none;\n",
              "      border-radius: 50%;\n",
              "      cursor: pointer;\n",
              "      display: none;\n",
              "      fill: #1967D2;\n",
              "      height: 32px;\n",
              "      padding: 0 0 0 0;\n",
              "      width: 32px;\n",
              "    }\n",
              "\n",
              "    .colab-df-convert:hover {\n",
              "      background-color: #E2EBFA;\n",
              "      box-shadow: 0px 1px 2px rgba(60, 64, 67, 0.3), 0px 1px 3px 1px rgba(60, 64, 67, 0.15);\n",
              "      fill: #174EA6;\n",
              "    }\n",
              "\n",
              "    [theme=dark] .colab-df-convert {\n",
              "      background-color: #3B4455;\n",
              "      fill: #D2E3FC;\n",
              "    }\n",
              "\n",
              "    [theme=dark] .colab-df-convert:hover {\n",
              "      background-color: #434B5C;\n",
              "      box-shadow: 0px 1px 3px 1px rgba(0, 0, 0, 0.15);\n",
              "      filter: drop-shadow(0px 1px 2px rgba(0, 0, 0, 0.3));\n",
              "      fill: #FFFFFF;\n",
              "    }\n",
              "  </style>\n",
              "\n",
              "      <script>\n",
              "        const buttonEl =\n",
              "          document.querySelector('#df-857729ae-1167-4b23-b031-58fced349042 button.colab-df-convert');\n",
              "        buttonEl.style.display =\n",
              "          google.colab.kernel.accessAllowed ? 'block' : 'none';\n",
              "\n",
              "        async function convertToInteractive(key) {\n",
              "          const element = document.querySelector('#df-857729ae-1167-4b23-b031-58fced349042');\n",
              "          const dataTable =\n",
              "            await google.colab.kernel.invokeFunction('convertToInteractive',\n",
              "                                                     [key], {});\n",
              "          if (!dataTable) return;\n",
              "\n",
              "          const docLinkHtml = 'Like what you see? Visit the ' +\n",
              "            '<a target=\"_blank\" href=https://colab.research.google.com/notebooks/data_table.ipynb>data table notebook</a>'\n",
              "            + ' to learn more about interactive tables.';\n",
              "          element.innerHTML = '';\n",
              "          dataTable['output_type'] = 'display_data';\n",
              "          await google.colab.output.renderOutput(dataTable, element);\n",
              "          const docLink = document.createElement('div');\n",
              "          docLink.innerHTML = docLinkHtml;\n",
              "          element.appendChild(docLink);\n",
              "        }\n",
              "      </script>\n",
              "    </div>\n",
              "  </div>\n",
              "  "
            ]
          },
          "metadata": {},
          "execution_count": 10
        }
      ]
    },
    {
      "cell_type": "markdown",
      "source": [
        "**Inference:** AIC measure how much information is lost by fitting model in data and low AIc score means less info is lost.  \n",
        "\n",
        "  \n",
        "lowest AIC is of order(1,1) same as data so we can say that this is correct way to find the order "
      ],
      "metadata": {
        "id": "cQQOHaWh2Lrb"
      }
    },
    {
      "cell_type": "code",
      "source": [],
      "metadata": {
        "id": "5wwgb2UT6Ub5"
      },
      "execution_count": 10,
      "outputs": []
    },
    {
      "cell_type": "markdown",
      "source": [
        "**Residual Analysis** :   \n",
        "AIC is a measure of relative quality but we also need  we need an absolute measure of the model’s quality  \n",
        "\n",
        "Residual analysis is simple: observed series - predicted equation series  \n",
        "In this we want some  properties should we satisifed:  \n",
        "1) residual(error) is normally distributed as a white noise  \n",
        "2) error should be uncorrelated  \n",
        "\n",
        "  \n",
        "1) To check normal  condition we  can we QQ plot or any test  \n",
        "2) for no auto correlation we use Ljung-Box test"
      ],
      "metadata": {
        "id": "TXoFFZ0O3OSs"
      }
    },
    {
      "cell_type": "code",
      "source": [],
      "metadata": {
        "id": "mvhScc7L3eRV"
      },
      "execution_count": 10,
      "outputs": []
    },
    {
      "cell_type": "code",
      "source": [
        "## define the model\n",
        "model = SARIMAX(ARMA_1_1, order = (1,0,1), simple_differencing= False).fit(disp = False)\n",
        "residuals = model.resid\n",
        "print(residuals)\n"
      ],
      "metadata": {
        "colab": {
          "base_uri": "https://localhost:8080/"
        },
        "id": "aI8vKxCe6zBI",
        "outputId": "01fde378-e024-4b54-8421-ee41a80a9a33"
      },
      "execution_count": 11,
      "outputs": [
        {
          "output_type": "stream",
          "name": "stdout",
          "text": [
            "[ 4.96714153e-01  1.47721307e-01  4.43731915e-01  1.80363131e+00\n",
            " -2.09827141e-01 -2.37428222e-01  1.57044235e+00  8.76423378e-01\n",
            " -4.86274295e-01  5.68300730e-01 -4.68710767e-01 -4.61285811e-01\n",
            "  2.20202855e-01 -1.90267860e+00 -1.76321476e+00 -5.95922478e-01\n",
            " -1.04526883e+00  3.02326062e-01 -9.30064196e-01 -1.40173568e+00\n",
            "  1.42552961e+00 -2.24884042e-01  8.76246391e-02 -1.44130465e+00\n",
            " -5.30184414e-01  6.31165978e-02 -1.13128268e+00  3.50988732e-01\n",
            " -6.07279073e-01 -2.86630995e-01 -6.21258307e-01  1.85816372e+00\n",
            " -3.72358482e-02 -9.97107113e-01  7.79382718e-01 -1.20281184e+00\n",
            "  2.05425161e-01 -1.98192211e+00 -1.31028986e+00  1.32367869e-01\n",
            "  7.49507774e-01  1.49713621e-01 -8.15904236e-02 -3.23539304e-01\n",
            " -1.45759493e+00 -7.45529660e-01 -4.74808831e-01  1.04037683e+00\n",
            "  3.37318625e-01 -1.73879105e+00  3.17328019e-01 -4.17005812e-01\n",
            " -6.51970351e-01  5.78264770e-01  1.04137391e+00  9.29305424e-01\n",
            " -8.10294401e-01 -3.03590751e-01  3.16414720e-01  9.78248381e-01\n",
            " -4.77808651e-01 -1.61490853e-01 -1.13178094e+00 -1.17766993e+00\n",
            "  7.67582707e-01  1.35863694e+00 -6.80894063e-02  1.03514561e+00\n",
            "  3.41755000e-01 -5.99484583e-01  3.37674603e-01  1.54989629e+00\n",
            " -4.21936584e-02  1.60962551e+00 -2.65012364e+00  8.93444028e-01\n",
            " -2.89869603e-02 -1.88743344e-01 -6.25296326e-03 -1.90358663e+00\n",
            " -2.95487064e-01  3.78932179e-01  1.43638509e+00 -4.79367191e-01\n",
            " -8.07602966e-01 -5.02612375e-01  8.96739002e-01  3.26649671e-01\n",
            " -5.12023696e-01  5.10538555e-01  9.07922256e-02  9.84010821e-01\n",
            " -7.11288446e-01 -2.93408850e-01 -4.32083955e-01 -1.43726754e+00\n",
            "  2.59847946e-01  2.54471927e-01  5.05293622e-03 -2.30172561e-01\n",
            " -1.41771809e+00 -4.22735277e-01 -3.76520206e-01 -7.93015434e-01\n",
            " -1.84878133e-01  4.01284141e-01  1.87644904e+00  1.88139354e-01\n",
            "  2.92582611e-01 -8.69077349e-02 -1.89443034e+00 -4.52435291e-02\n",
            "  3.17918321e-02  2.47365499e+00 -2.07270863e-01  3.73851876e-01\n",
            " -8.68230096e-02 -1.10856024e+00  1.09141491e+00  7.71230089e-01\n",
            "  7.91475688e-01 -8.85920363e-01  1.40900237e+00 -1.42152906e+00\n",
            "  6.35560814e-01  2.12107731e+00 -9.21861739e-01 -5.73721649e-01\n",
            "  1.01044783e-01 -5.20461082e-01 -1.53745028e+00  4.43020459e-02\n",
            " -1.08191947e+00  4.80169310e-01 -9.55540236e-01  1.58542656e+00\n",
            " -8.38656220e-01 -2.40177957e-01  7.29412532e-01 -1.16474458e+00\n",
            "  1.83567610e-01  1.32289948e+00 -1.62540352e+00  2.32995127e-01\n",
            "  1.86474620e-01  8.44192251e-01 -1.29021978e+00 -1.25015231e+00\n",
            "  4.34877553e-01  3.37117529e-01  2.12924265e-01  3.87913191e-01\n",
            " -7.10014996e-01  2.71462186e-01  2.44043082e-01 -6.68011306e-01\n",
            "  1.83115439e+00  4.89672110e-01 -1.16586640e+00  6.58703297e-01\n",
            " -9.97772996e-01  8.18051471e-01  1.10896399e+00 -7.63488143e-01\n",
            "  9.43392536e-01  4.21262055e-01  8.34266452e-01  1.90172023e+00\n",
            " -2.25724428e-01 -7.17320909e-01 -9.10549678e-01 -8.10180720e-01\n",
            " -1.08029258e-01  3.41226939e-01  2.65147290e-01  8.42180860e-01\n",
            "  6.86939257e-03  1.48192186e+00 -2.83903109e-01  2.77585702e+00\n",
            "  5.78712505e-01 -7.46434553e-01 -1.13466785e+00  5.33491418e-01\n",
            " -2.99442808e-01  7.86289703e-01  4.01559658e-01  8.58854712e-03\n",
            " -9.05012354e-01 -1.45698123e+00 -5.18075604e-01  8.79477798e-01\n",
            "  1.67264214e-01 -1.19028736e+00  1.32264107e-01  3.95748988e-01\n",
            " -8.98459240e-01  1.75506118e-01  1.92094826e-02 -1.10961179e+00\n",
            "  3.28413899e-01  5.60084047e-01  1.08292612e+00  1.06666927e+00\n",
            " -1.35951138e+00 -9.17982245e-01  4.75766494e-01  5.19735104e-01\n",
            "  5.11866094e-01  3.86864224e+00  5.70622719e-01  1.23436765e+00\n",
            "  9.08811839e-01  7.35217366e-01 -3.55582280e-01  8.24355333e-01\n",
            " -8.31868763e-01 -1.63048858e-01 -5.65584341e-01  1.46163098e-01\n",
            "  2.24042331e+00 -1.80341497e+00  6.83814123e-01 -1.63797093e+00\n",
            " -4.39943368e-01  1.02327838e+00  1.00521956e-01 -1.09250759e+00\n",
            " -6.93310804e-01  6.36248574e-01 -7.16022701e-01  2.11911737e-01\n",
            "  3.46179563e-02 -6.41252806e-01  2.13604527e+00  6.24405360e-01\n",
            " -1.96992664e+00  1.67778324e-01 -6.83617744e-01  8.64636483e-01\n",
            " -8.23085998e-01 -7.16337447e-02  4.50959380e-01  9.07609091e-01\n",
            " -1.22963084e+00 -2.82529596e-01 -5.43660882e-01 -6.04847445e-01\n",
            "  1.70477663e+00  4.38411162e-01 -1.25615302e+00  9.35939963e-01\n",
            "  2.08150239e+00  1.08301675e+00 -1.51035276e+00 -4.47979413e-01\n",
            "  1.21141928e+00 -6.76557964e-01  4.40028376e-01  7.68733908e-01\n",
            " -9.14251833e-01 -4.92645501e-02 -3.26609476e+00 -1.00596701e+00\n",
            " -3.49553084e-01 -1.20981142e+00  1.57517418e+00 -1.41638048e+00\n",
            " -4.24719203e-01  9.11976456e-02  1.45843003e+00 -1.45573931e+00\n",
            "  1.21627303e+00 -6.30118202e-02 -8.93711043e-01  3.88913498e-01\n",
            "  2.44639575e-01 -6.38186602e-01  1.11316237e-01 -4.36071293e-01\n",
            "  1.58046872e-01  6.10934013e-01  1.63211048e+00 -1.26541876e+00\n",
            "  2.20290219e+00 -2.03336098e+00 -2.91760027e-02  4.43629865e-01\n",
            "  3.99554050e-01 -7.22436902e-01 -1.05960332e-01 -5.98691071e-01\n",
            " -5.00710413e-01  7.53496053e-01  4.25718835e-01 -7.42120064e-01\n",
            "  9.58694373e-01  2.39945107e-01  8.92364448e-01  5.69222961e-01\n",
            " -7.49726008e-01 -6.09394263e-01  7.80519971e-01  5.61629654e-01\n",
            "  3.58357534e-02  8.39636411e-02  1.31400608e+00 -6.21119120e-01\n",
            "  6.07195113e-01 -2.61461529e-01 -1.50934064e-01  1.03657039e+00\n",
            "  8.76377911e-01  7.90856189e-01  1.35398005e+00  4.53078895e-03\n",
            "  7.38307830e-01 -3.48467829e-01  3.80706083e-01 -1.82918379e-01\n",
            "  1.53332628e-01  5.42625734e-01 -7.68113540e-01  2.06193169e+00\n",
            " -9.94178755e-01 -1.17862534e+00  1.11690673e+00  7.96355943e-01\n",
            "  6.36631891e-01  6.41332158e-01 -1.26400189e-03 -8.84425639e-01\n",
            "  7.18494161e-02 -6.92913513e-01  9.85509899e-01 -1.75161358e-01\n",
            " -7.81817717e-01 -3.58766990e-01  4.28294293e-01 -5.92271507e-01\n",
            " -7.90241812e-01  2.02891378e-01  2.58505077e-01 -5.21527784e-01\n",
            " -4.51999274e-01  2.04293775e-01 -1.43758136e+00 -1.41548225e+00\n",
            " -7.45006748e-01 -2.34141422e-01  2.97632703e-01  1.47148835e+00\n",
            "  8.62554487e-01 -1.28493478e-01 -1.50234602e-02 -9.99233580e-01\n",
            " -1.90606800e-02 -3.11829730e-01  3.35965979e-01 -8.49354700e-01\n",
            "  5.44856316e-01  1.49040095e+00 -6.43168367e-02  4.00155079e-01\n",
            "  7.01641785e-01 -3.99108602e-01  2.43468968e-01 -8.15847796e-03\n",
            "  1.21281175e-01 -7.93002908e-01  4.63714923e-02  4.60107766e-01\n",
            "  1.48042798e+00  9.41707382e-01  2.20729678e+00 -7.82575070e-01\n",
            "  9.50878888e-01  1.13016348e-01  2.27638433e+00 -8.77709094e-01\n",
            " -7.18394021e-01 -7.11314059e-01 -2.04111252e+00 -6.21892952e-01\n",
            " -7.28813839e-01  9.09366454e-02  3.67409800e-01  1.84642285e+00\n",
            "  9.82914346e-01 -5.59871916e-01 -8.74993679e-01  4.69745501e-01\n",
            " -1.32231098e+00  1.83883251e+00  1.14099421e+00 -4.00233798e-01\n",
            " -1.73637456e+00  1.37817284e+00 -1.78700594e-01  1.31624434e+00\n",
            " -1.66381709e+00 -5.03297953e-01 -1.11137692e-01  1.30210882e-01\n",
            " -5.34449477e-01  6.99384662e-01 -1.14983744e+00 -5.46795776e-02\n",
            "  1.75453769e-02  5.98174570e-01  6.33581735e-01 -1.04102939e+00\n",
            " -1.58904939e+00  1.30900495e+00  2.58803847e-01 -6.64557185e-01\n",
            "  1.48788732e+00  1.59210158e-01  1.17222523e+00  8.69785381e-02\n",
            "  2.07589654e+00  1.75262194e+00 -1.93520846e-01  9.81085946e-01\n",
            "  6.49881464e-01  1.39219347e+00 -9.62576091e-01  7.25904599e-01\n",
            "  1.01157710e+00 -1.70289489e+00 -1.20344001e+00 -2.05258289e+00\n",
            " -2.95257206e-01  6.79072911e-01  1.51016500e+00  7.43677620e-02\n",
            "  1.66750358e+00 -1.40222123e+00 -1.63780562e+00 -1.33611327e-01\n",
            "  4.08462926e-01 -7.24139102e-02 -2.02717417e+00 -1.24413614e-01\n",
            " -1.32188582e+00  6.67902662e-01  3.30030697e-01 -9.02697042e-01\n",
            " -5.37352478e-01 -1.05669837e+00 -8.31714752e-02  9.42151531e-01\n",
            " -9.86432597e-01  5.24506471e-01 -5.66974245e-01 -7.52317576e-01\n",
            " -1.54571599e-01 -1.01417189e+00 -5.82472080e-01 -1.19941085e+00\n",
            "  1.94411901e+00  1.64055817e-02 -6.46845321e-01  1.78350625e-01\n",
            " -9.24777582e-02 -2.38205646e-01  6.27768242e-01  7.38443095e-01\n",
            " -5.00593151e-01 -5.80402837e-01 -2.75856511e-01 -2.31673619e+00\n",
            " -1.51192002e+00  1.30515495e+00  1.64447087e+00 -2.35140969e-01\n",
            "  6.08576709e-01  2.90105663e-01  3.11498064e+00  1.09745296e+00\n",
            " -2.93553489e-02 -9.92993801e-01 -1.55690808e+00  1.40527048e-01\n",
            " -7.43553029e-01 -1.44345923e+00 -6.47734143e-01 -1.12165116e+00\n",
            "  1.69535959e+00  8.37074967e-01  6.15031594e-02  1.44695145e+00\n",
            "  1.16791457e-01 -8.58450226e-01  1.53587446e+00  5.10201055e-01\n",
            " -9.79541413e-01 -2.19277210e-01 -8.66241136e-01 -1.40120950e+00\n",
            "  9.19385788e-01  1.87343081e+00 -1.35798387e+00  5.75665096e-01\n",
            " -6.80365529e-01 -4.51538419e-01 -6.38019256e-01 -8.37771343e-01\n",
            "  5.26500311e-03 -8.18602525e-01  2.51754900e-01 -5.59357184e-02\n",
            " -2.34620489e-01 -9.12921976e-01 -5.77546193e-01  7.32409566e-01\n",
            "  4.99659585e-01 -9.65651726e-01  1.04802409e-01  7.27811880e-01\n",
            " -1.65188549e+00  5.45308179e-01 -6.99614623e-01  6.06740360e-01\n",
            " -8.12398355e-01 -1.75045237e+00 -1.69208675e+00  5.96542828e-02\n",
            "  1.93472203e-01 -8.60685059e-01  5.99649042e-01 -1.64779899e+00\n",
            " -6.93192241e-02 -1.24551032e+00 -6.33286191e-01 -3.20969311e-03\n",
            " -8.40868075e-01 -4.09747798e-01  1.00631746e+00 -5.94611104e-01\n",
            "  8.71133672e-01 -1.17065585e+00  5.85904239e-01  1.36805326e+00\n",
            " -2.39919013e+00 -8.25153190e-01  5.55856030e-01 -2.18957678e-01\n",
            "  3.88334552e-01 -6.24169610e-01  1.13190741e-01 -1.92332282e-01\n",
            "  1.19971816e+00  2.19871580e-01  3.96080232e-01 -4.50891832e-01\n",
            " -4.38293271e-01 -4.83271682e-01  4.27728716e-01 -4.66861702e-01\n",
            "  3.36880691e-01  2.02317916e+00  9.21997868e-01 -3.21747850e-01\n",
            "  1.23564729e+00 -4.35853496e-01 -1.98163884e+00 -1.05852273e+00\n",
            " -1.87303029e+00 -3.88939989e-01 -5.67115304e-03  1.67068668e+00\n",
            "  3.22368671e-01 -1.77386597e-01  8.11529281e-01 -2.19380694e+00\n",
            "  2.41665015e-01  7.18351076e-01 -1.44048730e+00  1.12511634e+00\n",
            "  3.24183685e-01 -3.84758912e-01  6.18956208e-01  2.27756455e+00\n",
            "  1.87606203e-01  3.02309279e-01 -4.85264004e-01 -8.11759087e-01\n",
            "  7.89307017e-01 -8.41608921e-01  7.14132134e-02 -4.94144674e-01\n",
            "  4.90725888e-01  3.09733132e-01  1.06672630e+00 -5.27030629e-01\n",
            " -2.25272250e-01 -1.02255489e+00 -4.10856993e-01  3.20623228e-01\n",
            "  7.89497373e-01 -9.49838331e-01  9.14919205e-01  1.29737561e+00\n",
            "  4.81970863e-01  1.85151159e+00 -7.29158096e-01 -1.23230070e+00\n",
            " -1.79056655e+00  1.47751749e+00  6.17252899e-01 -3.15500431e-03\n",
            "  2.53777462e-01 -1.09564384e+00  2.42775229e+00  1.19812080e-01\n",
            "  1.69186453e-01  6.90698903e-01  5.22074480e-01  2.06420296e-01\n",
            " -7.56079344e-01  4.51844957e-01  1.88442610e+00  1.34834678e+00\n",
            "  1.63732250e+00 -5.04526370e-01 -9.40871267e-01 -1.64380062e-01\n",
            "  6.91996765e-02  1.07140431e+00 -1.67426729e+00  1.53973264e+00\n",
            " -2.00857529e-01 -3.60999204e-01 -1.06759743e+00 -1.61186587e+00\n",
            "  7.57269007e-01  8.42921011e-02 -1.29637953e+00 -1.28532746e+00\n",
            " -3.74184445e-01  1.66321138e+00 -2.77115007e-01 -1.45359407e+00\n",
            " -2.85687179e-01 -2.70679510e-01 -2.71605538e+00 -4.72752492e-02\n",
            " -3.06791889e-01  7.41943185e-01  1.79281945e+00  1.18941593e+00\n",
            " -2.78574353e-01 -1.05400536e+00  2.53355733e+00  6.99482162e-02\n",
            "  5.83749890e-02 -4.56661754e-02  2.24656512e-01 -1.67307618e-01\n",
            " -5.47108979e-01 -5.72660748e-01 -2.31253533e-02 -5.70291992e-01\n",
            " -6.94508761e-01  7.46231266e-02 -2.48125599e-01  1.49305498e+00\n",
            " -2.64964028e+00  1.12588541e+00  1.16068135e+00 -1.98665676e+00\n",
            " -3.88022928e-01 -3.68797669e-01 -1.43097735e+00 -7.71328009e-01\n",
            " -1.15543607e+00  1.76243064e+00  8.87770365e-01  1.34515151e+00\n",
            "  6.85722379e-01 -1.05486091e+00 -5.60863214e-01  5.06102498e-01\n",
            " -1.25618064e+00  7.50937785e-01 -3.03403243e-01 -3.08474614e-01\n",
            "  6.47003126e-01  4.92546653e-01 -3.91803273e-01  1.20329323e+00\n",
            " -1.12595882e+00  6.84833629e-01  5.11965266e-01 -2.26050396e-01\n",
            "  2.66898430e-01 -1.19856405e+00  8.83798066e-01 -1.76376407e-01\n",
            " -5.17266084e-01  1.04419618e+00 -7.13303651e-01 -1.37853315e+00\n",
            " -1.59332289e+00  6.03340911e-01 -1.32844380e+00  1.79797363e+00\n",
            " -2.15444210e+00  1.79662573e+00  7.78651331e-02  5.36500199e-02\n",
            " -6.68905039e-01  5.15987945e-01 -1.57854209e-01  1.21954452e+00\n",
            "  7.45574393e-03  2.75535762e-01 -4.67277378e-01  4.61985417e-02\n",
            "  2.06574287e-01 -1.62067413e+00 -1.42312888e+00  7.73756294e-01\n",
            "  9.66637372e-02 -1.12858872e-01 -4.17942721e-02  4.00229426e-01\n",
            " -5.88907274e-01 -7.24453642e-01  1.36437631e-01 -9.46099235e-01\n",
            "  3.76579289e-01 -1.69826487e+00  1.02807074e+00  4.32261534e-01\n",
            "  3.04364170e-01  9.53292953e-01  1.70313077e+00  1.00615307e+00\n",
            " -1.78453120e+00 -1.28934373e+00 -6.46111579e-01  4.82045881e-03\n",
            "  5.08458164e-01 -7.26470285e-01  1.97526402e-01 -7.79817830e-01\n",
            " -5.88769212e-01 -1.44558098e+00 -9.07384217e-01 -1.40664926e+00\n",
            " -9.60303409e-01  9.95346991e-01 -9.34794987e-01  2.63242830e+00\n",
            "  4.72809938e-01  2.60986886e-01 -8.97602390e-01  7.51681249e-01\n",
            " -6.39321302e-01  1.92700381e-01  2.48485990e+00 -2.88593967e-02\n",
            "  1.14939954e+00 -6.85934868e-01 -1.65780054e-02  1.74800175e+00\n",
            " -6.09920209e-01  1.83915539e+00  6.80660751e-01 -4.94515162e-01\n",
            "  6.01730770e-01  9.97142498e-01  6.12806011e-01 -1.53407027e+00\n",
            " -7.34996534e-01 -2.69811449e-01 -8.12745590e-02  6.11937655e-01\n",
            "  1.78557436e-01 -1.32344537e+00  3.78643610e-01  5.82227417e-01\n",
            "  5.84957760e-01  1.07187332e+00  8.59807601e-01  4.67072581e-01\n",
            " -4.68754646e-02 -1.66104284e+00  4.36102371e-01  1.62953209e-01\n",
            "  3.10324633e-01 -1.30830780e+00 -1.04319082e+00  9.90704360e-01\n",
            " -1.82984692e-02  6.75755776e-01  3.67568412e-02  3.96709292e-02\n",
            "  9.35666464e-01 -5.11369554e-01  1.15837422e-01 -4.85172388e-01\n",
            " -4.12341114e-01 -3.40224266e-01  2.36773299e-01 -5.04524018e-01\n",
            "  1.28115958e+00 -9.29950413e-01 -1.27013570e-01 -5.07550348e-01\n",
            "  1.50091182e+00  1.32429116e-01  1.12132620e+00 -1.55372618e+00\n",
            "  3.60656422e-01  7.77179020e-01  1.83050484e-01  9.93533747e-01\n",
            " -4.42890198e-01  1.36995697e+00  2.33118854e+00 -3.60903724e-01\n",
            " -3.80404601e-01  1.40696084e+00  1.61491621e+00 -5.23320864e-01\n",
            " -3.70227649e-01 -3.23926921e-01 -1.31448737e+00 -9.55156164e-01\n",
            " -1.00576012e+00 -7.99734000e-01 -4.03717231e-02  2.09125682e-01\n",
            "  1.56258479e+00 -1.00838821e+00  1.03246660e+00 -2.70502021e-01\n",
            "  2.27219691e-02  6.09841861e-01 -1.06408556e+00  3.45283658e-01\n",
            "  1.78484789e-01  4.83312305e-01  3.01967859e-01  2.45681913e+00\n",
            " -6.29273239e-01 -4.75099244e-01 -6.68813626e-01 -5.24113327e-01\n",
            " -6.84646973e-01  1.21327655e+00  1.37547631e+00 -5.08651319e-01\n",
            " -8.47593795e-01  4.85858372e-01 -5.86030564e-01  6.69158758e-01\n",
            "  1.57358691e-01 -1.46250189e+00  1.50817891e+00  1.79720744e+00\n",
            " -5.88853133e-01 -3.57129409e-01  2.60358318e-01  3.49137102e-01\n",
            "  6.48902044e-01  2.02810423e+00 -1.75648326e-01 -7.44372424e-01\n",
            " -1.41456692e+00 -7.12363843e-01 -8.80367626e-02  1.81476619e+00\n",
            " -5.48192099e-01  2.92183483e-01 -7.88864141e-02  1.25152257e+00\n",
            "  2.46952063e+00 -4.50390768e-01 -4.92269920e-01  1.05761438e+00\n",
            "  6.60447653e-01  1.88853540e+00  5.68193451e-01 -2.92534401e-01\n",
            "  5.60973092e-01  1.13733527e+00  8.08284348e-01  5.49741461e-01\n",
            "  1.05762745e+00  1.19924326e+00  1.38704852e+00  6.82606345e-01\n",
            " -1.52277049e-01  1.64213604e-01  1.19650490e+00 -8.02910941e-01\n",
            "  3.87379070e-01 -4.20331761e-01  5.96288589e-02  1.24238733e+00\n",
            "  2.21643056e-01  4.85800084e-02 -1.34720347e+00  7.41452352e-01\n",
            "  6.18434950e-01  2.19558883e+00 -3.20705990e-01  2.89684047e-01\n",
            "  1.96151867e-01  1.63549626e+00 -1.40655417e-01  3.62051659e-01\n",
            "  5.42592724e-01  2.56805148e-01 -4.92968242e-01  2.47732608e-01\n",
            "  1.01679142e+00 -9.72619409e-01  1.10800353e-01 -6.95844103e-01\n",
            "  1.18949338e+00 -1.53649965e+00 -5.22547725e-01  3.14822676e-01\n",
            "  1.59949500e+00 -9.65479315e-02 -4.88388000e-01  1.83111408e+00\n",
            " -1.41297179e+00 -2.18776674e+00  4.10169194e-01 -5.35118649e-01\n",
            " -9.99695682e-01  6.73989345e-01  2.45206420e-01 -5.58188326e-01\n",
            " -1.27702906e+00  8.59354043e-01  6.27067843e-01 -6.85929141e-02\n",
            "  1.83751526e+00 -1.05903353e+00 -1.48898358e+00 -7.35293104e-01\n",
            " -4.57188502e-02  2.13356713e-01 -2.24848344e-01  3.39379751e-01\n",
            " -1.24520468e+00  1.44559312e+00 -1.12837722e-01  1.17131378e+00\n",
            "  2.98782943e-01  5.26191169e-01  5.23510481e-01  5.06901535e-01\n",
            "  6.07367173e-01  1.37853000e+00  1.71482675e-01  7.71146203e-01\n",
            " -1.29681859e-01  1.49996315e+00 -7.26982359e-01  1.88462548e+00\n",
            " -1.22629281e-01 -1.31262089e+00  3.32508326e-02 -6.24228808e-01\n",
            "  7.81863123e-01 -6.17859002e-01 -4.63586123e-01 -1.88437270e+00\n",
            " -4.70324186e-01 -2.45757024e+00 -1.57897025e+00  6.89044806e-01\n",
            "  7.90218829e-01  4.19251873e-01 -9.43037320e-01 -5.27006013e-02\n",
            " -1.69938157e-02 -1.15313846e+00  1.49690921e+00  8.53488384e-01\n",
            " -1.72658890e-01  1.27088806e-02  2.26004192e-01 -2.05592133e+00\n",
            " -2.27032083e-01 -7.47936520e-01 -9.62166699e-01 -3.40443930e-01\n",
            "  1.82039981e+00  6.01372776e-01 -4.97449869e-01  5.33105433e-01]\n"
          ]
        }
      ]
    },
    {
      "cell_type": "code",
      "source": [
        "## QQ Plot\n",
        "from statsmodels.graphics.gofplots import qqplot\n",
        "qqplot(residuals, line = '45')\n",
        "plt.show()"
      ],
      "metadata": {
        "colab": {
          "base_uri": "https://localhost:8080/",
          "height": 388
        },
        "id": "cGro1KJO7ahR",
        "outputId": "48c017c4-ed3a-4ff5-cd55-f6e392ea383e"
      },
      "execution_count": 12,
      "outputs": [
        {
          "output_type": "display_data",
          "data": {
            "text/plain": [
              "<Figure size 864x432 with 1 Axes>"
            ],
            "image/png": "[encoded data removed]"
          },
          "metadata": {
            "needs_background": "light"
          }
        }
      ]
    },
    {
      "cell_type": "markdown",
      "source": [
        "**Inference**: As most of point lie on line therefore we can say that residual is normally distributed.  \n"
      ],
      "metadata": {
        "id": "BwtqM94f72FR"
      }
    },
    {
      "cell_type": "code",
      "source": [
        "## diagnostics plot  \n",
        "model.plot_diagnostics(figsize = (12,6))\n",
        "plt.show()"
      ],
      "metadata": {
        "colab": {
          "base_uri": "https://localhost:8080/",
          "height": 404
        },
        "id": "_qTQFgNs8OGR",
        "outputId": "6b53552e-d0ff-4683-a9a1-22ade59f08d8"
      },
      "execution_count": 13,
      "outputs": [
        {
          "output_type": "display_data",
          "data": {
            "text/plain": [
              "<Figure size 864x432 with 4 Axes>"
            ],
            "image/png": "[encoded data removed]"
          },
          "metadata": {
            "needs_background": "light"
          }
        }
      ]
    },
    {
      "cell_type": "markdown",
      "source": [
        "1) first plot is residual over the sereies, we cannot see any pattern or trend so we conclude that model is fitted very well and also  indicative of stationarity, just like white noise.  \n",
        "  \n",
        "2) histogram of residual which show  the normally distribured  \n",
        "\n",
        "3) QQ Plot also show  of normally distributed  \n",
        "\n",
        "4) auto correlation between the error and it show that there is correlation"
      ],
      "metadata": {
        "id": "ogltK_Jd8xz3"
      }
    },
    {
      "cell_type": "code",
      "source": [],
      "metadata": {
        "id": "sGGZyT2k-6Ua"
      },
      "execution_count": 13,
      "outputs": []
    },
    {
      "cell_type": "markdown",
      "source": [
        "### Ljung-Box Test:  \n",
        "The Ljung-Box test is a statistical test that determines whether the autocorrelation of a group of data is significantly different from 0.\n",
        "\n",
        "H0: no auto correlation, 0  \n",
        "H1: There is auto correlaion in  a group  \n",
        "\n",
        "Output: statistic and p-value"
      ],
      "metadata": {
        "id": "bMYcKJhc-6na"
      }
    },
    {
      "cell_type": "code",
      "source": [
        "from statsmodels.stats.diagnostic import acorr_ljungbox\n",
        "\n",
        "lbvalue, pvalue = acorr_ljungbox(residuals, np.arange(1, 11, 1))  # cosnidering 10 lag\n",
        "\n",
        "print(pvalue)  \n",
        "\n",
        "# for all lag p-vaue is >0.05 there H0 is true and there is no autocorrealtion for any lag and  residuals are completely random"
      ],
      "metadata": {
        "colab": {
          "base_uri": "https://localhost:8080/"
        },
        "id": "d3hJowWQ_kBW",
        "outputId": "faa0a8e1-a9bd-4947-a8b4-5157b59f7d14"
      },
      "execution_count": 14,
      "outputs": [
        {
          "output_type": "stream",
          "name": "stdout",
          "text": [
            "[0.86089685 0.76796558 0.90981746 0.72108901 0.81038546 0.82174996\n",
            " 0.89406254 0.81750093 0.85241945 0.87409314]\n"
          ]
        }
      ]
    },
    {
      "cell_type": "code",
      "source": [],
      "metadata": {
        "id": "e76jmDotGin_"
      },
      "execution_count": 14,
      "outputs": []
    },
    {
      "cell_type": "markdown",
      "source": [
        "## Apply ARMA on climate dataset"
      ],
      "metadata": {
        "id": "oMXFmjCgGjNx"
      }
    },
    {
      "cell_type": "code",
      "source": [
        "df = pd.read_csv('https://raw.githubusercontent.com/surendra769/Time-Series-Econometrics-and-Finance/main/DailyDelhiClimateTest.csv')\n",
        "df.head()"
      ],
      "metadata": {
        "colab": {
          "base_uri": "https://localhost:8080/",
          "height": 206
        },
        "id": "z11ta4lVGqdU",
        "outputId": "8a773a82-6cfe-4096-84dd-24c6f093c922"
      },
      "execution_count": 15,
      "outputs": [
        {
          "output_type": "execute_result",
          "data": {
            "text/plain": [
              "         date   meantemp   humidity  wind_speed  meanpressure\n",
              "0  2017-01-01  15.913043  85.869565    2.743478     59.000000\n",
              "1  2017-01-02  18.500000  77.222222    2.894444   1018.277778\n",
              "2  2017-01-03  17.111111  81.888889    4.016667   1018.333333\n",
              "3  2017-01-04  18.700000  70.050000    4.545000   1015.700000\n",
              "4  2017-01-05  18.388889  74.944444    3.300000   1014.333333"
            ],
            "text/html": [
              "\n",
              "  <div id=\"df-6658c1ca-4454-43c5-8c06-54a891ca810f\">\n",
              "    <div class=\"colab-df-container\">\n",
              "      <div>\n",
              "<style scoped>\n",
              "    .dataframe tbody tr th:only-of-type {\n",
              "        vertical-align: middle;\n",
              "    }\n",
              "\n",
              "    .dataframe tbody tr th {\n",
              "        vertical-align: top;\n",
              "    }\n",
              "\n",
              "    .dataframe thead th {\n",
              "        text-align: right;\n",
              "    }\n",
              "</style>\n",
              "<table border=\"1\" class=\"dataframe\">\n",
              "  <thead>\n",
              "    <tr style=\"text-align: right;\">\n",
              "      <th></th>\n",
              "      <th>date</th>\n",
              "      <th>meantemp</th>\n",
              "      <th>humidity</th>\n",
              "      <th>wind_speed</th>\n",
              "      <th>meanpressure</th>\n",
              "    </tr>\n",
              "  </thead>\n",
              "  <tbody>\n",
              "    <tr>\n",
              "      <th>0</th>\n",
              "      <td>2017-01-01</td>\n",
              "      <td>15.913043</td>\n",
              "      <td>85.869565</td>\n",
              "      <td>2.743478</td>\n",
              "      <td>59.000000</td>\n",
              "    </tr>\n",
              "    <tr>\n",
              "      <th>1</th>\n",
              "      <td>2017-01-02</td>\n",
              "      <td>18.500000</td>\n",
              "      <td>77.222222</td>\n",
              "      <td>2.894444</td>\n",
              "      <td>1018.277778</td>\n",
              "    </tr>\n",
              "    <tr>\n",
              "      <th>2</th>\n",
              "      <td>2017-01-03</td>\n",
              "      <td>17.111111</td>\n",
              "      <td>81.888889</td>\n",
              "      <td>4.016667</td>\n",
              "      <td>1018.333333</td>\n",
              "    </tr>\n",
              "    <tr>\n",
              "      <th>3</th>\n",
              "      <td>2017-01-04</td>\n",
              "      <td>18.700000</td>\n",
              "      <td>70.050000</td>\n",
              "      <td>4.545000</td>\n",
              "      <td>1015.700000</td>\n",
              "    </tr>\n",
              "    <tr>\n",
              "      <th>4</th>\n",
              "      <td>2017-01-05</td>\n",
              "      <td>18.388889</td>\n",
              "      <td>74.944444</td>\n",
              "      <td>3.300000</td>\n",
              "      <td>1014.333333</td>\n",
              "    </tr>\n",
              "  </tbody>\n",
              "</table>\n",
              "</div>\n",
              "      <button class=\"colab-df-convert\" onclick=\"convertToInteractive('df-6658c1ca-4454-43c5-8c06-54a891ca810f')\"\n",
              "              title=\"Convert this dataframe to an interactive table.\"\n",
              "              style=\"display:none;\">\n",
              "        \n",
              "  <svg xmlns=\"http://www.w3.org/2000/svg\" height=\"24px\"viewBox=\"0 0 24 24\"\n",
              "       width=\"24px\">\n",
              "    <path d=\"M0 0h24v24H0V0z\" fill=\"none\"/>\n",
              "    <path d=\"M18.56 5.44l.94 2.06.94-2.06 2.06-.94-2.06-.94-.94-2.06-.94 2.06-2.06.94zm-11 1L8.5 8.5l.94-2.06 2.06-.94-2.06-.94L8.5 2.5l-.94 2.06-2.06.94zm10 10l.94 2.06.94-2.06 2.06-.94-2.06-.94-.94-2.06-.94 2.06-2.06.94z\"/><path d=\"M17.41 7.96l-1.37-1.37c-.4-.4-.92-.59-1.43-.59-.52 0-1.04.2-1.43.59L10.3 9.45l-7.72 7.72c-.78.78-.78 2.05 0 2.83L4 21.41c.39.39.9.59 1.41.59.51 0 1.02-.2 1.41-.59l7.78-7.78 2.81-2.81c.8-.78.8-2.07 0-2.86zM5.41 20L4 18.59l7.72-7.72 1.47 1.35L5.41 20z\"/>\n",
              "  </svg>\n",
              "      </button>\n",
              "      \n",
              "  <style>\n",
              "    .colab-df-container {\n",
              "      display:flex;\n",
              "      flex-wrap:wrap;\n",
              "      gap: 12px;\n",
              "    }\n",
              "\n",
              "    .colab-df-convert {\n",
              "      background-color: #E8F0FE;\n",
              "      border: none;\n",
              "      border-radius: 50%;\n",
              "      cursor: pointer;\n",
              "      display: none;\n",
              "      fill: #1967D2;\n",
              "      height: 32px;\n",
              "      padding: 0 0 0 0;\n",
              "      width: 32px;\n",
              "    }\n",
              "\n",
              "    .colab-df-convert:hover {\n",
              "      background-color: #E2EBFA;\n",
              "      box-shadow: 0px 1px 2px rgba(60, 64, 67, 0.3), 0px 1px 3px 1px rgba(60, 64, 67, 0.15);\n",
              "      fill: #174EA6;\n",
              "    }\n",
              "\n",
              "    [theme=dark] .colab-df-convert {\n",
              "      background-color: #3B4455;\n",
              "      fill: #D2E3FC;\n",
              "    }\n",
              "\n",
              "    [theme=dark] .colab-df-convert:hover {\n",
              "      background-color: #434B5C;\n",
              "      box-shadow: 0px 1px 3px 1px rgba(0, 0, 0, 0.15);\n",
              "      filter: drop-shadow(0px 1px 2px rgba(0, 0, 0, 0.3));\n",
              "      fill: #FFFFFF;\n",
              "    }\n",
              "  </style>\n",
              "\n",
              "      <script>\n",
              "        const buttonEl =\n",
              "          document.querySelector('#df-6658c1ca-4454-43c5-8c06-54a891ca810f button.colab-df-convert');\n",
              "        buttonEl.style.display =\n",
              "          google.colab.kernel.accessAllowed ? 'block' : 'none';\n",
              "\n",
              "        async function convertToInteractive(key) {\n",
              "          const element = document.querySelector('#df-6658c1ca-4454-43c5-8c06-54a891ca810f');\n",
              "          const dataTable =\n",
              "            await google.colab.kernel.invokeFunction('convertToInteractive',\n",
              "                                                     [key], {});\n",
              "          if (!dataTable) return;\n",
              "\n",
              "          const docLinkHtml = 'Like what you see? Visit the ' +\n",
              "            '<a target=\"_blank\" href=https://colab.research.google.com/notebooks/data_table.ipynb>data table notebook</a>'\n",
              "            + ' to learn more about interactive tables.';\n",
              "          element.innerHTML = '';\n",
              "          dataTable['output_type'] = 'display_data';\n",
              "          await google.colab.output.renderOutput(dataTable, element);\n",
              "          const docLink = document.createElement('div');\n",
              "          docLink.innerHTML = docLinkHtml;\n",
              "          element.appendChild(docLink);\n",
              "        }\n",
              "      </script>\n",
              "    </div>\n",
              "  </div>\n",
              "  "
            ]
          },
          "metadata": {},
          "execution_count": 15
        }
      ]
    },
    {
      "cell_type": "code",
      "source": [
        "df = df[['date', 'meantemp']]\n",
        "df.head()"
      ],
      "metadata": {
        "colab": {
          "base_uri": "https://localhost:8080/",
          "height": 206
        },
        "id": "cD3T1PucG3wE",
        "outputId": "86342081-9c21-4f1a-bca2-30cd4ded0425"
      },
      "execution_count": 16,
      "outputs": [
        {
          "output_type": "execute_result",
          "data": {
            "text/plain": [
              "         date   meantemp\n",
              "0  2017-01-01  15.913043\n",
              "1  2017-01-02  18.500000\n",
              "2  2017-01-03  17.111111\n",
              "3  2017-01-04  18.700000\n",
              "4  2017-01-05  18.388889"
            ],
            "text/html": [
              "\n",
              "  <div id=\"df-6ef71041-b976-4f59-af28-a6e904336e05\">\n",
              "    <div class=\"colab-df-container\">\n",
              "      <div>\n",
              "<style scoped>\n",
              "    .dataframe tbody tr th:only-of-type {\n",
              "        vertical-align: middle;\n",
              "    }\n",
              "\n",
              "    .dataframe tbody tr th {\n",
              "        vertical-align: top;\n",
              "    }\n",
              "\n",
              "    .dataframe thead th {\n",
              "        text-align: right;\n",
              "    }\n",
              "</style>\n",
              "<table border=\"1\" class=\"dataframe\">\n",
              "  <thead>\n",
              "    <tr style=\"text-align: right;\">\n",
              "      <th></th>\n",
              "      <th>date</th>\n",
              "      <th>meantemp</th>\n",
              "    </tr>\n",
              "  </thead>\n",
              "  <tbody>\n",
              "    <tr>\n",
              "      <th>0</th>\n",
              "      <td>2017-01-01</td>\n",
              "      <td>15.913043</td>\n",
              "    </tr>\n",
              "    <tr>\n",
              "      <th>1</th>\n",
              "      <td>2017-01-02</td>\n",
              "      <td>18.500000</td>\n",
              "    </tr>\n",
              "    <tr>\n",
              "      <th>2</th>\n",
              "      <td>2017-01-03</td>\n",
              "      <td>17.111111</td>\n",
              "    </tr>\n",
              "    <tr>\n",
              "      <th>3</th>\n",
              "      <td>2017-01-04</td>\n",
              "      <td>18.700000</td>\n",
              "    </tr>\n",
              "    <tr>\n",
              "      <th>4</th>\n",
              "      <td>2017-01-05</td>\n",
              "      <td>18.388889</td>\n",
              "    </tr>\n",
              "  </tbody>\n",
              "</table>\n",
              "</div>\n",
              "      <button class=\"colab-df-convert\" onclick=\"convertToInteractive('df-6ef71041-b976-4f59-af28-a6e904336e05')\"\n",
              "              title=\"Convert this dataframe to an interactive table.\"\n",
              "              style=\"display:none;\">\n",
              "        \n",
              "  <svg xmlns=\"http://www.w3.org/2000/svg\" height=\"24px\"viewBox=\"0 0 24 24\"\n",
              "       width=\"24px\">\n",
              "    <path d=\"M0 0h24v24H0V0z\" fill=\"none\"/>\n",
              "    <path d=\"M18.56 5.44l.94 2.06.94-2.06 2.06-.94-2.06-.94-.94-2.06-.94 2.06-2.06.94zm-11 1L8.5 8.5l.94-2.06 2.06-.94-2.06-.94L8.5 2.5l-.94 2.06-2.06.94zm10 10l.94 2.06.94-2.06 2.06-.94-2.06-.94-.94-2.06-.94 2.06-2.06.94z\"/><path d=\"M17.41 7.96l-1.37-1.37c-.4-.4-.92-.59-1.43-.59-.52 0-1.04.2-1.43.59L10.3 9.45l-7.72 7.72c-.78.78-.78 2.05 0 2.83L4 21.41c.39.39.9.59 1.41.59.51 0 1.02-.2 1.41-.59l7.78-7.78 2.81-2.81c.8-.78.8-2.07 0-2.86zM5.41 20L4 18.59l7.72-7.72 1.47 1.35L5.41 20z\"/>\n",
              "  </svg>\n",
              "      </button>\n",
              "      \n",
              "  <style>\n",
              "    .colab-df-container {\n",
              "      display:flex;\n",
              "      flex-wrap:wrap;\n",
              "      gap: 12px;\n",
              "    }\n",
              "\n",
              "    .colab-df-convert {\n",
              "      background-color: #E8F0FE;\n",
              "      border: none;\n",
              "      border-radius: 50%;\n",
              "      cursor: pointer;\n",
              "      display: none;\n",
              "      fill: #1967D2;\n",
              "      height: 32px;\n",
              "      padding: 0 0 0 0;\n",
              "      width: 32px;\n",
              "    }\n",
              "\n",
              "    .colab-df-convert:hover {\n",
              "      background-color: #E2EBFA;\n",
              "      box-shadow: 0px 1px 2px rgba(60, 64, 67, 0.3), 0px 1px 3px 1px rgba(60, 64, 67, 0.15);\n",
              "      fill: #174EA6;\n",
              "    }\n",
              "\n",
              "    [theme=dark] .colab-df-convert {\n",
              "      background-color: #3B4455;\n",
              "      fill: #D2E3FC;\n",
              "    }\n",
              "\n",
              "    [theme=dark] .colab-df-convert:hover {\n",
              "      background-color: #434B5C;\n",
              "      box-shadow: 0px 1px 3px 1px rgba(0, 0, 0, 0.15);\n",
              "      filter: drop-shadow(0px 1px 2px rgba(0, 0, 0, 0.3));\n",
              "      fill: #FFFFFF;\n",
              "    }\n",
              "  </style>\n",
              "\n",
              "      <script>\n",
              "        const buttonEl =\n",
              "          document.querySelector('#df-6ef71041-b976-4f59-af28-a6e904336e05 button.colab-df-convert');\n",
              "        buttonEl.style.display =\n",
              "          google.colab.kernel.accessAllowed ? 'block' : 'none';\n",
              "\n",
              "        async function convertToInteractive(key) {\n",
              "          const element = document.querySelector('#df-6ef71041-b976-4f59-af28-a6e904336e05');\n",
              "          const dataTable =\n",
              "            await google.colab.kernel.invokeFunction('convertToInteractive',\n",
              "                                                     [key], {});\n",
              "          if (!dataTable) return;\n",
              "\n",
              "          const docLinkHtml = 'Like what you see? Visit the ' +\n",
              "            '<a target=\"_blank\" href=https://colab.research.google.com/notebooks/data_table.ipynb>data table notebook</a>'\n",
              "            + ' to learn more about interactive tables.';\n",
              "          element.innerHTML = '';\n",
              "          dataTable['output_type'] = 'display_data';\n",
              "          await google.colab.output.renderOutput(dataTable, element);\n",
              "          const docLink = document.createElement('div');\n",
              "          docLink.innerHTML = docLinkHtml;\n",
              "          element.appendChild(docLink);\n",
              "        }\n",
              "      </script>\n",
              "    </div>\n",
              "  </div>\n",
              "  "
            ]
          },
          "metadata": {},
          "execution_count": 16
        }
      ]
    },
    {
      "cell_type": "code",
      "source": [
        "df['date'] = pd.to_datetime(df['date'])\n"
      ],
      "metadata": {
        "id": "EToIWisyHBCy"
      },
      "execution_count": 17,
      "outputs": []
    },
    {
      "cell_type": "code",
      "source": [
        "plt.figure(figsize = (14,7))\n",
        "plt.gca().xaxis.set_major_formatter(mdates.DateFormatter('%d-%m-%Y'))     #specify the date foramt of  xaxis\n",
        "\n",
        "plt.gca().xaxis.set_major_locator(mdates.DayLocator(interval=10))  # specify  the interval\n",
        "plt.gcf().autofmt_xdate()    # manage the space\n",
        "\n",
        "sns.lineplot(df['date'], df['meantemp'])\n",
        "plt.ylabel('Temperature')\n",
        "\n",
        "plt.xticks(rotation=90)     # rotate the xaxis value by 90 degree\n",
        "plt.show()"
      ],
      "metadata": {
        "colab": {
          "base_uri": "https://localhost:8080/",
          "height": 453
        },
        "id": "CgD4Tbk-HZMm",
        "outputId": "a97422bc-ea73-437c-9115-8fdeacfa63e2"
      },
      "execution_count": 18,
      "outputs": [
        {
          "output_type": "display_data",
          "data": {
            "text/plain": [
              "<Figure size 1008x504 with 1 Axes>"
            ],
            "image/png": "[encoded data removed]"
          },
          "metadata": {
            "needs_background": "light"
          }
        }
      ]
    },
    {
      "cell_type": "code",
      "source": [
        "## to get  the better idea about trend, cyclical variation and  residuall\n",
        "decomposition = sm.tsa.seasonal_decompose(df['meantemp'],period = 12, model = 'multiplicative' )\n",
        "decomposition.plot()\n",
        "plt.show()     # to get only one plot "
      ],
      "metadata": {
        "colab": {
          "base_uri": "https://localhost:8080/",
          "height": 441
        },
        "id": "VkK6xi3xH0J3",
        "outputId": "2e791fd4-b157-437f-80c2-b74155bbc0ee"
      },
      "execution_count": 19,
      "outputs": [
        {
          "output_type": "display_data",
          "data": {
            "text/plain": [
              "<Figure size 864x432 with 4 Axes>"
            ],
            "image/png": "[encoded data removed]"
          },
          "metadata": {
            "needs_background": "light"
          }
        }
      ]
    },
    {
      "cell_type": "code",
      "source": [
        "ADF_result = adfuller(df['meantemp'])\n",
        "\n",
        "print(f'ADF Statistic: {ADF_result[0]}')\n",
        "print(f'p-value: {ADF_result[1]}')\n"
      ],
      "metadata": {
        "colab": {
          "base_uri": "https://localhost:8080/"
        },
        "id": "zCTYObPPIJpS",
        "outputId": "407be0c9-aacd-4510-b318-d570a0d4a8e7"
      },
      "execution_count": 20,
      "outputs": [
        {
          "output_type": "stream",
          "name": "stdout",
          "text": [
            "ADF Statistic: -1.096474275875619\n",
            "p-value: 0.7164758731775932\n"
          ]
        }
      ]
    },
    {
      "cell_type": "code",
      "source": [
        "## remove the trend by differcing  \n",
        "df['diff_temp'] = np.diff(df['meantemp'], n = 1,prepend = df['meantemp'][1])    # without prepend we get one value less as it value start from 2nd value -1 value of column\n",
        "\n",
        "# again adf test\n",
        "adf_test = adfuller(df['diff_temp'])\n",
        "\n",
        "\n",
        "print('{} is a statistic value'.format(adf_test[0]))\n",
        "print('{} is a p value'.format(adf_test[1]))\n",
        "## as p value is less than 0.05 therefore we reject the null  hypothesis"
      ],
      "metadata": {
        "colab": {
          "base_uri": "https://localhost:8080/"
        },
        "id": "NesWQt51ITgD",
        "outputId": "72a75ec7-e19f-4720-d890-0b1d1036e64f"
      },
      "execution_count": 21,
      "outputs": [
        {
          "output_type": "stream",
          "name": "stdout",
          "text": [
            "-12.334379916007231 is a statistic value\n",
            "6.32139424982012e-23 is a p value\n"
          ]
        }
      ]
    },
    {
      "cell_type": "code",
      "source": [
        "## we will take 80-20 train test \n",
        "\n",
        "train = df.iloc[:int(df.shape[0]*0.80),]    # earlier train, test dont have diff variable  train, test\n",
        "test = df.iloc[int(df.shape[0]*0.80):,]"
      ],
      "metadata": {
        "id": "aLtFRJYBJEhC"
      },
      "execution_count": 22,
      "outputs": []
    },
    {
      "cell_type": "code",
      "source": [
        "print('Train size', train.shape)\n",
        "print('Test size', test.shape)"
      ],
      "metadata": {
        "colab": {
          "base_uri": "https://localhost:8080/"
        },
        "id": "XZjYiUZMJPwI",
        "outputId": "d2998cbd-d97b-4591-e6e7-127499774fdd"
      },
      "execution_count": 23,
      "outputs": [
        {
          "output_type": "stream",
          "name": "stdout",
          "text": [
            "Train size (91, 3)\n",
            "Test size (23, 3)\n"
          ]
        }
      ]
    },
    {
      "cell_type": "code",
      "source": [
        "result_arma = optimize_arma(train['diff_temp'], order_list)  # we have order ist of  upto (3,3)\n",
        "result_arma"
      ],
      "metadata": {
        "colab": {
          "base_uri": "https://localhost:8080/",
          "height": 583,
          "referenced_widgets": [
            "b4faa82900784140b28cacb3b718eb82",
            "387b5f204f6c40dba66d423587c11cc1",
            "ebdbb94f4a384c31a4022d47b72644d3",
            "0fef9eafeb3f4d53a7a1ae615bbaddfe",
            "bddd4895ce33412c97be625cae417001",
            "993e33291bc648ae8cb1c6a65e0cbb86",
            "12c8b38418cb4aaaaaa6b43517030f71",
            "70fe66fb175249c39936bfbcda735d3d",
            "f2ec87c25fdc46b681c093d6521282a6",
            "3f1e8ac6824b4f1982cb9163cad9d7da",
            "613da613c96b4d86bad4a63cf5f27b69"
          ]
        },
        "id": "N4rl6fXRJj8u",
        "outputId": "c357d69c-7278-4762-9a63-862d970730ae"
      },
      "execution_count": 24,
      "outputs": [
        {
          "output_type": "display_data",
          "data": {
            "text/plain": [
              "  0%|          | 0/16 [00:00<?, ?it/s]"
            ],
            "application/vnd.jupyter.widget-view+json": {
              "version_major": 2,
              "version_minor": 0,
              "model_id": "b4faa82900784140b28cacb3b718eb82"
            }
          },
          "metadata": {}
        },
        {
          "output_type": "execute_result",
          "data": {
            "text/plain": [
              "     (p,q)         AIC\n",
              "0   (0, 0)  364.090723\n",
              "1   (1, 0)  364.374980\n",
              "2   (0, 1)  364.441224\n",
              "3   (1, 1)  366.342943\n",
              "4   (2, 0)  366.348933\n",
              "5   (0, 2)  366.387467\n",
              "6   (3, 2)  366.926843\n",
              "7   (2, 3)  367.095846\n",
              "8   (0, 3)  368.032728\n",
              "9   (3, 0)  368.281445\n",
              "10  (1, 2)  368.342813\n",
              "11  (2, 1)  368.342902\n",
              "12  (1, 3)  368.965653\n",
              "13  (3, 1)  369.095621\n",
              "14  (2, 2)  369.523557\n",
              "15  (3, 3)  372.248239"
            ],
            "text/html": [
              "\n",
              "  <div id=\"df-ffbb2c56-0b59-4a88-8a38-8aecea31da93\">\n",
              "    <div class=\"colab-df-container\">\n",
              "      <div>\n",
              "<style scoped>\n",
              "    .dataframe tbody tr th:only-of-type {\n",
              "        vertical-align: middle;\n",
              "    }\n",
              "\n",
              "    .dataframe tbody tr th {\n",
              "        vertical-align: top;\n",
              "    }\n",
              "\n",
              "    .dataframe thead th {\n",
              "        text-align: right;\n",
              "    }\n",
              "</style>\n",
              "<table border=\"1\" class=\"dataframe\">\n",
              "  <thead>\n",
              "    <tr style=\"text-align: right;\">\n",
              "      <th></th>\n",
              "      <th>(p,q)</th>\n",
              "      <th>AIC</th>\n",
              "    </tr>\n",
              "  </thead>\n",
              "  <tbody>\n",
              "    <tr>\n",
              "      <th>0</th>\n",
              "      <td>(0, 0)</td>\n",
              "      <td>364.090723</td>\n",
              "    </tr>\n",
              "    <tr>\n",
              "      <th>1</th>\n",
              "      <td>(1, 0)</td>\n",
              "      <td>364.374980</td>\n",
              "    </tr>\n",
              "    <tr>\n",
              "      <th>2</th>\n",
              "      <td>(0, 1)</td>\n",
              "      <td>364.441224</td>\n",
              "    </tr>\n",
              "    <tr>\n",
              "      <th>3</th>\n",
              "      <td>(1, 1)</td>\n",
              "      <td>366.342943</td>\n",
              "    </tr>\n",
              "    <tr>\n",
              "      <th>4</th>\n",
              "      <td>(2, 0)</td>\n",
              "      <td>366.348933</td>\n",
              "    </tr>\n",
              "    <tr>\n",
              "      <th>5</th>\n",
              "      <td>(0, 2)</td>\n",
              "      <td>366.387467</td>\n",
              "    </tr>\n",
              "    <tr>\n",
              "      <th>6</th>\n",
              "      <td>(3, 2)</td>\n",
              "      <td>366.926843</td>\n",
              "    </tr>\n",
              "    <tr>\n",
              "      <th>7</th>\n",
              "      <td>(2, 3)</td>\n",
              "      <td>367.095846</td>\n",
              "    </tr>\n",
              "    <tr>\n",
              "      <th>8</th>\n",
              "      <td>(0, 3)</td>\n",
              "      <td>368.032728</td>\n",
              "    </tr>\n",
              "    <tr>\n",
              "      <th>9</th>\n",
              "      <td>(3, 0)</td>\n",
              "      <td>368.281445</td>\n",
              "    </tr>\n",
              "    <tr>\n",
              "      <th>10</th>\n",
              "      <td>(1, 2)</td>\n",
              "      <td>368.342813</td>\n",
              "    </tr>\n",
              "    <tr>\n",
              "      <th>11</th>\n",
              "      <td>(2, 1)</td>\n",
              "      <td>368.342902</td>\n",
              "    </tr>\n",
              "    <tr>\n",
              "      <th>12</th>\n",
              "      <td>(1, 3)</td>\n",
              "      <td>368.965653</td>\n",
              "    </tr>\n",
              "    <tr>\n",
              "      <th>13</th>\n",
              "      <td>(3, 1)</td>\n",
              "      <td>369.095621</td>\n",
              "    </tr>\n",
              "    <tr>\n",
              "      <th>14</th>\n",
              "      <td>(2, 2)</td>\n",
              "      <td>369.523557</td>\n",
              "    </tr>\n",
              "    <tr>\n",
              "      <th>15</th>\n",
              "      <td>(3, 3)</td>\n",
              "      <td>372.248239</td>\n",
              "    </tr>\n",
              "  </tbody>\n",
              "</table>\n",
              "</div>\n",
              "      <button class=\"colab-df-convert\" onclick=\"convertToInteractive('df-ffbb2c56-0b59-4a88-8a38-8aecea31da93')\"\n",
              "              title=\"Convert this dataframe to an interactive table.\"\n",
              "              style=\"display:none;\">\n",
              "        \n",
              "  <svg xmlns=\"http://www.w3.org/2000/svg\" height=\"24px\"viewBox=\"0 0 24 24\"\n",
              "       width=\"24px\">\n",
              "    <path d=\"M0 0h24v24H0V0z\" fill=\"none\"/>\n",
              "    <path d=\"M18.56 5.44l.94 2.06.94-2.06 2.06-.94-2.06-.94-.94-2.06-.94 2.06-2.06.94zm-11 1L8.5 8.5l.94-2.06 2.06-.94-2.06-.94L8.5 2.5l-.94 2.06-2.06.94zm10 10l.94 2.06.94-2.06 2.06-.94-2.06-.94-.94-2.06-.94 2.06-2.06.94z\"/><path d=\"M17.41 7.96l-1.37-1.37c-.4-.4-.92-.59-1.43-.59-.52 0-1.04.2-1.43.59L10.3 9.45l-7.72 7.72c-.78.78-.78 2.05 0 2.83L4 21.41c.39.39.9.59 1.41.59.51 0 1.02-.2 1.41-.59l7.78-7.78 2.81-2.81c.8-.78.8-2.07 0-2.86zM5.41 20L4 18.59l7.72-7.72 1.47 1.35L5.41 20z\"/>\n",
              "  </svg>\n",
              "      </button>\n",
              "      \n",
              "  <style>\n",
              "    .colab-df-container {\n",
              "      display:flex;\n",
              "      flex-wrap:wrap;\n",
              "      gap: 12px;\n",
              "    }\n",
              "\n",
              "    .colab-df-convert {\n",
              "      background-color: #E8F0FE;\n",
              "      border: none;\n",
              "      border-radius: 50%;\n",
              "      cursor: pointer;\n",
              "      display: none;\n",
              "      fill: #1967D2;\n",
              "      height: 32px;\n",
              "      padding: 0 0 0 0;\n",
              "      width: 32px;\n",
              "    }\n",
              "\n",
              "    .colab-df-convert:hover {\n",
              "      background-color: #E2EBFA;\n",
              "      box-shadow: 0px 1px 2px rgba(60, 64, 67, 0.3), 0px 1px 3px 1px rgba(60, 64, 67, 0.15);\n",
              "      fill: #174EA6;\n",
              "    }\n",
              "\n",
              "    [theme=dark] .colab-df-convert {\n",
              "      background-color: #3B4455;\n",
              "      fill: #D2E3FC;\n",
              "    }\n",
              "\n",
              "    [theme=dark] .colab-df-convert:hover {\n",
              "      background-color: #434B5C;\n",
              "      box-shadow: 0px 1px 3px 1px rgba(0, 0, 0, 0.15);\n",
              "      filter: drop-shadow(0px 1px 2px rgba(0, 0, 0, 0.3));\n",
              "      fill: #FFFFFF;\n",
              "    }\n",
              "  </style>\n",
              "\n",
              "      <script>\n",
              "        const buttonEl =\n",
              "          document.querySelector('#df-ffbb2c56-0b59-4a88-8a38-8aecea31da93 button.colab-df-convert');\n",
              "        buttonEl.style.display =\n",
              "          google.colab.kernel.accessAllowed ? 'block' : 'none';\n",
              "\n",
              "        async function convertToInteractive(key) {\n",
              "          const element = document.querySelector('#df-ffbb2c56-0b59-4a88-8a38-8aecea31da93');\n",
              "          const dataTable =\n",
              "            await google.colab.kernel.invokeFunction('convertToInteractive',\n",
              "                                                     [key], {});\n",
              "          if (!dataTable) return;\n",
              "\n",
              "          const docLinkHtml = 'Like what you see? Visit the ' +\n",
              "            '<a target=\"_blank\" href=https://colab.research.google.com/notebooks/data_table.ipynb>data table notebook</a>'\n",
              "            + ' to learn more about interactive tables.';\n",
              "          element.innerHTML = '';\n",
              "          dataTable['output_type'] = 'display_data';\n",
              "          await google.colab.output.renderOutput(dataTable, element);\n",
              "          const docLink = document.createElement('div');\n",
              "          docLink.innerHTML = docLinkHtml;\n",
              "          element.appendChild(docLink);\n",
              "        }\n",
              "      </script>\n",
              "    </div>\n",
              "  </div>\n",
              "  "
            ]
          },
          "metadata": {},
          "execution_count": 24
        }
      ]
    },
    {
      "cell_type": "code",
      "source": [],
      "metadata": {
        "id": "FwMIUE2_c0gF"
      },
      "execution_count": 24,
      "outputs": []
    },
    {
      "cell_type": "code",
      "source": [
        "model = SARIMAX(train['diff_temp'], order=(1,0,0), simple_differencing=False)\n",
        "model_fit = model.fit(disp=False)\n",
        "print(model_fit.summary())\n"
      ],
      "metadata": {
        "colab": {
          "base_uri": "https://localhost:8080/"
        },
        "id": "UidmE_GlKGzD",
        "outputId": "a79c4d1a-7fbf-44e8-9f65-c075687eeb5f"
      },
      "execution_count": 25,
      "outputs": [
        {
          "output_type": "stream",
          "name": "stdout",
          "text": [
            "                               SARIMAX Results                                \n",
            "==============================================================================\n",
            "Dep. Variable:              diff_temp   No. Observations:                   91\n",
            "Model:               SARIMAX(1, 0, 0)   Log Likelihood                -180.187\n",
            "Date:                Sat, 24 Dec 2022   AIC                            364.375\n",
            "Time:                        13:57:04   BIC                            369.397\n",
            "Sample:                             0   HQIC                           366.401\n",
            "                                 - 91                                         \n",
            "Covariance Type:                  opg                                         \n",
            "==============================================================================\n",
            "                 coef    std err          z      P>|z|      [0.025      0.975]\n",
            "------------------------------------------------------------------------------\n",
            "ar.L1         -0.1377      0.106     -1.297      0.195      -0.346       0.070\n",
            "sigma2         3.0712      0.456      6.730      0.000       2.177       3.966\n",
            "===================================================================================\n",
            "Ljung-Box (L1) (Q):                   0.00   Jarque-Bera (JB):                 0.93\n",
            "Prob(Q):                              0.96   Prob(JB):                         0.63\n",
            "Heteroskedasticity (H):               0.86   Skew:                            -0.24\n",
            "Prob(H) (two-sided):                  0.67   Kurtosis:                         3.11\n",
            "===================================================================================\n",
            "\n",
            "Warnings:\n",
            "[1] Covariance matrix calculated using the outer product of gradients (complex-step).\n"
          ]
        }
      ]
    },
    {
      "cell_type": "code",
      "source": [
        "model_fit.plot_diagnostics(figsize=(10, 8));\n"
      ],
      "metadata": {
        "colab": {
          "base_uri": "https://localhost:8080/",
          "height": 513
        },
        "id": "EILM5DVvKkyr",
        "outputId": "93d7047a-e7ce-4c69-f827-aa59f2b5f7d7"
      },
      "execution_count": 26,
      "outputs": [
        {
          "output_type": "display_data",
          "data": {
            "text/plain": [
              "<Figure size 720x576 with 4 Axes>"
            ],
            "image/png": "[encoded data removed]"
          },
          "metadata": {
            "needs_background": "light"
          }
        }
      ]
    },
    {
      "cell_type": "code",
      "source": [
        "## correlation test\n",
        "residuals = model_fit.resid\n",
        "\n",
        "lbvalue, pvalue = acorr_ljungbox(residuals, np.arange(1, 11, 1))\n",
        "\n",
        "print(pvalue)  \n",
        "\n",
        "# all are uncorrealted"
      ],
      "metadata": {
        "colab": {
          "base_uri": "https://localhost:8080/"
        },
        "id": "RWatqL3qKtv4",
        "outputId": "7e65fa40-ddba-4cd4-8ffe-b44810d86bb9"
      },
      "execution_count": 27,
      "outputs": [
        {
          "output_type": "stream",
          "name": "stdout",
          "text": [
            "[0.95530719 0.99816074 0.96883816 0.75654039 0.65582069 0.77180803\n",
            " 0.84980531 0.89801121 0.92585626 0.88979542]\n"
          ]
        }
      ]
    },
    {
      "cell_type": "markdown",
      "source": [
        "#### Forecasting and calculating model accuracy"
      ],
      "metadata": {
        "id": "VM35MuDhLCD4"
      }
    },
    {
      "cell_type": "code",
      "source": [],
      "metadata": {
        "id": "ABnIMNzPXXmD"
      },
      "execution_count": 37,
      "outputs": []
    },
    {
      "cell_type": "code",
      "source": [
        "arma = pd.DataFrame(model_fit.forecast(23))  # predicted value\n",
        "arma.columns = ['arma_pred']"
      ],
      "metadata": {
        "id": "vS33Q7paYRNI"
      },
      "execution_count": 28,
      "outputs": []
    },
    {
      "cell_type": "code",
      "source": [
        "test.head()"
      ],
      "metadata": {
        "colab": {
          "base_uri": "https://localhost:8080/",
          "height": 206
        },
        "id": "9Q7kDDhiZpJ7",
        "outputId": "6ac088dd-6013-4b98-c672-c4dd601d2a4f"
      },
      "execution_count": 29,
      "outputs": [
        {
          "output_type": "execute_result",
          "data": {
            "text/plain": [
              "         date   meantemp  diff_temp\n",
              "91 2017-04-02  29.750000  -1.625000\n",
              "92 2017-04-03  30.500000   0.750000\n",
              "93 2017-04-04  30.933333   0.433333\n",
              "94 2017-04-05  29.230769  -1.702564\n",
              "95 2017-04-06  31.222222   1.991453"
            ],
            "text/html": [
              "\n",
              "  <div id=\"df-ed5fe91f-bd58-45cb-bf87-761da111bdf9\">\n",
              "    <div class=\"colab-df-container\">\n",
              "      <div>\n",
              "<style scoped>\n",
              "    .dataframe tbody tr th:only-of-type {\n",
              "        vertical-align: middle;\n",
              "    }\n",
              "\n",
              "    .dataframe tbody tr th {\n",
              "        vertical-align: top;\n",
              "    }\n",
              "\n",
              "    .dataframe thead th {\n",
              "        text-align: right;\n",
              "    }\n",
              "</style>\n",
              "<table border=\"1\" class=\"dataframe\">\n",
              "  <thead>\n",
              "    <tr style=\"text-align: right;\">\n",
              "      <th></th>\n",
              "      <th>date</th>\n",
              "      <th>meantemp</th>\n",
              "      <th>diff_temp</th>\n",
              "    </tr>\n",
              "  </thead>\n",
              "  <tbody>\n",
              "    <tr>\n",
              "      <th>91</th>\n",
              "      <td>2017-04-02</td>\n",
              "      <td>29.750000</td>\n",
              "      <td>-1.625000</td>\n",
              "    </tr>\n",
              "    <tr>\n",
              "      <th>92</th>\n",
              "      <td>2017-04-03</td>\n",
              "      <td>30.500000</td>\n",
              "      <td>0.750000</td>\n",
              "    </tr>\n",
              "    <tr>\n",
              "      <th>93</th>\n",
              "      <td>2017-04-04</td>\n",
              "      <td>30.933333</td>\n",
              "      <td>0.433333</td>\n",
              "    </tr>\n",
              "    <tr>\n",
              "      <th>94</th>\n",
              "      <td>2017-04-05</td>\n",
              "      <td>29.230769</td>\n",
              "      <td>-1.702564</td>\n",
              "    </tr>\n",
              "    <tr>\n",
              "      <th>95</th>\n",
              "      <td>2017-04-06</td>\n",
              "      <td>31.222222</td>\n",
              "      <td>1.991453</td>\n",
              "    </tr>\n",
              "  </tbody>\n",
              "</table>\n",
              "</div>\n",
              "      <button class=\"colab-df-convert\" onclick=\"convertToInteractive('df-ed5fe91f-bd58-45cb-bf87-761da111bdf9')\"\n",
              "              title=\"Convert this dataframe to an interactive table.\"\n",
              "              style=\"display:none;\">\n",
              "        \n",
              "  <svg xmlns=\"http://www.w3.org/2000/svg\" height=\"24px\"viewBox=\"0 0 24 24\"\n",
              "       width=\"24px\">\n",
              "    <path d=\"M0 0h24v24H0V0z\" fill=\"none\"/>\n",
              "    <path d=\"M18.56 5.44l.94 2.06.94-2.06 2.06-.94-2.06-.94-.94-2.06-.94 2.06-2.06.94zm-11 1L8.5 8.5l.94-2.06 2.06-.94-2.06-.94L8.5 2.5l-.94 2.06-2.06.94zm10 10l.94 2.06.94-2.06 2.06-.94-2.06-.94-.94-2.06-.94 2.06-2.06.94z\"/><path d=\"M17.41 7.96l-1.37-1.37c-.4-.4-.92-.59-1.43-.59-.52 0-1.04.2-1.43.59L10.3 9.45l-7.72 7.72c-.78.78-.78 2.05 0 2.83L4 21.41c.39.39.9.59 1.41.59.51 0 1.02-.2 1.41-.59l7.78-7.78 2.81-2.81c.8-.78.8-2.07 0-2.86zM5.41 20L4 18.59l7.72-7.72 1.47 1.35L5.41 20z\"/>\n",
              "  </svg>\n",
              "      </button>\n",
              "      \n",
              "  <style>\n",
              "    .colab-df-container {\n",
              "      display:flex;\n",
              "      flex-wrap:wrap;\n",
              "      gap: 12px;\n",
              "    }\n",
              "\n",
              "    .colab-df-convert {\n",
              "      background-color: #E8F0FE;\n",
              "      border: none;\n",
              "      border-radius: 50%;\n",
              "      cursor: pointer;\n",
              "      display: none;\n",
              "      fill: #1967D2;\n",
              "      height: 32px;\n",
              "      padding: 0 0 0 0;\n",
              "      width: 32px;\n",
              "    }\n",
              "\n",
              "    .colab-df-convert:hover {\n",
              "      background-color: #E2EBFA;\n",
              "      box-shadow: 0px 1px 2px rgba(60, 64, 67, 0.3), 0px 1px 3px 1px rgba(60, 64, 67, 0.15);\n",
              "      fill: #174EA6;\n",
              "    }\n",
              "\n",
              "    [theme=dark] .colab-df-convert {\n",
              "      background-color: #3B4455;\n",
              "      fill: #D2E3FC;\n",
              "    }\n",
              "\n",
              "    [theme=dark] .colab-df-convert:hover {\n",
              "      background-color: #434B5C;\n",
              "      box-shadow: 0px 1px 3px 1px rgba(0, 0, 0, 0.15);\n",
              "      filter: drop-shadow(0px 1px 2px rgba(0, 0, 0, 0.3));\n",
              "      fill: #FFFFFF;\n",
              "    }\n",
              "  </style>\n",
              "\n",
              "      <script>\n",
              "        const buttonEl =\n",
              "          document.querySelector('#df-ed5fe91f-bd58-45cb-bf87-761da111bdf9 button.colab-df-convert');\n",
              "        buttonEl.style.display =\n",
              "          google.colab.kernel.accessAllowed ? 'block' : 'none';\n",
              "\n",
              "        async function convertToInteractive(key) {\n",
              "          const element = document.querySelector('#df-ed5fe91f-bd58-45cb-bf87-761da111bdf9');\n",
              "          const dataTable =\n",
              "            await google.colab.kernel.invokeFunction('convertToInteractive',\n",
              "                                                     [key], {});\n",
              "          if (!dataTable) return;\n",
              "\n",
              "          const docLinkHtml = 'Like what you see? Visit the ' +\n",
              "            '<a target=\"_blank\" href=https://colab.research.google.com/notebooks/data_table.ipynb>data table notebook</a>'\n",
              "            + ' to learn more about interactive tables.';\n",
              "          element.innerHTML = '';\n",
              "          dataTable['output_type'] = 'display_data';\n",
              "          await google.colab.output.renderOutput(dataTable, element);\n",
              "          const docLink = document.createElement('div');\n",
              "          docLink.innerHTML = docLinkHtml;\n",
              "          element.appendChild(docLink);\n",
              "        }\n",
              "      </script>\n",
              "    </div>\n",
              "  </div>\n",
              "  "
            ]
          },
          "metadata": {},
          "execution_count": 29
        }
      ]
    },
    {
      "cell_type": "code",
      "source": [
        "test = test.join(arma['arma_pred'])  # prediction  is on scale on differcing so we compare to diff_temp"
      ],
      "metadata": {
        "id": "59k7XFphYesh"
      },
      "execution_count": 30,
      "outputs": []
    },
    {
      "cell_type": "code",
      "source": [
        "test.head()"
      ],
      "metadata": {
        "colab": {
          "base_uri": "https://localhost:8080/",
          "height": 206
        },
        "id": "2Wk7u9ZdavyG",
        "outputId": "3a6d5588-b0a2-4c7c-ec01-5a1d37d9eaa3"
      },
      "execution_count": 31,
      "outputs": [
        {
          "output_type": "execute_result",
          "data": {
            "text/plain": [
              "         date   meantemp  diff_temp  arma_pred\n",
              "91 2017-04-02  29.750000  -1.625000  -0.103241\n",
              "92 2017-04-03  30.500000   0.750000   0.014212\n",
              "93 2017-04-04  30.933333   0.433333  -0.001956\n",
              "94 2017-04-05  29.230769  -1.702564   0.000269\n",
              "95 2017-04-06  31.222222   1.991453  -0.000037"
            ],
            "text/html": [
              "\n",
              "  <div id=\"df-53b13662-fcd9-43da-b512-dd99e2e62f6c\">\n",
              "    <div class=\"colab-df-container\">\n",
              "      <div>\n",
              "<style scoped>\n",
              "    .dataframe tbody tr th:only-of-type {\n",
              "        vertical-align: middle;\n",
              "    }\n",
              "\n",
              "    .dataframe tbody tr th {\n",
              "        vertical-align: top;\n",
              "    }\n",
              "\n",
              "    .dataframe thead th {\n",
              "        text-align: right;\n",
              "    }\n",
              "</style>\n",
              "<table border=\"1\" class=\"dataframe\">\n",
              "  <thead>\n",
              "    <tr style=\"text-align: right;\">\n",
              "      <th></th>\n",
              "      <th>date</th>\n",
              "      <th>meantemp</th>\n",
              "      <th>diff_temp</th>\n",
              "      <th>arma_pred</th>\n",
              "    </tr>\n",
              "  </thead>\n",
              "  <tbody>\n",
              "    <tr>\n",
              "      <th>91</th>\n",
              "      <td>2017-04-02</td>\n",
              "      <td>29.750000</td>\n",
              "      <td>-1.625000</td>\n",
              "      <td>-0.103241</td>\n",
              "    </tr>\n",
              "    <tr>\n",
              "      <th>92</th>\n",
              "      <td>2017-04-03</td>\n",
              "      <td>30.500000</td>\n",
              "      <td>0.750000</td>\n",
              "      <td>0.014212</td>\n",
              "    </tr>\n",
              "    <tr>\n",
              "      <th>93</th>\n",
              "      <td>2017-04-04</td>\n",
              "      <td>30.933333</td>\n",
              "      <td>0.433333</td>\n",
              "      <td>-0.001956</td>\n",
              "    </tr>\n",
              "    <tr>\n",
              "      <th>94</th>\n",
              "      <td>2017-04-05</td>\n",
              "      <td>29.230769</td>\n",
              "      <td>-1.702564</td>\n",
              "      <td>0.000269</td>\n",
              "    </tr>\n",
              "    <tr>\n",
              "      <th>95</th>\n",
              "      <td>2017-04-06</td>\n",
              "      <td>31.222222</td>\n",
              "      <td>1.991453</td>\n",
              "      <td>-0.000037</td>\n",
              "    </tr>\n",
              "  </tbody>\n",
              "</table>\n",
              "</div>\n",
              "      <button class=\"colab-df-convert\" onclick=\"convertToInteractive('df-53b13662-fcd9-43da-b512-dd99e2e62f6c')\"\n",
              "              title=\"Convert this dataframe to an interactive table.\"\n",
              "              style=\"display:none;\">\n",
              "        \n",
              "  <svg xmlns=\"http://www.w3.org/2000/svg\" height=\"24px\"viewBox=\"0 0 24 24\"\n",
              "       width=\"24px\">\n",
              "    <path d=\"M0 0h24v24H0V0z\" fill=\"none\"/>\n",
              "    <path d=\"M18.56 5.44l.94 2.06.94-2.06 2.06-.94-2.06-.94-.94-2.06-.94 2.06-2.06.94zm-11 1L8.5 8.5l.94-2.06 2.06-.94-2.06-.94L8.5 2.5l-.94 2.06-2.06.94zm10 10l.94 2.06.94-2.06 2.06-.94-2.06-.94-.94-2.06-.94 2.06-2.06.94z\"/><path d=\"M17.41 7.96l-1.37-1.37c-.4-.4-.92-.59-1.43-.59-.52 0-1.04.2-1.43.59L10.3 9.45l-7.72 7.72c-.78.78-.78 2.05 0 2.83L4 21.41c.39.39.9.59 1.41.59.51 0 1.02-.2 1.41-.59l7.78-7.78 2.81-2.81c.8-.78.8-2.07 0-2.86zM5.41 20L4 18.59l7.72-7.72 1.47 1.35L5.41 20z\"/>\n",
              "  </svg>\n",
              "      </button>\n",
              "      \n",
              "  <style>\n",
              "    .colab-df-container {\n",
              "      display:flex;\n",
              "      flex-wrap:wrap;\n",
              "      gap: 12px;\n",
              "    }\n",
              "\n",
              "    .colab-df-convert {\n",
              "      background-color: #E8F0FE;\n",
              "      border: none;\n",
              "      border-radius: 50%;\n",
              "      cursor: pointer;\n",
              "      display: none;\n",
              "      fill: #1967D2;\n",
              "      height: 32px;\n",
              "      padding: 0 0 0 0;\n",
              "      width: 32px;\n",
              "    }\n",
              "\n",
              "    .colab-df-convert:hover {\n",
              "      background-color: #E2EBFA;\n",
              "      box-shadow: 0px 1px 2px rgba(60, 64, 67, 0.3), 0px 1px 3px 1px rgba(60, 64, 67, 0.15);\n",
              "      fill: #174EA6;\n",
              "    }\n",
              "\n",
              "    [theme=dark] .colab-df-convert {\n",
              "      background-color: #3B4455;\n",
              "      fill: #D2E3FC;\n",
              "    }\n",
              "\n",
              "    [theme=dark] .colab-df-convert:hover {\n",
              "      background-color: #434B5C;\n",
              "      box-shadow: 0px 1px 3px 1px rgba(0, 0, 0, 0.15);\n",
              "      filter: drop-shadow(0px 1px 2px rgba(0, 0, 0, 0.3));\n",
              "      fill: #FFFFFF;\n",
              "    }\n",
              "  </style>\n",
              "\n",
              "      <script>\n",
              "        const buttonEl =\n",
              "          document.querySelector('#df-53b13662-fcd9-43da-b512-dd99e2e62f6c button.colab-df-convert');\n",
              "        buttonEl.style.display =\n",
              "          google.colab.kernel.accessAllowed ? 'block' : 'none';\n",
              "\n",
              "        async function convertToInteractive(key) {\n",
              "          const element = document.querySelector('#df-53b13662-fcd9-43da-b512-dd99e2e62f6c');\n",
              "          const dataTable =\n",
              "            await google.colab.kernel.invokeFunction('convertToInteractive',\n",
              "                                                     [key], {});\n",
              "          if (!dataTable) return;\n",
              "\n",
              "          const docLinkHtml = 'Like what you see? Visit the ' +\n",
              "            '<a target=\"_blank\" href=https://colab.research.google.com/notebooks/data_table.ipynb>data table notebook</a>'\n",
              "            + ' to learn more about interactive tables.';\n",
              "          element.innerHTML = '';\n",
              "          dataTable['output_type'] = 'display_data';\n",
              "          await google.colab.output.renderOutput(dataTable, element);\n",
              "          const docLink = document.createElement('div');\n",
              "          docLink.innerHTML = docLinkHtml;\n",
              "          element.appendChild(docLink);\n",
              "        }\n",
              "      </script>\n",
              "    </div>\n",
              "  </div>\n",
              "  "
            ]
          },
          "metadata": {},
          "execution_count": 31
        }
      ]
    },
    {
      "cell_type": "code",
      "source": [
        "\n"
      ],
      "metadata": {
        "id": "lTZvoCbDgjLB"
      },
      "execution_count": 31,
      "outputs": []
    },
    {
      "cell_type": "code",
      "source": [
        "test.head()"
      ],
      "metadata": {
        "colab": {
          "base_uri": "https://localhost:8080/",
          "height": 206
        },
        "id": "_Fkxp_q0i8Yc",
        "outputId": "df84ad74-882a-4339-d95c-7d50bc1f4801"
      },
      "execution_count": 32,
      "outputs": [
        {
          "output_type": "execute_result",
          "data": {
            "text/plain": [
              "         date   meantemp  diff_temp  arma_pred\n",
              "91 2017-04-02  29.750000  -1.625000  -0.103241\n",
              "92 2017-04-03  30.500000   0.750000   0.014212\n",
              "93 2017-04-04  30.933333   0.433333  -0.001956\n",
              "94 2017-04-05  29.230769  -1.702564   0.000269\n",
              "95 2017-04-06  31.222222   1.991453  -0.000037"
            ],
            "text/html": [
              "\n",
              "  <div id=\"df-20cd8bba-d742-417f-84cf-c8e5588007b9\">\n",
              "    <div class=\"colab-df-container\">\n",
              "      <div>\n",
              "<style scoped>\n",
              "    .dataframe tbody tr th:only-of-type {\n",
              "        vertical-align: middle;\n",
              "    }\n",
              "\n",
              "    .dataframe tbody tr th {\n",
              "        vertical-align: top;\n",
              "    }\n",
              "\n",
              "    .dataframe thead th {\n",
              "        text-align: right;\n",
              "    }\n",
              "</style>\n",
              "<table border=\"1\" class=\"dataframe\">\n",
              "  <thead>\n",
              "    <tr style=\"text-align: right;\">\n",
              "      <th></th>\n",
              "      <th>date</th>\n",
              "      <th>meantemp</th>\n",
              "      <th>diff_temp</th>\n",
              "      <th>arma_pred</th>\n",
              "    </tr>\n",
              "  </thead>\n",
              "  <tbody>\n",
              "    <tr>\n",
              "      <th>91</th>\n",
              "      <td>2017-04-02</td>\n",
              "      <td>29.750000</td>\n",
              "      <td>-1.625000</td>\n",
              "      <td>-0.103241</td>\n",
              "    </tr>\n",
              "    <tr>\n",
              "      <th>92</th>\n",
              "      <td>2017-04-03</td>\n",
              "      <td>30.500000</td>\n",
              "      <td>0.750000</td>\n",
              "      <td>0.014212</td>\n",
              "    </tr>\n",
              "    <tr>\n",
              "      <th>93</th>\n",
              "      <td>2017-04-04</td>\n",
              "      <td>30.933333</td>\n",
              "      <td>0.433333</td>\n",
              "      <td>-0.001956</td>\n",
              "    </tr>\n",
              "    <tr>\n",
              "      <th>94</th>\n",
              "      <td>2017-04-05</td>\n",
              "      <td>29.230769</td>\n",
              "      <td>-1.702564</td>\n",
              "      <td>0.000269</td>\n",
              "    </tr>\n",
              "    <tr>\n",
              "      <th>95</th>\n",
              "      <td>2017-04-06</td>\n",
              "      <td>31.222222</td>\n",
              "      <td>1.991453</td>\n",
              "      <td>-0.000037</td>\n",
              "    </tr>\n",
              "  </tbody>\n",
              "</table>\n",
              "</div>\n",
              "      <button class=\"colab-df-convert\" onclick=\"convertToInteractive('df-20cd8bba-d742-417f-84cf-c8e5588007b9')\"\n",
              "              title=\"Convert this dataframe to an interactive table.\"\n",
              "              style=\"display:none;\">\n",
              "        \n",
              "  <svg xmlns=\"http://www.w3.org/2000/svg\" height=\"24px\"viewBox=\"0 0 24 24\"\n",
              "       width=\"24px\">\n",
              "    <path d=\"M0 0h24v24H0V0z\" fill=\"none\"/>\n",
              "    <path d=\"M18.56 5.44l.94 2.06.94-2.06 2.06-.94-2.06-.94-.94-2.06-.94 2.06-2.06.94zm-11 1L8.5 8.5l.94-2.06 2.06-.94-2.06-.94L8.5 2.5l-.94 2.06-2.06.94zm10 10l.94 2.06.94-2.06 2.06-.94-2.06-.94-.94-2.06-.94 2.06-2.06.94z\"/><path d=\"M17.41 7.96l-1.37-1.37c-.4-.4-.92-.59-1.43-.59-.52 0-1.04.2-1.43.59L10.3 9.45l-7.72 7.72c-.78.78-.78 2.05 0 2.83L4 21.41c.39.39.9.59 1.41.59.51 0 1.02-.2 1.41-.59l7.78-7.78 2.81-2.81c.8-.78.8-2.07 0-2.86zM5.41 20L4 18.59l7.72-7.72 1.47 1.35L5.41 20z\"/>\n",
              "  </svg>\n",
              "      </button>\n",
              "      \n",
              "  <style>\n",
              "    .colab-df-container {\n",
              "      display:flex;\n",
              "      flex-wrap:wrap;\n",
              "      gap: 12px;\n",
              "    }\n",
              "\n",
              "    .colab-df-convert {\n",
              "      background-color: #E8F0FE;\n",
              "      border: none;\n",
              "      border-radius: 50%;\n",
              "      cursor: pointer;\n",
              "      display: none;\n",
              "      fill: #1967D2;\n",
              "      height: 32px;\n",
              "      padding: 0 0 0 0;\n",
              "      width: 32px;\n",
              "    }\n",
              "\n",
              "    .colab-df-convert:hover {\n",
              "      background-color: #E2EBFA;\n",
              "      box-shadow: 0px 1px 2px rgba(60, 64, 67, 0.3), 0px 1px 3px 1px rgba(60, 64, 67, 0.15);\n",
              "      fill: #174EA6;\n",
              "    }\n",
              "\n",
              "    [theme=dark] .colab-df-convert {\n",
              "      background-color: #3B4455;\n",
              "      fill: #D2E3FC;\n",
              "    }\n",
              "\n",
              "    [theme=dark] .colab-df-convert:hover {\n",
              "      background-color: #434B5C;\n",
              "      box-shadow: 0px 1px 3px 1px rgba(0, 0, 0, 0.15);\n",
              "      filter: drop-shadow(0px 1px 2px rgba(0, 0, 0, 0.3));\n",
              "      fill: #FFFFFF;\n",
              "    }\n",
              "  </style>\n",
              "\n",
              "      <script>\n",
              "        const buttonEl =\n",
              "          document.querySelector('#df-20cd8bba-d742-417f-84cf-c8e5588007b9 button.colab-df-convert');\n",
              "        buttonEl.style.display =\n",
              "          google.colab.kernel.accessAllowed ? 'block' : 'none';\n",
              "\n",
              "        async function convertToInteractive(key) {\n",
              "          const element = document.querySelector('#df-20cd8bba-d742-417f-84cf-c8e5588007b9');\n",
              "          const dataTable =\n",
              "            await google.colab.kernel.invokeFunction('convertToInteractive',\n",
              "                                                     [key], {});\n",
              "          if (!dataTable) return;\n",
              "\n",
              "          const docLinkHtml = 'Like what you see? Visit the ' +\n",
              "            '<a target=\"_blank\" href=https://colab.research.google.com/notebooks/data_table.ipynb>data table notebook</a>'\n",
              "            + ' to learn more about interactive tables.';\n",
              "          element.innerHTML = '';\n",
              "          dataTable['output_type'] = 'display_data';\n",
              "          await google.colab.output.renderOutput(dataTable, element);\n",
              "          const docLink = document.createElement('div');\n",
              "          docLink.innerHTML = docLinkHtml;\n",
              "          element.appendChild(docLink);\n",
              "        }\n",
              "      </script>\n",
              "    </div>\n",
              "  </div>\n",
              "  "
            ]
          },
          "metadata": {},
          "execution_count": 32
        }
      ]
    },
    {
      "cell_type": "code",
      "source": [
        "fig, ax = plt.subplots()\n",
        "#ax.plot(train['meantemp'], 'g-.' , label = 'train')\n",
        "ax.plot(test['diff_temp'], 'b-', label = 'test')\n",
        "ax.plot(test['arma_pred'], 'r--',label = 'arma predicted')\n",
        "ax.axvspan(91, 113, color='#808080', alpha=0.2)   # give different color to predicted area\n",
        "ax.set_xlabel('date')\n",
        "ax.set_ylabel('temp')\n",
        "ax.legend(loc=2)\n",
        "#fig.automft_xdate()  # fit xtick value automatically\n",
        "plt.tight_layout()"
      ],
      "metadata": {
        "colab": {
          "base_uri": "https://localhost:8080/",
          "height": 441
        },
        "id": "j7lsu5eMaivb",
        "outputId": "b2bc550b-75eb-4528-9049-7d0683ec7e35"
      },
      "execution_count": 33,
      "outputs": [
        {
          "output_type": "display_data",
          "data": {
            "text/plain": [
              "<Figure size 864x432 with 1 Axes>"
            ],
            "image/png": "[encoded data removed]"
          },
          "metadata": {
            "needs_background": "light"
          }
        }
      ]
    },
    {
      "cell_type": "markdown",
      "source": [
        "#### Check the accuracy of model"
      ],
      "metadata": {
        "id": "Grp67M6XbXz0"
      }
    },
    {
      "cell_type": "code",
      "source": [
        "# function to  calcualte Mean Absolute Percentage Error\n",
        "def MAPE(Y_actual,Y_Predicted):  \n",
        "    mape = np.mean(np.abs((Y_actual - Y_Predicted)/Y_actual))*100\n",
        "    return mape"
      ],
      "metadata": {
        "id": "I7qV1wz4bg10"
      },
      "execution_count": 34,
      "outputs": []
    },
    {
      "cell_type": "code",
      "source": [
        "mape = MAPE(test['diff_temp'], test['arma_pred'])   # due to +,- unable to calculate the MAPE\n",
        "print(\"MAPE: \", mape) \n"
      ],
      "metadata": {
        "colab": {
          "base_uri": "https://localhost:8080/"
        },
        "id": "E1BT-MSucSH3",
        "outputId": "43aefca5-a3e2-464f-e233-3ea2ad422789"
      },
      "execution_count": 35,
      "outputs": [
        {
          "output_type": "stream",
          "name": "stdout",
          "text": [
            "MAPE:  inf\n"
          ]
        }
      ]
    },
    {
      "cell_type": "code",
      "source": [
        "from sklearn.metrics import mean_squared_error\n",
        "MSE = mean_squared_error(test['diff_temp'], test['arma_pred'])\n",
        "RMSE = np.sqrt(MSE)\n",
        "\n",
        "print(\"Root Mean Square Error\", RMSE)"
      ],
      "metadata": {
        "colab": {
          "base_uri": "https://localhost:8080/"
        },
        "id": "K8Z0-khjb_TE",
        "outputId": "c60b8c23-7392-4616-c320-71012f7c8291"
      },
      "execution_count": 36,
      "outputs": [
        {
          "output_type": "stream",
          "name": "stdout",
          "text": [
            "Root Mean Square Error 1.386309823691008\n"
          ]
        }
      ]
    },
    {
      "cell_type": "code",
      "source": [],
      "metadata": {
        "id": "WEVe69nlm0CX"
      },
      "execution_count": null,
      "outputs": []
    },
    {
      "cell_type": "markdown",
      "source": [
        "### ARIMA   \n",
        "Applying AR, MA, ARMA model on data after diff then again we need to rescale the predicted value  to plot and cal MAPE and RMSE  \n",
        "\n",
        "In ARIMA model we also differencing also  \n",
        "\n",
        "the mathematical expression of the ARIMA(p,d,q) process states that\n",
        "the present value of the differenced series y't is equal to the sum of a constant C, past values of the differenced series ϕpy't–p, the mean of the differenced series µ, past error terms θqϵt–q, and a current error term ϵt,  \n",
        "  \n",
        "\n",
        "An autoregressive integrated moving average (ARIMA) process is the combination of\n",
        "the AR(p) and MA(q) processes, but in terms of the differenced series."
      ],
      "metadata": {
        "id": "f_ktd_tVm0Pn"
      }
    },
    {
      "cell_type": "code",
      "source": [
        "df = pd.read_csv('https://raw.githubusercontent.com/marcopeix/AppliedTimeSeriesAnalysisWithPython/main/data/jj.csv')\n",
        "df.head()"
      ],
      "metadata": {
        "colab": {
          "base_uri": "https://localhost:8080/",
          "height": 206
        },
        "id": "LxMJcdmnw7B5",
        "outputId": "b16e985e-b798-4aa2-d6e0-c4e3d443b8b2"
      },
      "execution_count": 38,
      "outputs": [
        {
          "output_type": "execute_result",
          "data": {
            "text/plain": [
              "         date  data\n",
              "0  1960-01-01  0.71\n",
              "1  1960-04-01  0.63\n",
              "2  1960-07-02  0.85\n",
              "3  1960-10-01  0.44\n",
              "4  1961-01-01  0.61"
            ],
            "text/html": [
              "\n",
              "  <div id=\"df-36222a04-8fb6-4d14-b014-ee565c063f79\">\n",
              "    <div class=\"colab-df-container\">\n",
              "      <div>\n",
              "<style scoped>\n",
              "    .dataframe tbody tr th:only-of-type {\n",
              "        vertical-align: middle;\n",
              "    }\n",
              "\n",
              "    .dataframe tbody tr th {\n",
              "        vertical-align: top;\n",
              "    }\n",
              "\n",
              "    .dataframe thead th {\n",
              "        text-align: right;\n",
              "    }\n",
              "</style>\n",
              "<table border=\"1\" class=\"dataframe\">\n",
              "  <thead>\n",
              "    <tr style=\"text-align: right;\">\n",
              "      <th></th>\n",
              "      <th>date</th>\n",
              "      <th>data</th>\n",
              "    </tr>\n",
              "  </thead>\n",
              "  <tbody>\n",
              "    <tr>\n",
              "      <th>0</th>\n",
              "      <td>1960-01-01</td>\n",
              "      <td>0.71</td>\n",
              "    </tr>\n",
              "    <tr>\n",
              "      <th>1</th>\n",
              "      <td>1960-04-01</td>\n",
              "      <td>0.63</td>\n",
              "    </tr>\n",
              "    <tr>\n",
              "      <th>2</th>\n",
              "      <td>1960-07-02</td>\n",
              "      <td>0.85</td>\n",
              "    </tr>\n",
              "    <tr>\n",
              "      <th>3</th>\n",
              "      <td>1960-10-01</td>\n",
              "      <td>0.44</td>\n",
              "    </tr>\n",
              "    <tr>\n",
              "      <th>4</th>\n",
              "      <td>1961-01-01</td>\n",
              "      <td>0.61</td>\n",
              "    </tr>\n",
              "  </tbody>\n",
              "</table>\n",
              "</div>\n",
              "      <button class=\"colab-df-convert\" onclick=\"convertToInteractive('df-36222a04-8fb6-4d14-b014-ee565c063f79')\"\n",
              "              title=\"Convert this dataframe to an interactive table.\"\n",
              "              style=\"display:none;\">\n",
              "        \n",
              "  <svg xmlns=\"http://www.w3.org/2000/svg\" height=\"24px\"viewBox=\"0 0 24 24\"\n",
              "       width=\"24px\">\n",
              "    <path d=\"M0 0h24v24H0V0z\" fill=\"none\"/>\n",
              "    <path d=\"M18.56 5.44l.94 2.06.94-2.06 2.06-.94-2.06-.94-.94-2.06-.94 2.06-2.06.94zm-11 1L8.5 8.5l.94-2.06 2.06-.94-2.06-.94L8.5 2.5l-.94 2.06-2.06.94zm10 10l.94 2.06.94-2.06 2.06-.94-2.06-.94-.94-2.06-.94 2.06-2.06.94z\"/><path d=\"M17.41 7.96l-1.37-1.37c-.4-.4-.92-.59-1.43-.59-.52 0-1.04.2-1.43.59L10.3 9.45l-7.72 7.72c-.78.78-.78 2.05 0 2.83L4 21.41c.39.39.9.59 1.41.59.51 0 1.02-.2 1.41-.59l7.78-7.78 2.81-2.81c.8-.78.8-2.07 0-2.86zM5.41 20L4 18.59l7.72-7.72 1.47 1.35L5.41 20z\"/>\n",
              "  </svg>\n",
              "      </button>\n",
              "      \n",
              "  <style>\n",
              "    .colab-df-container {\n",
              "      display:flex;\n",
              "      flex-wrap:wrap;\n",
              "      gap: 12px;\n",
              "    }\n",
              "\n",
              "    .colab-df-convert {\n",
              "      background-color: #E8F0FE;\n",
              "      border: none;\n",
              "      border-radius: 50%;\n",
              "      cursor: pointer;\n",
              "      display: none;\n",
              "      fill: #1967D2;\n",
              "      height: 32px;\n",
              "      padding: 0 0 0 0;\n",
              "      width: 32px;\n",
              "    }\n",
              "\n",
              "    .colab-df-convert:hover {\n",
              "      background-color: #E2EBFA;\n",
              "      box-shadow: 0px 1px 2px rgba(60, 64, 67, 0.3), 0px 1px 3px 1px rgba(60, 64, 67, 0.15);\n",
              "      fill: #174EA6;\n",
              "    }\n",
              "\n",
              "    [theme=dark] .colab-df-convert {\n",
              "      background-color: #3B4455;\n",
              "      fill: #D2E3FC;\n",
              "    }\n",
              "\n",
              "    [theme=dark] .colab-df-convert:hover {\n",
              "      background-color: #434B5C;\n",
              "      box-shadow: 0px 1px 3px 1px rgba(0, 0, 0, 0.15);\n",
              "      filter: drop-shadow(0px 1px 2px rgba(0, 0, 0, 0.3));\n",
              "      fill: #FFFFFF;\n",
              "    }\n",
              "  </style>\n",
              "\n",
              "      <script>\n",
              "        const buttonEl =\n",
              "          document.querySelector('#df-36222a04-8fb6-4d14-b014-ee565c063f79 button.colab-df-convert');\n",
              "        buttonEl.style.display =\n",
              "          google.colab.kernel.accessAllowed ? 'block' : 'none';\n",
              "\n",
              "        async function convertToInteractive(key) {\n",
              "          const element = document.querySelector('#df-36222a04-8fb6-4d14-b014-ee565c063f79');\n",
              "          const dataTable =\n",
              "            await google.colab.kernel.invokeFunction('convertToInteractive',\n",
              "                                                     [key], {});\n",
              "          if (!dataTable) return;\n",
              "\n",
              "          const docLinkHtml = 'Like what you see? Visit the ' +\n",
              "            '<a target=\"_blank\" href=https://colab.research.google.com/notebooks/data_table.ipynb>data table notebook</a>'\n",
              "            + ' to learn more about interactive tables.';\n",
              "          element.innerHTML = '';\n",
              "          dataTable['output_type'] = 'display_data';\n",
              "          await google.colab.output.renderOutput(dataTable, element);\n",
              "          const docLink = document.createElement('div');\n",
              "          docLink.innerHTML = docLinkHtml;\n",
              "          element.appendChild(docLink);\n",
              "        }\n",
              "      </script>\n",
              "    </div>\n",
              "  </div>\n",
              "  "
            ]
          },
          "metadata": {},
          "execution_count": 38
        }
      ]
    },
    {
      "cell_type": "markdown",
      "source": [
        "I can we take  1 for most of the cases but  dtertmine by same procedure as differencing and doing ADF testing and order(p,q) determine by same AIC "
      ],
      "metadata": {
        "id": "Ok_qTSApyiQO"
      }
    },
    {
      "cell_type": "code",
      "source": [
        "# fuction to find AIC\n",
        "\n",
        "def optimize_ARIMA(endog: Union[pd.Series, list], order_list: list, d: int) -> pd.DataFrame:\n",
        "    \n",
        "    results = []\n",
        "    \n",
        "    for order in tqdm_notebook(order_list):\n",
        "        try: \n",
        "            model = SARIMAX(endog, order=(order[0], d, order[1]), simple_differencing=False).fit(disp=False)\n",
        "        except:\n",
        "            continue\n",
        "            \n",
        "        aic = model.aic\n",
        "        results.append([order, aic])\n",
        "        \n",
        "    result_df = pd.DataFrame(results)\n",
        "    result_df.columns = ['(p,q)', 'AIC']\n",
        "    \n",
        "    #Sort in ascending order, lower AIC is better\n",
        "    result_df = result_df.sort_values(by='AIC', ascending=True).reset_index(drop=True)\n",
        "    \n",
        "    return result_df"
      ],
      "metadata": {
        "id": "jKj1Z-1Dxv_E"
      },
      "execution_count": 39,
      "outputs": []
    },
    {
      "cell_type": "code",
      "source": [
        "df.shape"
      ],
      "metadata": {
        "colab": {
          "base_uri": "https://localhost:8080/"
        },
        "id": "3aNnywZgyFZJ",
        "outputId": "93ce8a16-c039-450e-e968-d26ca5aa75af"
      },
      "execution_count": 42,
      "outputs": [
        {
          "output_type": "execute_result",
          "data": {
            "text/plain": [
              "(84, 2)"
            ]
          },
          "metadata": {},
          "execution_count": 42
        }
      ]
    },
    {
      "cell_type": "code",
      "source": [
        "ps = range(0, 4, 1)\n",
        "qs = range(0, 4, 1)\n",
        "d = 2\n",
        "\n",
        "order_list = list(product(ps, qs))"
      ],
      "metadata": {
        "id": "AjAkZDqHx8fD"
      },
      "execution_count": 40,
      "outputs": []
    },
    {
      "cell_type": "code",
      "source": [
        "\n",
        "test"
      ],
      "metadata": {
        "colab": {
          "base_uri": "https://localhost:8080/",
          "height": 363
        },
        "id": "H-_H9VdW18wd",
        "outputId": "14b19d42-8afd-4aa2-c208-73d1566bf121"
      },
      "execution_count": 62,
      "outputs": [
        {
          "output_type": "execute_result",
          "data": {
            "text/plain": [
              "          date   data\n",
              "74  1978-07-02  12.15\n",
              "75  1978-10-01   8.91\n",
              "76  1979-01-01  14.04\n",
              "77  1979-04-02  12.96\n",
              "78  1979-07-02  14.85\n",
              "79  1979-10-01   9.99\n",
              "80  1980-01-01  16.20\n",
              "81  1980-04-01  14.67\n",
              "82  1980-07-02  16.02\n",
              "83  1980-10-01  11.61"
            ],
            "text/html": [
              "\n",
              "  <div id=\"df-1e66f7eb-3180-40ab-ad42-0d411ee1fd8a\">\n",
              "    <div class=\"colab-df-container\">\n",
              "      <div>\n",
              "<style scoped>\n",
              "    .dataframe tbody tr th:only-of-type {\n",
              "        vertical-align: middle;\n",
              "    }\n",
              "\n",
              "    .dataframe tbody tr th {\n",
              "        vertical-align: top;\n",
              "    }\n",
              "\n",
              "    .dataframe thead th {\n",
              "        text-align: right;\n",
              "    }\n",
              "</style>\n",
              "<table border=\"1\" class=\"dataframe\">\n",
              "  <thead>\n",
              "    <tr style=\"text-align: right;\">\n",
              "      <th></th>\n",
              "      <th>date</th>\n",
              "      <th>data</th>\n",
              "    </tr>\n",
              "  </thead>\n",
              "  <tbody>\n",
              "    <tr>\n",
              "      <th>74</th>\n",
              "      <td>1978-07-02</td>\n",
              "      <td>12.15</td>\n",
              "    </tr>\n",
              "    <tr>\n",
              "      <th>75</th>\n",
              "      <td>1978-10-01</td>\n",
              "      <td>8.91</td>\n",
              "    </tr>\n",
              "    <tr>\n",
              "      <th>76</th>\n",
              "      <td>1979-01-01</td>\n",
              "      <td>14.04</td>\n",
              "    </tr>\n",
              "    <tr>\n",
              "      <th>77</th>\n",
              "      <td>1979-04-02</td>\n",
              "      <td>12.96</td>\n",
              "    </tr>\n",
              "    <tr>\n",
              "      <th>78</th>\n",
              "      <td>1979-07-02</td>\n",
              "      <td>14.85</td>\n",
              "    </tr>\n",
              "    <tr>\n",
              "      <th>79</th>\n",
              "      <td>1979-10-01</td>\n",
              "      <td>9.99</td>\n",
              "    </tr>\n",
              "    <tr>\n",
              "      <th>80</th>\n",
              "      <td>1980-01-01</td>\n",
              "      <td>16.20</td>\n",
              "    </tr>\n",
              "    <tr>\n",
              "      <th>81</th>\n",
              "      <td>1980-04-01</td>\n",
              "      <td>14.67</td>\n",
              "    </tr>\n",
              "    <tr>\n",
              "      <th>82</th>\n",
              "      <td>1980-07-02</td>\n",
              "      <td>16.02</td>\n",
              "    </tr>\n",
              "    <tr>\n",
              "      <th>83</th>\n",
              "      <td>1980-10-01</td>\n",
              "      <td>11.61</td>\n",
              "    </tr>\n",
              "  </tbody>\n",
              "</table>\n",
              "</div>\n",
              "      <button class=\"colab-df-convert\" onclick=\"convertToInteractive('df-1e66f7eb-3180-40ab-ad42-0d411ee1fd8a')\"\n",
              "              title=\"Convert this dataframe to an interactive table.\"\n",
              "              style=\"display:none;\">\n",
              "        \n",
              "  <svg xmlns=\"http://www.w3.org/2000/svg\" height=\"24px\"viewBox=\"0 0 24 24\"\n",
              "       width=\"24px\">\n",
              "    <path d=\"M0 0h24v24H0V0z\" fill=\"none\"/>\n",
              "    <path d=\"M18.56 5.44l.94 2.06.94-2.06 2.06-.94-2.06-.94-.94-2.06-.94 2.06-2.06.94zm-11 1L8.5 8.5l.94-2.06 2.06-.94-2.06-.94L8.5 2.5l-.94 2.06-2.06.94zm10 10l.94 2.06.94-2.06 2.06-.94-2.06-.94-.94-2.06-.94 2.06-2.06.94z\"/><path d=\"M17.41 7.96l-1.37-1.37c-.4-.4-.92-.59-1.43-.59-.52 0-1.04.2-1.43.59L10.3 9.45l-7.72 7.72c-.78.78-.78 2.05 0 2.83L4 21.41c.39.39.9.59 1.41.59.51 0 1.02-.2 1.41-.59l7.78-7.78 2.81-2.81c.8-.78.8-2.07 0-2.86zM5.41 20L4 18.59l7.72-7.72 1.47 1.35L5.41 20z\"/>\n",
              "  </svg>\n",
              "      </button>\n",
              "      \n",
              "  <style>\n",
              "    .colab-df-container {\n",
              "      display:flex;\n",
              "      flex-wrap:wrap;\n",
              "      gap: 12px;\n",
              "    }\n",
              "\n",
              "    .colab-df-convert {\n",
              "      background-color: #E8F0FE;\n",
              "      border: none;\n",
              "      border-radius: 50%;\n",
              "      cursor: pointer;\n",
              "      display: none;\n",
              "      fill: #1967D2;\n",
              "      height: 32px;\n",
              "      padding: 0 0 0 0;\n",
              "      width: 32px;\n",
              "    }\n",
              "\n",
              "    .colab-df-convert:hover {\n",
              "      background-color: #E2EBFA;\n",
              "      box-shadow: 0px 1px 2px rgba(60, 64, 67, 0.3), 0px 1px 3px 1px rgba(60, 64, 67, 0.15);\n",
              "      fill: #174EA6;\n",
              "    }\n",
              "\n",
              "    [theme=dark] .colab-df-convert {\n",
              "      background-color: #3B4455;\n",
              "      fill: #D2E3FC;\n",
              "    }\n",
              "\n",
              "    [theme=dark] .colab-df-convert:hover {\n",
              "      background-color: #434B5C;\n",
              "      box-shadow: 0px 1px 3px 1px rgba(0, 0, 0, 0.15);\n",
              "      filter: drop-shadow(0px 1px 2px rgba(0, 0, 0, 0.3));\n",
              "      fill: #FFFFFF;\n",
              "    }\n",
              "  </style>\n",
              "\n",
              "      <script>\n",
              "        const buttonEl =\n",
              "          document.querySelector('#df-1e66f7eb-3180-40ab-ad42-0d411ee1fd8a button.colab-df-convert');\n",
              "        buttonEl.style.display =\n",
              "          google.colab.kernel.accessAllowed ? 'block' : 'none';\n",
              "\n",
              "        async function convertToInteractive(key) {\n",
              "          const element = document.querySelector('#df-1e66f7eb-3180-40ab-ad42-0d411ee1fd8a');\n",
              "          const dataTable =\n",
              "            await google.colab.kernel.invokeFunction('convertToInteractive',\n",
              "                                                     [key], {});\n",
              "          if (!dataTable) return;\n",
              "\n",
              "          const docLinkHtml = 'Like what you see? Visit the ' +\n",
              "            '<a target=\"_blank\" href=https://colab.research.google.com/notebooks/data_table.ipynb>data table notebook</a>'\n",
              "            + ' to learn more about interactive tables.';\n",
              "          element.innerHTML = '';\n",
              "          dataTable['output_type'] = 'display_data';\n",
              "          await google.colab.output.renderOutput(dataTable, element);\n",
              "          const docLink = document.createElement('div');\n",
              "          docLink.innerHTML = docLinkHtml;\n",
              "          element.appendChild(docLink);\n",
              "        }\n",
              "      </script>\n",
              "    </div>\n",
              "  </div>\n",
              "  "
            ]
          },
          "metadata": {},
          "execution_count": 62
        }
      ]
    },
    {
      "cell_type": "code",
      "source": [
        "#train = df.iloc['data'][:-10]\n",
        "test = df.iloc[-10:]\n",
        "\n",
        "\n",
        "\n",
        "#result_df = optimize_ARIMA(train, order_list, d)\n",
        "#result_df"
      ],
      "metadata": {
        "id": "kpQzjNkAyC1m"
      },
      "execution_count": 61,
      "outputs": []
    },
    {
      "cell_type": "code",
      "source": [
        "model = SARIMAX(train, order=(3,2,2), simple_differencing=False)\n",
        "model_fit = model.fit(disp=False)\n",
        "\n",
        "print(model_fit.summary())"
      ],
      "metadata": {
        "colab": {
          "base_uri": "https://localhost:8080/"
        },
        "id": "UbaHA5UXyRTH",
        "outputId": "b5e28c44-79cc-429c-ee1c-22db779ad176"
      },
      "execution_count": 45,
      "outputs": [
        {
          "output_type": "stream",
          "name": "stdout",
          "text": [
            "                               SARIMAX Results                                \n",
            "==============================================================================\n",
            "Dep. Variable:                   data   No. Observations:                   74\n",
            "Model:               SARIMAX(3, 2, 2)   Log Likelihood                 -18.609\n",
            "Date:                Sat, 24 Dec 2022   AIC                             49.218\n",
            "Time:                        15:41:28   BIC                             62.878\n",
            "Sample:                             0   HQIC                            54.656\n",
            "                                 - 74                                         \n",
            "Covariance Type:                  opg                                         \n",
            "==============================================================================\n",
            "                 coef    std err          z      P>|z|      [0.025      0.975]\n",
            "------------------------------------------------------------------------------\n",
            "ar.L1         -1.1101      0.047    -23.785      0.000      -1.202      -1.019\n",
            "ar.L2         -1.1039      0.036    -30.823      0.000      -1.174      -1.034\n",
            "ar.L3         -0.9557      0.038    -24.877      0.000      -1.031      -0.880\n",
            "ma.L1         -0.2731      0.122     -2.244      0.025      -0.512      -0.035\n",
            "ma.L2         -0.2534      0.130     -1.956      0.050      -0.507       0.001\n",
            "sigma2         0.0861      0.014      6.082      0.000       0.058       0.114\n",
            "===================================================================================\n",
            "Ljung-Box (L1) (Q):                   0.10   Jarque-Bera (JB):                 2.28\n",
            "Prob(Q):                              0.75   Prob(JB):                         0.32\n",
            "Heteroskedasticity (H):              25.77   Skew:                             0.22\n",
            "Prob(H) (two-sided):                  0.00   Kurtosis:                         3.75\n",
            "===================================================================================\n",
            "\n",
            "Warnings:\n",
            "[1] Covariance matrix calculated using the outer product of gradients (complex-step).\n"
          ]
        }
      ]
    },
    {
      "cell_type": "code",
      "source": [
        "model_fit.plot_diagnostics(figsize=(10,8));\n",
        "## variaie is constant, but we can ignore"
      ],
      "metadata": {
        "colab": {
          "base_uri": "https://localhost:8080/",
          "height": 513
        },
        "id": "EMd54B2x0E0w",
        "outputId": "38df1289-5fc7-4aa8-b98f-8cc73db79a0e"
      },
      "execution_count": 46,
      "outputs": [
        {
          "output_type": "display_data",
          "data": {
            "text/plain": [
              "<Figure size 720x576 with 4 Axes>"
            ],
            "image/png": "[encoded data removed]"
          },
          "metadata": {
            "needs_background": "light"
          }
        }
      ]
    },
    {
      "cell_type": "code",
      "source": [
        "residuals = model_fit.resid\n",
        "\n",
        "lbvalue, pvalue = acorr_ljungbox(residuals, np.arange(1, 11, 1))\n",
        "\n",
        "print(pvalue)  # no correlation"
      ],
      "metadata": {
        "colab": {
          "base_uri": "https://localhost:8080/"
        },
        "id": "sn8O1Mx40QBo",
        "outputId": "63af6de4-438f-4796-8ccb-752826e68038"
      },
      "execution_count": 47,
      "outputs": [
        {
          "output_type": "stream",
          "name": "stdout",
          "text": [
            "[0.22989924 0.45324887 0.19916174 0.32330019 0.45715197 0.57603185\n",
            " 0.16642031 0.23688051 0.1992854  0.24498101]\n"
          ]
        }
      ]
    },
    {
      "cell_type": "code",
      "source": [
        "ARIMA_pred = model_fit.get_prediction(74, 83).predicted_mean   # forecast\n",
        "\n",
        "test['ARIMA_pred'] = ARIMA_pred\n",
        "test    # here we see the predicted value have same scale of original scale\n"
      ],
      "metadata": {
        "colab": {
          "base_uri": "https://localhost:8080/",
          "height": 363
        },
        "id": "7PfKrV9W0WYq",
        "outputId": "4355a359-2442-42d5-a869-7364a1491aff"
      },
      "execution_count": 63,
      "outputs": [
        {
          "output_type": "execute_result",
          "data": {
            "text/plain": [
              "          date   data  ARIMA_pred\n",
              "74  1978-07-02  12.15   11.069907\n",
              "75  1978-10-01   8.91   10.832122\n",
              "76  1979-01-01  14.04   13.889214\n",
              "77  1979-04-02  12.96   13.576443\n",
              "78  1979-07-02  14.85   12.648521\n",
              "79  1979-10-01   9.99   12.974462\n",
              "80  1980-01-01  16.20   15.808066\n",
              "81  1980-04-01  14.67   15.061699\n",
              "82  1980-07-02  16.02   14.323067\n",
              "83  1980-10-01  11.61   15.131091"
            ],
            "text/html": [
              "\n",
              "  <div id=\"df-e6e6cd03-0aa9-4bd8-8b05-6028264ffb95\">\n",
              "    <div class=\"colab-df-container\">\n",
              "      <div>\n",
              "<style scoped>\n",
              "    .dataframe tbody tr th:only-of-type {\n",
              "        vertical-align: middle;\n",
              "    }\n",
              "\n",
              "    .dataframe tbody tr th {\n",
              "        vertical-align: top;\n",
              "    }\n",
              "\n",
              "    .dataframe thead th {\n",
              "        text-align: right;\n",
              "    }\n",
              "</style>\n",
              "<table border=\"1\" class=\"dataframe\">\n",
              "  <thead>\n",
              "    <tr style=\"text-align: right;\">\n",
              "      <th></th>\n",
              "      <th>date</th>\n",
              "      <th>data</th>\n",
              "      <th>ARIMA_pred</th>\n",
              "    </tr>\n",
              "  </thead>\n",
              "  <tbody>\n",
              "    <tr>\n",
              "      <th>74</th>\n",
              "      <td>1978-07-02</td>\n",
              "      <td>12.15</td>\n",
              "      <td>11.069907</td>\n",
              "    </tr>\n",
              "    <tr>\n",
              "      <th>75</th>\n",
              "      <td>1978-10-01</td>\n",
              "      <td>8.91</td>\n",
              "      <td>10.832122</td>\n",
              "    </tr>\n",
              "    <tr>\n",
              "      <th>76</th>\n",
              "      <td>1979-01-01</td>\n",
              "      <td>14.04</td>\n",
              "      <td>13.889214</td>\n",
              "    </tr>\n",
              "    <tr>\n",
              "      <th>77</th>\n",
              "      <td>1979-04-02</td>\n",
              "      <td>12.96</td>\n",
              "      <td>13.576443</td>\n",
              "    </tr>\n",
              "    <tr>\n",
              "      <th>78</th>\n",
              "      <td>1979-07-02</td>\n",
              "      <td>14.85</td>\n",
              "      <td>12.648521</td>\n",
              "    </tr>\n",
              "    <tr>\n",
              "      <th>79</th>\n",
              "      <td>1979-10-01</td>\n",
              "      <td>9.99</td>\n",
              "      <td>12.974462</td>\n",
              "    </tr>\n",
              "    <tr>\n",
              "      <th>80</th>\n",
              "      <td>1980-01-01</td>\n",
              "      <td>16.20</td>\n",
              "      <td>15.808066</td>\n",
              "    </tr>\n",
              "    <tr>\n",
              "      <th>81</th>\n",
              "      <td>1980-04-01</td>\n",
              "      <td>14.67</td>\n",
              "      <td>15.061699</td>\n",
              "    </tr>\n",
              "    <tr>\n",
              "      <th>82</th>\n",
              "      <td>1980-07-02</td>\n",
              "      <td>16.02</td>\n",
              "      <td>14.323067</td>\n",
              "    </tr>\n",
              "    <tr>\n",
              "      <th>83</th>\n",
              "      <td>1980-10-01</td>\n",
              "      <td>11.61</td>\n",
              "      <td>15.131091</td>\n",
              "    </tr>\n",
              "  </tbody>\n",
              "</table>\n",
              "</div>\n",
              "      <button class=\"colab-df-convert\" onclick=\"convertToInteractive('df-e6e6cd03-0aa9-4bd8-8b05-6028264ffb95')\"\n",
              "              title=\"Convert this dataframe to an interactive table.\"\n",
              "              style=\"display:none;\">\n",
              "        \n",
              "  <svg xmlns=\"http://www.w3.org/2000/svg\" height=\"24px\"viewBox=\"0 0 24 24\"\n",
              "       width=\"24px\">\n",
              "    <path d=\"M0 0h24v24H0V0z\" fill=\"none\"/>\n",
              "    <path d=\"M18.56 5.44l.94 2.06.94-2.06 2.06-.94-2.06-.94-.94-2.06-.94 2.06-2.06.94zm-11 1L8.5 8.5l.94-2.06 2.06-.94-2.06-.94L8.5 2.5l-.94 2.06-2.06.94zm10 10l.94 2.06.94-2.06 2.06-.94-2.06-.94-.94-2.06-.94 2.06-2.06.94z\"/><path d=\"M17.41 7.96l-1.37-1.37c-.4-.4-.92-.59-1.43-.59-.52 0-1.04.2-1.43.59L10.3 9.45l-7.72 7.72c-.78.78-.78 2.05 0 2.83L4 21.41c.39.39.9.59 1.41.59.51 0 1.02-.2 1.41-.59l7.78-7.78 2.81-2.81c.8-.78.8-2.07 0-2.86zM5.41 20L4 18.59l7.72-7.72 1.47 1.35L5.41 20z\"/>\n",
              "  </svg>\n",
              "      </button>\n",
              "      \n",
              "  <style>\n",
              "    .colab-df-container {\n",
              "      display:flex;\n",
              "      flex-wrap:wrap;\n",
              "      gap: 12px;\n",
              "    }\n",
              "\n",
              "    .colab-df-convert {\n",
              "      background-color: #E8F0FE;\n",
              "      border: none;\n",
              "      border-radius: 50%;\n",
              "      cursor: pointer;\n",
              "      display: none;\n",
              "      fill: #1967D2;\n",
              "      height: 32px;\n",
              "      padding: 0 0 0 0;\n",
              "      width: 32px;\n",
              "    }\n",
              "\n",
              "    .colab-df-convert:hover {\n",
              "      background-color: #E2EBFA;\n",
              "      box-shadow: 0px 1px 2px rgba(60, 64, 67, 0.3), 0px 1px 3px 1px rgba(60, 64, 67, 0.15);\n",
              "      fill: #174EA6;\n",
              "    }\n",
              "\n",
              "    [theme=dark] .colab-df-convert {\n",
              "      background-color: #3B4455;\n",
              "      fill: #D2E3FC;\n",
              "    }\n",
              "\n",
              "    [theme=dark] .colab-df-convert:hover {\n",
              "      background-color: #434B5C;\n",
              "      box-shadow: 0px 1px 3px 1px rgba(0, 0, 0, 0.15);\n",
              "      filter: drop-shadow(0px 1px 2px rgba(0, 0, 0, 0.3));\n",
              "      fill: #FFFFFF;\n",
              "    }\n",
              "  </style>\n",
              "\n",
              "      <script>\n",
              "        const buttonEl =\n",
              "          document.querySelector('#df-e6e6cd03-0aa9-4bd8-8b05-6028264ffb95 button.colab-df-convert');\n",
              "        buttonEl.style.display =\n",
              "          google.colab.kernel.accessAllowed ? 'block' : 'none';\n",
              "\n",
              "        async function convertToInteractive(key) {\n",
              "          const element = document.querySelector('#df-e6e6cd03-0aa9-4bd8-8b05-6028264ffb95');\n",
              "          const dataTable =\n",
              "            await google.colab.kernel.invokeFunction('convertToInteractive',\n",
              "                                                     [key], {});\n",
              "          if (!dataTable) return;\n",
              "\n",
              "          const docLinkHtml = 'Like what you see? Visit the ' +\n",
              "            '<a target=\"_blank\" href=https://colab.research.google.com/notebooks/data_table.ipynb>data table notebook</a>'\n",
              "            + ' to learn more about interactive tables.';\n",
              "          element.innerHTML = '';\n",
              "          dataTable['output_type'] = 'display_data';\n",
              "          await google.colab.output.renderOutput(dataTable, element);\n",
              "          const docLink = document.createElement('div');\n",
              "          docLink.innerHTML = docLinkHtml;\n",
              "          element.appendChild(docLink);\n",
              "        }\n",
              "      </script>\n",
              "    </div>\n",
              "  </div>\n",
              "  "
            ]
          },
          "metadata": {},
          "execution_count": 63
        }
      ]
    },
    {
      "cell_type": "code",
      "source": [
        "fig, ax = plt.subplots()\n",
        "\n",
        "ax.plot(df['date'], df['data'])\n",
        "ax.plot(test['data'], 'b-', label='actual')\n",
        "#ax.plot(test['naive_seasonal'], 'r:', label='naive seasonal')\n",
        "ax.plot(test['ARIMA_pred'], 'k--', label='ARIMA(3,2,2)')\n",
        "\n",
        "ax.set_xlabel('Date')\n",
        "ax.set_ylabel('Earnings per share (USD)')\n",
        "ax.axvspan(74, 83, color='#808080', alpha=0.2)\n",
        "\n",
        "ax.legend(loc=2)\n",
        "\n",
        "plt.xticks(np.arange(0, 81, 8), [1960, 1962, 1964, 1966, 1968, 1970, 1972, 1974, 1976, 1978, 1980])\n",
        "ax.set_xlim(60, 83)\n",
        "\n",
        "fig.autofmt_xdate()\n",
        "plt.tight_layout()"
      ],
      "metadata": {
        "colab": {
          "base_uri": "https://localhost:8080/",
          "height": 441
        },
        "id": "Y7iuThBW0Ymz",
        "outputId": "79660151-ff55-4153-94f4-0f3caeab760c"
      },
      "execution_count": 68,
      "outputs": [
        {
          "output_type": "display_data",
          "data": {
            "text/plain": [
              "<Figure size 864x432 with 1 Axes>"
            ],
            "image/png": "[encoded data removed]"
          },
          "metadata": {
            "needs_background": "light"
          }
        }
      ]
    },
    {
      "cell_type": "code",
      "source": [
        "mape = MAPE(test['data'], test['ARIMA_pred'])   # due to +,- unable to calculate the MAPE\n",
        "mape"
      ],
      "metadata": {
        "colab": {
          "base_uri": "https://localhost:8080/"
        },
        "id": "A_R2tiM03I31",
        "outputId": "aca2d04f-bc2f-4d24-fdf8-7eaa2b2a8cea"
      },
      "execution_count": 70,
      "outputs": [
        {
          "output_type": "execute_result",
          "data": {
            "text/plain": [
              "12.700213235613504"
            ]
          },
          "metadata": {},
          "execution_count": 70
        }
      ]
    },
    {
      "cell_type": "code",
      "source": [
        "test"
      ],
      "metadata": {
        "colab": {
          "base_uri": "https://localhost:8080/",
          "height": 363
        },
        "id": "rQHdhHN03Kag",
        "outputId": "724285f7-901a-4e6e-a242-2a5c7bfd15b3"
      },
      "execution_count": 69,
      "outputs": [
        {
          "output_type": "execute_result",
          "data": {
            "text/plain": [
              "          date   data  ARIMA_pred\n",
              "74  1978-07-02  12.15   11.069907\n",
              "75  1978-10-01   8.91   10.832122\n",
              "76  1979-01-01  14.04   13.889214\n",
              "77  1979-04-02  12.96   13.576443\n",
              "78  1979-07-02  14.85   12.648521\n",
              "79  1979-10-01   9.99   12.974462\n",
              "80  1980-01-01  16.20   15.808066\n",
              "81  1980-04-01  14.67   15.061699\n",
              "82  1980-07-02  16.02   14.323067\n",
              "83  1980-10-01  11.61   15.131091"
            ],
            "text/html": [
              "\n",
              "  <div id=\"df-b722783a-98ec-4533-a025-f70f00bd3c60\">\n",
              "    <div class=\"colab-df-container\">\n",
              "      <div>\n",
              "<style scoped>\n",
              "    .dataframe tbody tr th:only-of-type {\n",
              "        vertical-align: middle;\n",
              "    }\n",
              "\n",
              "    .dataframe tbody tr th {\n",
              "        vertical-align: top;\n",
              "    }\n",
              "\n",
              "    .dataframe thead th {\n",
              "        text-align: right;\n",
              "    }\n",
              "</style>\n",
              "<table border=\"1\" class=\"dataframe\">\n",
              "  <thead>\n",
              "    <tr style=\"text-align: right;\">\n",
              "      <th></th>\n",
              "      <th>date</th>\n",
              "      <th>data</th>\n",
              "      <th>ARIMA_pred</th>\n",
              "    </tr>\n",
              "  </thead>\n",
              "  <tbody>\n",
              "    <tr>\n",
              "      <th>74</th>\n",
              "      <td>1978-07-02</td>\n",
              "      <td>12.15</td>\n",
              "      <td>11.069907</td>\n",
              "    </tr>\n",
              "    <tr>\n",
              "      <th>75</th>\n",
              "      <td>1978-10-01</td>\n",
              "      <td>8.91</td>\n",
              "      <td>10.832122</td>\n",
              "    </tr>\n",
              "    <tr>\n",
              "      <th>76</th>\n",
              "      <td>1979-01-01</td>\n",
              "      <td>14.04</td>\n",
              "      <td>13.889214</td>\n",
              "    </tr>\n",
              "    <tr>\n",
              "      <th>77</th>\n",
              "      <td>1979-04-02</td>\n",
              "      <td>12.96</td>\n",
              "      <td>13.576443</td>\n",
              "    </tr>\n",
              "    <tr>\n",
              "      <th>78</th>\n",
              "      <td>1979-07-02</td>\n",
              "      <td>14.85</td>\n",
              "      <td>12.648521</td>\n",
              "    </tr>\n",
              "    <tr>\n",
              "      <th>79</th>\n",
              "      <td>1979-10-01</td>\n",
              "      <td>9.99</td>\n",
              "      <td>12.974462</td>\n",
              "    </tr>\n",
              "    <tr>\n",
              "      <th>80</th>\n",
              "      <td>1980-01-01</td>\n",
              "      <td>16.20</td>\n",
              "      <td>15.808066</td>\n",
              "    </tr>\n",
              "    <tr>\n",
              "      <th>81</th>\n",
              "      <td>1980-04-01</td>\n",
              "      <td>14.67</td>\n",
              "      <td>15.061699</td>\n",
              "    </tr>\n",
              "    <tr>\n",
              "      <th>82</th>\n",
              "      <td>1980-07-02</td>\n",
              "      <td>16.02</td>\n",
              "      <td>14.323067</td>\n",
              "    </tr>\n",
              "    <tr>\n",
              "      <th>83</th>\n",
              "      <td>1980-10-01</td>\n",
              "      <td>11.61</td>\n",
              "      <td>15.131091</td>\n",
              "    </tr>\n",
              "  </tbody>\n",
              "</table>\n",
              "</div>\n",
              "      <button class=\"colab-df-convert\" onclick=\"convertToInteractive('df-b722783a-98ec-4533-a025-f70f00bd3c60')\"\n",
              "              title=\"Convert this dataframe to an interactive table.\"\n",
              "              style=\"display:none;\">\n",
              "        \n",
              "  <svg xmlns=\"http://www.w3.org/2000/svg\" height=\"24px\"viewBox=\"0 0 24 24\"\n",
              "       width=\"24px\">\n",
              "    <path d=\"M0 0h24v24H0V0z\" fill=\"none\"/>\n",
              "    <path d=\"M18.56 5.44l.94 2.06.94-2.06 2.06-.94-2.06-.94-.94-2.06-.94 2.06-2.06.94zm-11 1L8.5 8.5l.94-2.06 2.06-.94-2.06-.94L8.5 2.5l-.94 2.06-2.06.94zm10 10l.94 2.06.94-2.06 2.06-.94-2.06-.94-.94-2.06-.94 2.06-2.06.94z\"/><path d=\"M17.41 7.96l-1.37-1.37c-.4-.4-.92-.59-1.43-.59-.52 0-1.04.2-1.43.59L10.3 9.45l-7.72 7.72c-.78.78-.78 2.05 0 2.83L4 21.41c.39.39.9.59 1.41.59.51 0 1.02-.2 1.41-.59l7.78-7.78 2.81-2.81c.8-.78.8-2.07 0-2.86zM5.41 20L4 18.59l7.72-7.72 1.47 1.35L5.41 20z\"/>\n",
              "  </svg>\n",
              "      </button>\n",
              "      \n",
              "  <style>\n",
              "    .colab-df-container {\n",
              "      display:flex;\n",
              "      flex-wrap:wrap;\n",
              "      gap: 12px;\n",
              "    }\n",
              "\n",
              "    .colab-df-convert {\n",
              "      background-color: #E8F0FE;\n",
              "      border: none;\n",
              "      border-radius: 50%;\n",
              "      cursor: pointer;\n",
              "      display: none;\n",
              "      fill: #1967D2;\n",
              "      height: 32px;\n",
              "      padding: 0 0 0 0;\n",
              "      width: 32px;\n",
              "    }\n",
              "\n",
              "    .colab-df-convert:hover {\n",
              "      background-color: #E2EBFA;\n",
              "      box-shadow: 0px 1px 2px rgba(60, 64, 67, 0.3), 0px 1px 3px 1px rgba(60, 64, 67, 0.15);\n",
              "      fill: #174EA6;\n",
              "    }\n",
              "\n",
              "    [theme=dark] .colab-df-convert {\n",
              "      background-color: #3B4455;\n",
              "      fill: #D2E3FC;\n",
              "    }\n",
              "\n",
              "    [theme=dark] .colab-df-convert:hover {\n",
              "      background-color: #434B5C;\n",
              "      box-shadow: 0px 1px 3px 1px rgba(0, 0, 0, 0.15);\n",
              "      filter: drop-shadow(0px 1px 2px rgba(0, 0, 0, 0.3));\n",
              "      fill: #FFFFFF;\n",
              "    }\n",
              "  </style>\n",
              "\n",
              "      <script>\n",
              "        const buttonEl =\n",
              "          document.querySelector('#df-b722783a-98ec-4533-a025-f70f00bd3c60 button.colab-df-convert');\n",
              "        buttonEl.style.display =\n",
              "          google.colab.kernel.accessAllowed ? 'block' : 'none';\n",
              "\n",
              "        async function convertToInteractive(key) {\n",
              "          const element = document.querySelector('#df-b722783a-98ec-4533-a025-f70f00bd3c60');\n",
              "          const dataTable =\n",
              "            await google.colab.kernel.invokeFunction('convertToInteractive',\n",
              "                                                     [key], {});\n",
              "          if (!dataTable) return;\n",
              "\n",
              "          const docLinkHtml = 'Like what you see? Visit the ' +\n",
              "            '<a target=\"_blank\" href=https://colab.research.google.com/notebooks/data_table.ipynb>data table notebook</a>'\n",
              "            + ' to learn more about interactive tables.';\n",
              "          element.innerHTML = '';\n",
              "          dataTable['output_type'] = 'display_data';\n",
              "          await google.colab.output.renderOutput(dataTable, element);\n",
              "          const docLink = document.createElement('div');\n",
              "          docLink.innerHTML = docLinkHtml;\n",
              "          element.appendChild(docLink);\n",
              "        }\n",
              "      </script>\n",
              "    </div>\n",
              "  </div>\n",
              "  "
            ]
          },
          "metadata": {},
          "execution_count": 69
        }
      ]
    },
    {
      "cell_type": "code",
      "source": [
        "MSE = mean_squared_error(test['data'], test['ARIMA_pred'])\n",
        "RMSE = np.sqrt(MSE)\n",
        "\n",
        "print(\"Root Mean Square Error\", RMSE)"
      ],
      "metadata": {
        "colab": {
          "base_uri": "https://localhost:8080/"
        },
        "id": "CDIuHJXb3UPb",
        "outputId": "56cab531-2c33-4311-fe7f-53860894b6a4"
      },
      "execution_count": 71,
      "outputs": [
        {
          "output_type": "stream",
          "name": "stdout",
          "text": [
            "Root Mean Square Error 1.860164583055727\n"
          ]
        }
      ]
    },
    {
      "cell_type": "code",
      "source": [],
      "metadata": {
        "id": "Knjkq0Hf3e4a"
      },
      "execution_count": null,
      "outputs": []
    }
  ]
}