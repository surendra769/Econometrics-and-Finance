{
  "nbformat": 4,
  "nbformat_minor": 0,
  "metadata": {
    "colab": {
      "provenance": []
    },
    "kernelspec": {
      "name": "python3",
      "display_name": "Python 3"
    },
    "language_info": {
      "name": "python"
    }
  },
  "cells": [
    {
      "cell_type": "code",
      "execution_count": 1,
      "metadata": {
        "id": "fxDEWSKwlpTw"
      },
      "outputs": [],
      "source": []
    },
    {
      "cell_type": "markdown",
      "source": [
        "**Import Libraries**"
      ],
      "metadata": {
        "id": "1TaSpZuFlzlY"
      }
    },
    {
      "cell_type": "code",
      "source": [
        "import pandas as pd\n",
        "import numpy as np\n",
        "\n",
        "import seaborn as sns\n",
        "import matplotlib.pyplot as plt\n",
        "\n",
        "from datetime import datetime  # for time formating\n",
        "from matplotlib.dates import DateFormatter\n",
        "import matplotlib.dates as mdates\n",
        "\n",
        "import statsmodels.api  as sm\n",
        "from statsmodels.graphics.tsaplots import plot_acf\n",
        "from statsmodels.tsa.stattools import adfuller\n",
        "\n",
        "\n",
        "import warnings\n",
        "warnings.filterwarnings(\"ignore\")"
      ],
      "metadata": {
        "id": "Kdy5PAVsl0Gq"
      },
      "execution_count": 2,
      "outputs": []
    },
    {
      "cell_type": "code",
      "source": [
        "df = pd.read_csv('https://raw.githubusercontent.com/surendra769/Econometrics-and-Finance/main/DailyDelhiClimateTest.csv')\n",
        "df.head()\n",
        "\n",
        "\n",
        "# we have the dataset from 1st Jamuary 2017 to 24  April 2017 "
      ],
      "metadata": {
        "colab": {
          "base_uri": "https://localhost:8080/",
          "height": 206
        },
        "id": "Mf_6YBOtl9in",
        "outputId": "635edaa5-479e-4216-a370-3676399255de"
      },
      "execution_count": 3,
      "outputs": [
        {
          "output_type": "execute_result",
          "data": {
            "text/plain": [
              "         date   meantemp   humidity  wind_speed  meanpressure\n",
              "0  2017-01-01  15.913043  85.869565    2.743478     59.000000\n",
              "1  2017-01-02  18.500000  77.222222    2.894444   1018.277778\n",
              "2  2017-01-03  17.111111  81.888889    4.016667   1018.333333\n",
              "3  2017-01-04  18.700000  70.050000    4.545000   1015.700000\n",
              "4  2017-01-05  18.388889  74.944444    3.300000   1014.333333"
            ],
            "text/html": [
              "\n",
              "  <div id=\"df-bc344870-1f0a-4d1c-800b-e6480106c862\">\n",
              "    <div class=\"colab-df-container\">\n",
              "      <div>\n",
              "<style scoped>\n",
              "    .dataframe tbody tr th:only-of-type {\n",
              "        vertical-align: middle;\n",
              "    }\n",
              "\n",
              "    .dataframe tbody tr th {\n",
              "        vertical-align: top;\n",
              "    }\n",
              "\n",
              "    .dataframe thead th {\n",
              "        text-align: right;\n",
              "    }\n",
              "</style>\n",
              "<table border=\"1\" class=\"dataframe\">\n",
              "  <thead>\n",
              "    <tr style=\"text-align: right;\">\n",
              "      <th></th>\n",
              "      <th>date</th>\n",
              "      <th>meantemp</th>\n",
              "      <th>humidity</th>\n",
              "      <th>wind_speed</th>\n",
              "      <th>meanpressure</th>\n",
              "    </tr>\n",
              "  </thead>\n",
              "  <tbody>\n",
              "    <tr>\n",
              "      <th>0</th>\n",
              "      <td>2017-01-01</td>\n",
              "      <td>15.913043</td>\n",
              "      <td>85.869565</td>\n",
              "      <td>2.743478</td>\n",
              "      <td>59.000000</td>\n",
              "    </tr>\n",
              "    <tr>\n",
              "      <th>1</th>\n",
              "      <td>2017-01-02</td>\n",
              "      <td>18.500000</td>\n",
              "      <td>77.222222</td>\n",
              "      <td>2.894444</td>\n",
              "      <td>1018.277778</td>\n",
              "    </tr>\n",
              "    <tr>\n",
              "      <th>2</th>\n",
              "      <td>2017-01-03</td>\n",
              "      <td>17.111111</td>\n",
              "      <td>81.888889</td>\n",
              "      <td>4.016667</td>\n",
              "      <td>1018.333333</td>\n",
              "    </tr>\n",
              "    <tr>\n",
              "      <th>3</th>\n",
              "      <td>2017-01-04</td>\n",
              "      <td>18.700000</td>\n",
              "      <td>70.050000</td>\n",
              "      <td>4.545000</td>\n",
              "      <td>1015.700000</td>\n",
              "    </tr>\n",
              "    <tr>\n",
              "      <th>4</th>\n",
              "      <td>2017-01-05</td>\n",
              "      <td>18.388889</td>\n",
              "      <td>74.944444</td>\n",
              "      <td>3.300000</td>\n",
              "      <td>1014.333333</td>\n",
              "    </tr>\n",
              "  </tbody>\n",
              "</table>\n",
              "</div>\n",
              "      <button class=\"colab-df-convert\" onclick=\"convertToInteractive('df-bc344870-1f0a-4d1c-800b-e6480106c862')\"\n",
              "              title=\"Convert this dataframe to an interactive table.\"\n",
              "              style=\"display:none;\">\n",
              "        \n",
              "  <svg xmlns=\"http://www.w3.org/2000/svg\" height=\"24px\"viewBox=\"0 0 24 24\"\n",
              "       width=\"24px\">\n",
              "    <path d=\"M0 0h24v24H0V0z\" fill=\"none\"/>\n",
              "    <path d=\"M18.56 5.44l.94 2.06.94-2.06 2.06-.94-2.06-.94-.94-2.06-.94 2.06-2.06.94zm-11 1L8.5 8.5l.94-2.06 2.06-.94-2.06-.94L8.5 2.5l-.94 2.06-2.06.94zm10 10l.94 2.06.94-2.06 2.06-.94-2.06-.94-.94-2.06-.94 2.06-2.06.94z\"/><path d=\"M17.41 7.96l-1.37-1.37c-.4-.4-.92-.59-1.43-.59-.52 0-1.04.2-1.43.59L10.3 9.45l-7.72 7.72c-.78.78-.78 2.05 0 2.83L4 21.41c.39.39.9.59 1.41.59.51 0 1.02-.2 1.41-.59l7.78-7.78 2.81-2.81c.8-.78.8-2.07 0-2.86zM5.41 20L4 18.59l7.72-7.72 1.47 1.35L5.41 20z\"/>\n",
              "  </svg>\n",
              "      </button>\n",
              "      \n",
              "  <style>\n",
              "    .colab-df-container {\n",
              "      display:flex;\n",
              "      flex-wrap:wrap;\n",
              "      gap: 12px;\n",
              "    }\n",
              "\n",
              "    .colab-df-convert {\n",
              "      background-color: #E8F0FE;\n",
              "      border: none;\n",
              "      border-radius: 50%;\n",
              "      cursor: pointer;\n",
              "      display: none;\n",
              "      fill: #1967D2;\n",
              "      height: 32px;\n",
              "      padding: 0 0 0 0;\n",
              "      width: 32px;\n",
              "    }\n",
              "\n",
              "    .colab-df-convert:hover {\n",
              "      background-color: #E2EBFA;\n",
              "      box-shadow: 0px 1px 2px rgba(60, 64, 67, 0.3), 0px 1px 3px 1px rgba(60, 64, 67, 0.15);\n",
              "      fill: #174EA6;\n",
              "    }\n",
              "\n",
              "    [theme=dark] .colab-df-convert {\n",
              "      background-color: #3B4455;\n",
              "      fill: #D2E3FC;\n",
              "    }\n",
              "\n",
              "    [theme=dark] .colab-df-convert:hover {\n",
              "      background-color: #434B5C;\n",
              "      box-shadow: 0px 1px 3px 1px rgba(0, 0, 0, 0.15);\n",
              "      filter: drop-shadow(0px 1px 2px rgba(0, 0, 0, 0.3));\n",
              "      fill: #FFFFFF;\n",
              "    }\n",
              "  </style>\n",
              "\n",
              "      <script>\n",
              "        const buttonEl =\n",
              "          document.querySelector('#df-bc344870-1f0a-4d1c-800b-e6480106c862 button.colab-df-convert');\n",
              "        buttonEl.style.display =\n",
              "          google.colab.kernel.accessAllowed ? 'block' : 'none';\n",
              "\n",
              "        async function convertToInteractive(key) {\n",
              "          const element = document.querySelector('#df-bc344870-1f0a-4d1c-800b-e6480106c862');\n",
              "          const dataTable =\n",
              "            await google.colab.kernel.invokeFunction('convertToInteractive',\n",
              "                                                     [key], {});\n",
              "          if (!dataTable) return;\n",
              "\n",
              "          const docLinkHtml = 'Like what you see? Visit the ' +\n",
              "            '<a target=\"_blank\" href=https://colab.research.google.com/notebooks/data_table.ipynb>data table notebook</a>'\n",
              "            + ' to learn more about interactive tables.';\n",
              "          element.innerHTML = '';\n",
              "          dataTable['output_type'] = 'display_data';\n",
              "          await google.colab.output.renderOutput(dataTable, element);\n",
              "          const docLink = document.createElement('div');\n",
              "          docLink.innerHTML = docLinkHtml;\n",
              "          element.appendChild(docLink);\n",
              "        }\n",
              "      </script>\n",
              "    </div>\n",
              "  </div>\n",
              "  "
            ]
          },
          "metadata": {},
          "execution_count": 3
        }
      ]
    },
    {
      "cell_type": "markdown",
      "source": [
        "We will  take  date, mean pressure, humidity, wind_speed as train variable and mean temp as test variable."
      ],
      "metadata": {
        "id": "2a4Mv00JmIVz"
      }
    },
    {
      "cell_type": "code",
      "source": [
        "df.info()  # need to convert date column to date data type"
      ],
      "metadata": {
        "colab": {
          "base_uri": "https://localhost:8080/"
        },
        "id": "U51AF8Zxmjyd",
        "outputId": "8177ca6d-b370-4a2e-e200-067a3a34dfab"
      },
      "execution_count": 4,
      "outputs": [
        {
          "output_type": "stream",
          "name": "stdout",
          "text": [
            "<class 'pandas.core.frame.DataFrame'>\n",
            "RangeIndex: 114 entries, 0 to 113\n",
            "Data columns (total 5 columns):\n",
            " #   Column        Non-Null Count  Dtype  \n",
            "---  ------        --------------  -----  \n",
            " 0   date          114 non-null    object \n",
            " 1   meantemp      114 non-null    float64\n",
            " 2   humidity      114 non-null    float64\n",
            " 3   wind_speed    114 non-null    float64\n",
            " 4   meanpressure  114 non-null    float64\n",
            "dtypes: float64(4), object(1)\n",
            "memory usage: 4.6+ KB\n"
          ]
        }
      ]
    },
    {
      "cell_type": "code",
      "source": [
        "df['date'] = pd.to_datetime(df['date'])\n",
        "df.head()"
      ],
      "metadata": {
        "colab": {
          "base_uri": "https://localhost:8080/",
          "height": 206
        },
        "id": "uMterwXOmxTl",
        "outputId": "b07ff83f-5d26-4704-bae0-99e85565e909"
      },
      "execution_count": 5,
      "outputs": [
        {
          "output_type": "execute_result",
          "data": {
            "text/plain": [
              "        date   meantemp   humidity  wind_speed  meanpressure\n",
              "0 2017-01-01  15.913043  85.869565    2.743478     59.000000\n",
              "1 2017-01-02  18.500000  77.222222    2.894444   1018.277778\n",
              "2 2017-01-03  17.111111  81.888889    4.016667   1018.333333\n",
              "3 2017-01-04  18.700000  70.050000    4.545000   1015.700000\n",
              "4 2017-01-05  18.388889  74.944444    3.300000   1014.333333"
            ],
            "text/html": [
              "\n",
              "  <div id=\"df-fc785b2a-2880-4d24-a5c6-613c2511f7c7\">\n",
              "    <div class=\"colab-df-container\">\n",
              "      <div>\n",
              "<style scoped>\n",
              "    .dataframe tbody tr th:only-of-type {\n",
              "        vertical-align: middle;\n",
              "    }\n",
              "\n",
              "    .dataframe tbody tr th {\n",
              "        vertical-align: top;\n",
              "    }\n",
              "\n",
              "    .dataframe thead th {\n",
              "        text-align: right;\n",
              "    }\n",
              "</style>\n",
              "<table border=\"1\" class=\"dataframe\">\n",
              "  <thead>\n",
              "    <tr style=\"text-align: right;\">\n",
              "      <th></th>\n",
              "      <th>date</th>\n",
              "      <th>meantemp</th>\n",
              "      <th>humidity</th>\n",
              "      <th>wind_speed</th>\n",
              "      <th>meanpressure</th>\n",
              "    </tr>\n",
              "  </thead>\n",
              "  <tbody>\n",
              "    <tr>\n",
              "      <th>0</th>\n",
              "      <td>2017-01-01</td>\n",
              "      <td>15.913043</td>\n",
              "      <td>85.869565</td>\n",
              "      <td>2.743478</td>\n",
              "      <td>59.000000</td>\n",
              "    </tr>\n",
              "    <tr>\n",
              "      <th>1</th>\n",
              "      <td>2017-01-02</td>\n",
              "      <td>18.500000</td>\n",
              "      <td>77.222222</td>\n",
              "      <td>2.894444</td>\n",
              "      <td>1018.277778</td>\n",
              "    </tr>\n",
              "    <tr>\n",
              "      <th>2</th>\n",
              "      <td>2017-01-03</td>\n",
              "      <td>17.111111</td>\n",
              "      <td>81.888889</td>\n",
              "      <td>4.016667</td>\n",
              "      <td>1018.333333</td>\n",
              "    </tr>\n",
              "    <tr>\n",
              "      <th>3</th>\n",
              "      <td>2017-01-04</td>\n",
              "      <td>18.700000</td>\n",
              "      <td>70.050000</td>\n",
              "      <td>4.545000</td>\n",
              "      <td>1015.700000</td>\n",
              "    </tr>\n",
              "    <tr>\n",
              "      <th>4</th>\n",
              "      <td>2017-01-05</td>\n",
              "      <td>18.388889</td>\n",
              "      <td>74.944444</td>\n",
              "      <td>3.300000</td>\n",
              "      <td>1014.333333</td>\n",
              "    </tr>\n",
              "  </tbody>\n",
              "</table>\n",
              "</div>\n",
              "      <button class=\"colab-df-convert\" onclick=\"convertToInteractive('df-fc785b2a-2880-4d24-a5c6-613c2511f7c7')\"\n",
              "              title=\"Convert this dataframe to an interactive table.\"\n",
              "              style=\"display:none;\">\n",
              "        \n",
              "  <svg xmlns=\"http://www.w3.org/2000/svg\" height=\"24px\"viewBox=\"0 0 24 24\"\n",
              "       width=\"24px\">\n",
              "    <path d=\"M0 0h24v24H0V0z\" fill=\"none\"/>\n",
              "    <path d=\"M18.56 5.44l.94 2.06.94-2.06 2.06-.94-2.06-.94-.94-2.06-.94 2.06-2.06.94zm-11 1L8.5 8.5l.94-2.06 2.06-.94-2.06-.94L8.5 2.5l-.94 2.06-2.06.94zm10 10l.94 2.06.94-2.06 2.06-.94-2.06-.94-.94-2.06-.94 2.06-2.06.94z\"/><path d=\"M17.41 7.96l-1.37-1.37c-.4-.4-.92-.59-1.43-.59-.52 0-1.04.2-1.43.59L10.3 9.45l-7.72 7.72c-.78.78-.78 2.05 0 2.83L4 21.41c.39.39.9.59 1.41.59.51 0 1.02-.2 1.41-.59l7.78-7.78 2.81-2.81c.8-.78.8-2.07 0-2.86zM5.41 20L4 18.59l7.72-7.72 1.47 1.35L5.41 20z\"/>\n",
              "  </svg>\n",
              "      </button>\n",
              "      \n",
              "  <style>\n",
              "    .colab-df-container {\n",
              "      display:flex;\n",
              "      flex-wrap:wrap;\n",
              "      gap: 12px;\n",
              "    }\n",
              "\n",
              "    .colab-df-convert {\n",
              "      background-color: #E8F0FE;\n",
              "      border: none;\n",
              "      border-radius: 50%;\n",
              "      cursor: pointer;\n",
              "      display: none;\n",
              "      fill: #1967D2;\n",
              "      height: 32px;\n",
              "      padding: 0 0 0 0;\n",
              "      width: 32px;\n",
              "    }\n",
              "\n",
              "    .colab-df-convert:hover {\n",
              "      background-color: #E2EBFA;\n",
              "      box-shadow: 0px 1px 2px rgba(60, 64, 67, 0.3), 0px 1px 3px 1px rgba(60, 64, 67, 0.15);\n",
              "      fill: #174EA6;\n",
              "    }\n",
              "\n",
              "    [theme=dark] .colab-df-convert {\n",
              "      background-color: #3B4455;\n",
              "      fill: #D2E3FC;\n",
              "    }\n",
              "\n",
              "    [theme=dark] .colab-df-convert:hover {\n",
              "      background-color: #434B5C;\n",
              "      box-shadow: 0px 1px 3px 1px rgba(0, 0, 0, 0.15);\n",
              "      filter: drop-shadow(0px 1px 2px rgba(0, 0, 0, 0.3));\n",
              "      fill: #FFFFFF;\n",
              "    }\n",
              "  </style>\n",
              "\n",
              "      <script>\n",
              "        const buttonEl =\n",
              "          document.querySelector('#df-fc785b2a-2880-4d24-a5c6-613c2511f7c7 button.colab-df-convert');\n",
              "        buttonEl.style.display =\n",
              "          google.colab.kernel.accessAllowed ? 'block' : 'none';\n",
              "\n",
              "        async function convertToInteractive(key) {\n",
              "          const element = document.querySelector('#df-fc785b2a-2880-4d24-a5c6-613c2511f7c7');\n",
              "          const dataTable =\n",
              "            await google.colab.kernel.invokeFunction('convertToInteractive',\n",
              "                                                     [key], {});\n",
              "          if (!dataTable) return;\n",
              "\n",
              "          const docLinkHtml = 'Like what you see? Visit the ' +\n",
              "            '<a target=\"_blank\" href=https://colab.research.google.com/notebooks/data_table.ipynb>data table notebook</a>'\n",
              "            + ' to learn more about interactive tables.';\n",
              "          element.innerHTML = '';\n",
              "          dataTable['output_type'] = 'display_data';\n",
              "          await google.colab.output.renderOutput(dataTable, element);\n",
              "          const docLink = document.createElement('div');\n",
              "          docLink.innerHTML = docLinkHtml;\n",
              "          element.appendChild(docLink);\n",
              "        }\n",
              "      </script>\n",
              "    </div>\n",
              "  </div>\n",
              "  "
            ]
          },
          "metadata": {},
          "execution_count": 5
        }
      ]
    },
    {
      "cell_type": "code",
      "source": [
        "df = df[['date','meantemp']]\n",
        "df.head()"
      ],
      "metadata": {
        "id": "vW0HeiD6JNT_",
        "colab": {
          "base_uri": "https://localhost:8080/",
          "height": 206
        },
        "outputId": "2834626f-fa0a-49c5-e73d-20c2e9d2a48d"
      },
      "execution_count": 6,
      "outputs": [
        {
          "output_type": "execute_result",
          "data": {
            "text/plain": [
              "        date   meantemp\n",
              "0 2017-01-01  15.913043\n",
              "1 2017-01-02  18.500000\n",
              "2 2017-01-03  17.111111\n",
              "3 2017-01-04  18.700000\n",
              "4 2017-01-05  18.388889"
            ],
            "text/html": [
              "\n",
              "  <div id=\"df-4ed28956-c5fd-4203-809c-4ab965753e15\">\n",
              "    <div class=\"colab-df-container\">\n",
              "      <div>\n",
              "<style scoped>\n",
              "    .dataframe tbody tr th:only-of-type {\n",
              "        vertical-align: middle;\n",
              "    }\n",
              "\n",
              "    .dataframe tbody tr th {\n",
              "        vertical-align: top;\n",
              "    }\n",
              "\n",
              "    .dataframe thead th {\n",
              "        text-align: right;\n",
              "    }\n",
              "</style>\n",
              "<table border=\"1\" class=\"dataframe\">\n",
              "  <thead>\n",
              "    <tr style=\"text-align: right;\">\n",
              "      <th></th>\n",
              "      <th>date</th>\n",
              "      <th>meantemp</th>\n",
              "    </tr>\n",
              "  </thead>\n",
              "  <tbody>\n",
              "    <tr>\n",
              "      <th>0</th>\n",
              "      <td>2017-01-01</td>\n",
              "      <td>15.913043</td>\n",
              "    </tr>\n",
              "    <tr>\n",
              "      <th>1</th>\n",
              "      <td>2017-01-02</td>\n",
              "      <td>18.500000</td>\n",
              "    </tr>\n",
              "    <tr>\n",
              "      <th>2</th>\n",
              "      <td>2017-01-03</td>\n",
              "      <td>17.111111</td>\n",
              "    </tr>\n",
              "    <tr>\n",
              "      <th>3</th>\n",
              "      <td>2017-01-04</td>\n",
              "      <td>18.700000</td>\n",
              "    </tr>\n",
              "    <tr>\n",
              "      <th>4</th>\n",
              "      <td>2017-01-05</td>\n",
              "      <td>18.388889</td>\n",
              "    </tr>\n",
              "  </tbody>\n",
              "</table>\n",
              "</div>\n",
              "      <button class=\"colab-df-convert\" onclick=\"convertToInteractive('df-4ed28956-c5fd-4203-809c-4ab965753e15')\"\n",
              "              title=\"Convert this dataframe to an interactive table.\"\n",
              "              style=\"display:none;\">\n",
              "        \n",
              "  <svg xmlns=\"http://www.w3.org/2000/svg\" height=\"24px\"viewBox=\"0 0 24 24\"\n",
              "       width=\"24px\">\n",
              "    <path d=\"M0 0h24v24H0V0z\" fill=\"none\"/>\n",
              "    <path d=\"M18.56 5.44l.94 2.06.94-2.06 2.06-.94-2.06-.94-.94-2.06-.94 2.06-2.06.94zm-11 1L8.5 8.5l.94-2.06 2.06-.94-2.06-.94L8.5 2.5l-.94 2.06-2.06.94zm10 10l.94 2.06.94-2.06 2.06-.94-2.06-.94-.94-2.06-.94 2.06-2.06.94z\"/><path d=\"M17.41 7.96l-1.37-1.37c-.4-.4-.92-.59-1.43-.59-.52 0-1.04.2-1.43.59L10.3 9.45l-7.72 7.72c-.78.78-.78 2.05 0 2.83L4 21.41c.39.39.9.59 1.41.59.51 0 1.02-.2 1.41-.59l7.78-7.78 2.81-2.81c.8-.78.8-2.07 0-2.86zM5.41 20L4 18.59l7.72-7.72 1.47 1.35L5.41 20z\"/>\n",
              "  </svg>\n",
              "      </button>\n",
              "      \n",
              "  <style>\n",
              "    .colab-df-container {\n",
              "      display:flex;\n",
              "      flex-wrap:wrap;\n",
              "      gap: 12px;\n",
              "    }\n",
              "\n",
              "    .colab-df-convert {\n",
              "      background-color: #E8F0FE;\n",
              "      border: none;\n",
              "      border-radius: 50%;\n",
              "      cursor: pointer;\n",
              "      display: none;\n",
              "      fill: #1967D2;\n",
              "      height: 32px;\n",
              "      padding: 0 0 0 0;\n",
              "      width: 32px;\n",
              "    }\n",
              "\n",
              "    .colab-df-convert:hover {\n",
              "      background-color: #E2EBFA;\n",
              "      box-shadow: 0px 1px 2px rgba(60, 64, 67, 0.3), 0px 1px 3px 1px rgba(60, 64, 67, 0.15);\n",
              "      fill: #174EA6;\n",
              "    }\n",
              "\n",
              "    [theme=dark] .colab-df-convert {\n",
              "      background-color: #3B4455;\n",
              "      fill: #D2E3FC;\n",
              "    }\n",
              "\n",
              "    [theme=dark] .colab-df-convert:hover {\n",
              "      background-color: #434B5C;\n",
              "      box-shadow: 0px 1px 3px 1px rgba(0, 0, 0, 0.15);\n",
              "      filter: drop-shadow(0px 1px 2px rgba(0, 0, 0, 0.3));\n",
              "      fill: #FFFFFF;\n",
              "    }\n",
              "  </style>\n",
              "\n",
              "      <script>\n",
              "        const buttonEl =\n",
              "          document.querySelector('#df-4ed28956-c5fd-4203-809c-4ab965753e15 button.colab-df-convert');\n",
              "        buttonEl.style.display =\n",
              "          google.colab.kernel.accessAllowed ? 'block' : 'none';\n",
              "\n",
              "        async function convertToInteractive(key) {\n",
              "          const element = document.querySelector('#df-4ed28956-c5fd-4203-809c-4ab965753e15');\n",
              "          const dataTable =\n",
              "            await google.colab.kernel.invokeFunction('convertToInteractive',\n",
              "                                                     [key], {});\n",
              "          if (!dataTable) return;\n",
              "\n",
              "          const docLinkHtml = 'Like what you see? Visit the ' +\n",
              "            '<a target=\"_blank\" href=https://colab.research.google.com/notebooks/data_table.ipynb>data table notebook</a>'\n",
              "            + ' to learn more about interactive tables.';\n",
              "          element.innerHTML = '';\n",
              "          dataTable['output_type'] = 'display_data';\n",
              "          await google.colab.output.renderOutput(dataTable, element);\n",
              "          const docLink = document.createElement('div');\n",
              "          docLink.innerHTML = docLinkHtml;\n",
              "          element.appendChild(docLink);\n",
              "        }\n",
              "      </script>\n",
              "    </div>\n",
              "  </div>\n",
              "  "
            ]
          },
          "metadata": {},
          "execution_count": 6
        }
      ]
    },
    {
      "cell_type": "code",
      "source": [],
      "metadata": {
        "id": "2jxS05fcJPxE"
      },
      "execution_count": 6,
      "outputs": []
    },
    {
      "cell_type": "code",
      "source": [
        "## plot the time series\n",
        "\n",
        "plt.figure(figsize=(12,6))\n",
        "plt.gcf().autofmt_xdate()\n",
        "plt.gca().xaxis.set_major_locator(mdates.DayLocator(interval=6))\n",
        "sns.lineplot( df['date'],  df['meantemp'])\n",
        "plt.gca().xaxis.set_major_locator(mdates.DayLocator());\n"
      ],
      "metadata": {
        "colab": {
          "base_uri": "https://localhost:8080/",
          "height": 356
        },
        "id": "bra__QLWs8Au",
        "outputId": "a06fa8c4-1cc3-48d5-e23e-63269216a036"
      },
      "execution_count": 7,
      "outputs": [
        {
          "output_type": "display_data",
          "data": {
            "text/plain": [
              "<Figure size 864x432 with 1 Axes>"
            ],
            "image/png": "[encoded data removed]"
          },
          "metadata": {
            "needs_background": "light"
          }
        }
      ]
    },
    {
      "cell_type": "markdown",
      "source": [
        "Unable to see the date cearly  therefore we will change the range of date."
      ],
      "metadata": {
        "id": "NldhtYGW_CNn"
      }
    },
    {
      "cell_type": "code",
      "source": [
        "plt.figure(figsize = (14,7))\n",
        "plt.gca().xaxis.set_major_formatter(mdates.DateFormatter('%d-%m-%Y'))     #specify the date foramt of  xaxis\n",
        "\n",
        "plt.gca().xaxis.set_major_locator(mdates.DayLocator(interval=10))  # specify  the interval\n",
        "plt.gcf().autofmt_xdate()    # manage the space\n",
        "\n",
        "sns.lineplot(df['date'], df['meantemp'])\n",
        "plt.ylabel('Temperature')\n",
        "\n",
        "plt.xticks(rotation=90)     # rotate the xaxis value by 90 degree\n",
        "plt.show()"
      ],
      "metadata": {
        "colab": {
          "base_uri": "https://localhost:8080/",
          "height": 453
        },
        "id": "XqSyIYOL-5D1",
        "outputId": "f334062e-8aef-4c2d-bb81-825f6b393cd1"
      },
      "execution_count": 8,
      "outputs": [
        {
          "output_type": "display_data",
          "data": {
            "text/plain": [
              "<Figure size 1008x504 with 1 Axes>"
            ],
            "image/png": "[encoded data removed]"
          },
          "metadata": {
            "needs_background": "light"
          }
        }
      ]
    },
    {
      "cell_type": "markdown",
      "source": [
        "**Inference**: It is observed that over the month there is increase in temperature."
      ],
      "metadata": {
        "id": "04c1HsRUACb2"
      }
    },
    {
      "cell_type": "code",
      "source": [
        "## to get  the better idea about trend, cyclical variation and  residuall\n",
        "decomposition = sm.tsa.seasonal_decompose(df['meantemp'],period = 12, model = 'multiplicative' )\n",
        "decomposition.plot()\n",
        "plt.show()     # to get only one plot "
      ],
      "metadata": {
        "colab": {
          "base_uri": "https://localhost:8080/",
          "height": 297
        },
        "id": "VBhAF_rOAaUl",
        "outputId": "698d95f3-1256-4550-eac3-826ca9d00e9b"
      },
      "execution_count": 9,
      "outputs": [
        {
          "output_type": "display_data",
          "data": {
            "text/plain": [
              "<Figure size 432x288 with 4 Axes>"
            ],
            "image/png": "[encoded data removed]"
          },
          "metadata": {
            "needs_background": "light"
          }
        }
      ]
    },
    {
      "cell_type": "markdown",
      "source": [
        "**Infernece**: we clearly see the upward trend in trend plpot alsoe see  the seasonal variation which  repeat each 20 days"
      ],
      "metadata": {
        "id": "GaKpdUs9sM--"
      }
    },
    {
      "cell_type": "code",
      "source": [
        "## we will take 80-20 train test \n",
        "\n",
        "train = df.iloc[:int(df.shape[0]*0.80),]  \n",
        "test = df.iloc[int(df.shape[0]*0.80):,]"
      ],
      "metadata": {
        "id": "TGiLy88toSsB"
      },
      "execution_count": 10,
      "outputs": []
    },
    {
      "cell_type": "code",
      "source": [
        "test.shape"
      ],
      "metadata": {
        "colab": {
          "base_uri": "https://localhost:8080/"
        },
        "id": "EMnKudnQzvEw",
        "outputId": "4e3a3285-d5d3-44b3-f8b8-6e6f7f0adad2"
      },
      "execution_count": 11,
      "outputs": [
        {
          "output_type": "execute_result",
          "data": {
            "text/plain": [
              "(23, 2)"
            ]
          },
          "metadata": {},
          "execution_count": 11
        }
      ]
    },
    {
      "cell_type": "markdown",
      "source": [
        "### Baseline Model  \n",
        "First we develop the baseline model and we only take that model which have accuracy greater than baseline model.  \n",
        "To develop baseline model we can use mean method, mean of last value and naive seasonal method.  \n",
        "\n",
        "**Naive Seasonal Method:** In the naive seasonal method  we take last seasonal value as predicted value, as we know that cycle  will  repeat so that will  be more closure value.\n"
      ],
      "metadata": {
        "id": "vLW5zEdZrcZS"
      }
    },
    {
      "cell_type": "code",
      "source": [
        "test.loc[:, 'pred_base'] = train['meantemp'][-23:].values"
      ],
      "metadata": {
        "id": "OXAuLmRZvu7E"
      },
      "execution_count": 12,
      "outputs": []
    },
    {
      "cell_type": "code",
      "source": [
        "# function to  calcualte Mean Absolute Percentage Error\n",
        "def MAPE(Y_actual,Y_Predicted):  \n",
        "    mape = np.mean(np.abs((Y_actual - Y_Predicted)/Y_actual))*100\n",
        "    return mape"
      ],
      "metadata": {
        "id": "XROiCsvdz_yZ"
      },
      "execution_count": 13,
      "outputs": []
    },
    {
      "cell_type": "code",
      "source": [
        "baseline_score = MAPE(test['pred_base'],test['meantemp'])\n",
        "baseline_score\n",
        "\n",
        "# our baseline model predicted value is deviate from 26% from the orgianal value, to better understand how the value are devaite we plot the value."
      ],
      "metadata": {
        "colab": {
          "base_uri": "https://localhost:8080/"
        },
        "id": "50M5naUn0lzE",
        "outputId": "a231b4b6-e852-4e9b-93fd-45a7275fe8d7"
      },
      "execution_count": 14,
      "outputs": [
        {
          "output_type": "execute_result",
          "data": {
            "text/plain": [
              "26.615061652611466"
            ]
          },
          "metadata": {},
          "execution_count": 14
        }
      ]
    },
    {
      "cell_type": "code",
      "source": [
        "fig, ax = plt.subplots()\n",
        "\n",
        "ax.plot(train['meantemp'], 'g-.' , label = 'train')\n",
        "ax.plot(test['meantemp'], 'b-', label = 'test')\n",
        "ax.plot(test['pred_base'], 'r--',label = 'predicted')\n",
        "ax.axvspan(91, 113, color='#808080', alpha=0.2)   # give different color to predicted area\n",
        "ax.set_xlabel('date')\n",
        "ax.set_ylabel('temp')\n",
        "ax.legend(loc=2)\n",
        "#fig.automft_xdate()  # fit xtick value automatically\n",
        "plt.tight_layout()"
      ],
      "metadata": {
        "colab": {
          "base_uri": "https://localhost:8080/",
          "height": 297
        },
        "id": "e9cs1ZXy1QpP",
        "outputId": "3842ba22-90cb-45c3-8e79-ac29713ddd21"
      },
      "execution_count": 15,
      "outputs": [
        {
          "output_type": "display_data",
          "data": {
            "text/plain": [
              "<Figure size 432x288 with 1 Axes>"
            ],
            "image/png": "[encoded data removed]"
          },
          "metadata": {
            "needs_background": "light"
          }
        }
      ]
    },
    {
      "cell_type": "code",
      "source": [
        "test.tail()"
      ],
      "metadata": {
        "colab": {
          "base_uri": "https://localhost:8080/",
          "height": 206
        },
        "id": "FR9W66Y-1wQb",
        "outputId": "4b75637f-ead9-4b5f-8eb4-662018d44524"
      },
      "execution_count": 16,
      "outputs": [
        {
          "output_type": "execute_result",
          "data": {
            "text/plain": [
              "          date  meantemp  pred_base\n",
              "109 2017-04-20    34.500  29.888889\n",
              "110 2017-04-21    34.250  31.000000\n",
              "111 2017-04-22    32.900  29.285714\n",
              "112 2017-04-23    32.875  30.625000\n",
              "113 2017-04-24    32.000  31.375000"
            ],
            "text/html": [
              "\n",
              "  <div id=\"df-723c5f53-368d-4064-9053-7acc672a6970\">\n",
              "    <div class=\"colab-df-container\">\n",
              "      <div>\n",
              "<style scoped>\n",
              "    .dataframe tbody tr th:only-of-type {\n",
              "        vertical-align: middle;\n",
              "    }\n",
              "\n",
              "    .dataframe tbody tr th {\n",
              "        vertical-align: top;\n",
              "    }\n",
              "\n",
              "    .dataframe thead th {\n",
              "        text-align: right;\n",
              "    }\n",
              "</style>\n",
              "<table border=\"1\" class=\"dataframe\">\n",
              "  <thead>\n",
              "    <tr style=\"text-align: right;\">\n",
              "      <th></th>\n",
              "      <th>date</th>\n",
              "      <th>meantemp</th>\n",
              "      <th>pred_base</th>\n",
              "    </tr>\n",
              "  </thead>\n",
              "  <tbody>\n",
              "    <tr>\n",
              "      <th>109</th>\n",
              "      <td>2017-04-20</td>\n",
              "      <td>34.500</td>\n",
              "      <td>29.888889</td>\n",
              "    </tr>\n",
              "    <tr>\n",
              "      <th>110</th>\n",
              "      <td>2017-04-21</td>\n",
              "      <td>34.250</td>\n",
              "      <td>31.000000</td>\n",
              "    </tr>\n",
              "    <tr>\n",
              "      <th>111</th>\n",
              "      <td>2017-04-22</td>\n",
              "      <td>32.900</td>\n",
              "      <td>29.285714</td>\n",
              "    </tr>\n",
              "    <tr>\n",
              "      <th>112</th>\n",
              "      <td>2017-04-23</td>\n",
              "      <td>32.875</td>\n",
              "      <td>30.625000</td>\n",
              "    </tr>\n",
              "    <tr>\n",
              "      <th>113</th>\n",
              "      <td>2017-04-24</td>\n",
              "      <td>32.000</td>\n",
              "      <td>31.375000</td>\n",
              "    </tr>\n",
              "  </tbody>\n",
              "</table>\n",
              "</div>\n",
              "      <button class=\"colab-df-convert\" onclick=\"convertToInteractive('df-723c5f53-368d-4064-9053-7acc672a6970')\"\n",
              "              title=\"Convert this dataframe to an interactive table.\"\n",
              "              style=\"display:none;\">\n",
              "        \n",
              "  <svg xmlns=\"http://www.w3.org/2000/svg\" height=\"24px\"viewBox=\"0 0 24 24\"\n",
              "       width=\"24px\">\n",
              "    <path d=\"M0 0h24v24H0V0z\" fill=\"none\"/>\n",
              "    <path d=\"M18.56 5.44l.94 2.06.94-2.06 2.06-.94-2.06-.94-.94-2.06-.94 2.06-2.06.94zm-11 1L8.5 8.5l.94-2.06 2.06-.94-2.06-.94L8.5 2.5l-.94 2.06-2.06.94zm10 10l.94 2.06.94-2.06 2.06-.94-2.06-.94-.94-2.06-.94 2.06-2.06.94z\"/><path d=\"M17.41 7.96l-1.37-1.37c-.4-.4-.92-.59-1.43-.59-.52 0-1.04.2-1.43.59L10.3 9.45l-7.72 7.72c-.78.78-.78 2.05 0 2.83L4 21.41c.39.39.9.59 1.41.59.51 0 1.02-.2 1.41-.59l7.78-7.78 2.81-2.81c.8-.78.8-2.07 0-2.86zM5.41 20L4 18.59l7.72-7.72 1.47 1.35L5.41 20z\"/>\n",
              "  </svg>\n",
              "      </button>\n",
              "      \n",
              "  <style>\n",
              "    .colab-df-container {\n",
              "      display:flex;\n",
              "      flex-wrap:wrap;\n",
              "      gap: 12px;\n",
              "    }\n",
              "\n",
              "    .colab-df-convert {\n",
              "      background-color: #E8F0FE;\n",
              "      border: none;\n",
              "      border-radius: 50%;\n",
              "      cursor: pointer;\n",
              "      display: none;\n",
              "      fill: #1967D2;\n",
              "      height: 32px;\n",
              "      padding: 0 0 0 0;\n",
              "      width: 32px;\n",
              "    }\n",
              "\n",
              "    .colab-df-convert:hover {\n",
              "      background-color: #E2EBFA;\n",
              "      box-shadow: 0px 1px 2px rgba(60, 64, 67, 0.3), 0px 1px 3px 1px rgba(60, 64, 67, 0.15);\n",
              "      fill: #174EA6;\n",
              "    }\n",
              "\n",
              "    [theme=dark] .colab-df-convert {\n",
              "      background-color: #3B4455;\n",
              "      fill: #D2E3FC;\n",
              "    }\n",
              "\n",
              "    [theme=dark] .colab-df-convert:hover {\n",
              "      background-color: #434B5C;\n",
              "      box-shadow: 0px 1px 3px 1px rgba(0, 0, 0, 0.15);\n",
              "      filter: drop-shadow(0px 1px 2px rgba(0, 0, 0, 0.3));\n",
              "      fill: #FFFFFF;\n",
              "    }\n",
              "  </style>\n",
              "\n",
              "      <script>\n",
              "        const buttonEl =\n",
              "          document.querySelector('#df-723c5f53-368d-4064-9053-7acc672a6970 button.colab-df-convert');\n",
              "        buttonEl.style.display =\n",
              "          google.colab.kernel.accessAllowed ? 'block' : 'none';\n",
              "\n",
              "        async function convertToInteractive(key) {\n",
              "          const element = document.querySelector('#df-723c5f53-368d-4064-9053-7acc672a6970');\n",
              "          const dataTable =\n",
              "            await google.colab.kernel.invokeFunction('convertToInteractive',\n",
              "                                                     [key], {});\n",
              "          if (!dataTable) return;\n",
              "\n",
              "          const docLinkHtml = 'Like what you see? Visit the ' +\n",
              "            '<a target=\"_blank\" href=https://colab.research.google.com/notebooks/data_table.ipynb>data table notebook</a>'\n",
              "            + ' to learn more about interactive tables.';\n",
              "          element.innerHTML = '';\n",
              "          dataTable['output_type'] = 'display_data';\n",
              "          await google.colab.output.renderOutput(dataTable, element);\n",
              "          const docLink = document.createElement('div');\n",
              "          docLink.innerHTML = docLinkHtml;\n",
              "          element.appendChild(docLink);\n",
              "        }\n",
              "      </script>\n",
              "    </div>\n",
              "  </div>\n",
              "  "
            ]
          },
          "metadata": {},
          "execution_count": 16
        }
      ]
    },
    {
      "cell_type": "markdown",
      "source": [
        "## Statistical Time-Series"
      ],
      "metadata": {
        "id": "HXGLucS5rSom"
      }
    },
    {
      "cell_type": "markdown",
      "source": [
        "### MA (Moving Average)\n",
        " A moving average process, or the moving average model, states that the current value is linearly dependent on the current and past error terms. Again, the error terms are assumed to be mutually independent and normally distributed, just like white noise.  \n",
        "1) To apply MA model, series should stationary.  \n",
        "2) Order of moving average is determined by ACF plot, order is that value after which lag come under the critical value.  \n",
        "\n"
      ],
      "metadata": {
        "id": "xw-rBg6tb97_"
      }
    },
    {
      "cell_type": "markdown",
      "source": [
        "![1_I0d3JlJ3oQ05sucwZatK2Q.webp](data:image/webp;base64,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)"
      ],
      "metadata": {
        "id": "e12v89qsd3WY"
      }
    },
    {
      "cell_type": "markdown",
      "source": [
        "**Augmented Dicker Fuller Test(ADF)** for checking the stationarity of series.  \n",
        "\n",
        "Null hypothesis: Series is non Stationary  \n",
        "Alternative hypothesis: Series is Stationary\n"
      ],
      "metadata": {
        "id": "Dt3bCKNpeEgt"
      }
    },
    {
      "cell_type": "code",
      "source": [
        "adf_test = adfuller(df['meantemp'])\n",
        "\n",
        "print('{} is a statistic value'.format(adf_test[0]))\n",
        "print('{} is a p value'.format(adf_test[1]))"
      ],
      "metadata": {
        "colab": {
          "base_uri": "https://localhost:8080/"
        },
        "id": "2Ev-CBj7d6dw",
        "outputId": "9331de8e-daf7-421b-e6fd-291622a6e676"
      },
      "execution_count": 17,
      "outputs": [
        {
          "output_type": "stream",
          "name": "stdout",
          "text": [
            "-1.096474275875619 is a statistic value\n",
            "0.7164758731775932 is a p value\n"
          ]
        }
      ]
    },
    {
      "cell_type": "markdown",
      "source": [
        "**Inference**: As p_value of test is greater than 0.05(alpa value) therefore we are fail to reject the null hypohtesis and conclude that sereis is not stationary and trend is present in sereis."
      ],
      "metadata": {
        "id": "eMijwJG1iW79"
      }
    },
    {
      "cell_type": "code",
      "source": [
        "## remove the trend by differcing  \n",
        "df['diff_temp'] = np.diff(df['meantemp'], n = 1,prepend = df['meantemp'][1])    # without prepend we get one value less as it value start from 2nd value -1 value of column\n",
        "\n",
        "# again adf test\n",
        "adf_test = adfuller(df['diff_temp'])\n",
        "\n",
        "\n",
        "print('{} is a statistic value'.format(adf_test[0]))\n",
        "print('{} is a p value'.format(adf_test[1]))\n",
        "## as p value is less than 0.05 therefore we reject the null  hypothesis"
      ],
      "metadata": {
        "colab": {
          "base_uri": "https://localhost:8080/"
        },
        "id": "Ocfq63IYieLc",
        "outputId": "fd3bbe78-42dc-479c-c5c2-b6e50d56804f"
      },
      "execution_count": 18,
      "outputs": [
        {
          "output_type": "stream",
          "name": "stdout",
          "text": [
            "-12.334379916007231 is a statistic value\n",
            "6.32139424982012e-23 is a p value\n"
          ]
        }
      ]
    },
    {
      "cell_type": "markdown",
      "source": [
        "####  ACF(Autocorrelation Function) Plot  \n",
        "Correlation between time series with a lagged version of itself. The correlation between the observation at the current time spot and the observations at previous time spots.The autocorrelation function starts a lag 0, which is the correlation of the time series with itself and therefore results in a correlation of 1.\n"
      ],
      "metadata": {
        "id": "ZFPm55vxkW-j"
      }
    },
    {
      "cell_type": "code",
      "source": [
        "plt.rc(\"figure\", figsize=(12,6))\n",
        "adf_plot = plot_acf(df['diff_temp'], lags = 15)\n",
        "adf_plot.show();"
      ],
      "metadata": {
        "colab": {
          "base_uri": "https://localhost:8080/",
          "height": 390
        },
        "id": "CFySy1YylUIE",
        "outputId": "c47cff6b-4d2e-49b6-b66e-5cf0b9fab30a"
      },
      "execution_count": 19,
      "outputs": [
        {
          "output_type": "display_data",
          "data": {
            "text/plain": [
              "<Figure size 864x432 with 1 Axes>"
            ],
            "image/png": "[encoded data removed]"
          },
          "metadata": {
            "needs_background": "light"
          }
        }
      ]
    },
    {
      "cell_type": "code",
      "source": [
        "# plot of non stationary\n",
        "plt.rc(\"figure\", figsize=(12,6))\n",
        "adf_plot = plot_acf(df['meantemp'], lags = 15)\n",
        "adf_plot.show();"
      ],
      "metadata": {
        "colab": {
          "base_uri": "https://localhost:8080/",
          "height": 390
        },
        "id": "S1UdBZM6j6D4",
        "outputId": "2b223243-f086-4d5a-fe2f-b3901da03d97"
      },
      "execution_count": 20,
      "outputs": [
        {
          "output_type": "display_data",
          "data": {
            "text/plain": [
              "<Figure size 864x432 with 1 Axes>"
            ],
            "image/png": "[encoded data removed]"
          },
          "metadata": {
            "needs_background": "light"
          }
        }
      ]
    },
    {
      "cell_type": "markdown",
      "source": [
        "**Inference**: we can clearly see the difference between acf plot of stationary  and  non stationary series.  \n",
        "\n",
        "As in stationary plot all lag fall under critical value therefore this is case random walk  \n",
        "but for practice we will take lag value 2  \n",
        "order 2 means to  predict current value we take consideration of last two error  value: yt = mean + et + q1et-1 + q2et-2"
      ],
      "metadata": {
        "id": "4Kbs8BZDmIdl"
      }
    },
    {
      "cell_type": "markdown",
      "source": [
        "#### AR Model \n",
        "To develop the MA model  we take  ARMA or ARIMA by giving other variable order as 0"
      ],
      "metadata": {
        "id": "Xn9PP1SVGlj8"
      }
    },
    {
      "cell_type": "code",
      "source": [
        "df.head()"
      ],
      "metadata": {
        "colab": {
          "base_uri": "https://localhost:8080/",
          "height": 206
        },
        "id": "lmUdFR5TIpe7",
        "outputId": "728ea404-2005-46a7-d3bf-b5ac8a98c282"
      },
      "execution_count": 21,
      "outputs": [
        {
          "output_type": "execute_result",
          "data": {
            "text/plain": [
              "        date   meantemp  diff_temp\n",
              "0 2017-01-01  15.913043  -2.586957\n",
              "1 2017-01-02  18.500000   2.586957\n",
              "2 2017-01-03  17.111111  -1.388889\n",
              "3 2017-01-04  18.700000   1.588889\n",
              "4 2017-01-05  18.388889  -0.311111"
            ],
            "text/html": [
              "\n",
              "  <div id=\"df-b99efd11-a340-403c-b9d6-2b5cbcfac0c9\">\n",
              "    <div class=\"colab-df-container\">\n",
              "      <div>\n",
              "<style scoped>\n",
              "    .dataframe tbody tr th:only-of-type {\n",
              "        vertical-align: middle;\n",
              "    }\n",
              "\n",
              "    .dataframe tbody tr th {\n",
              "        vertical-align: top;\n",
              "    }\n",
              "\n",
              "    .dataframe thead th {\n",
              "        text-align: right;\n",
              "    }\n",
              "</style>\n",
              "<table border=\"1\" class=\"dataframe\">\n",
              "  <thead>\n",
              "    <tr style=\"text-align: right;\">\n",
              "      <th></th>\n",
              "      <th>date</th>\n",
              "      <th>meantemp</th>\n",
              "      <th>diff_temp</th>\n",
              "    </tr>\n",
              "  </thead>\n",
              "  <tbody>\n",
              "    <tr>\n",
              "      <th>0</th>\n",
              "      <td>2017-01-01</td>\n",
              "      <td>15.913043</td>\n",
              "      <td>-2.586957</td>\n",
              "    </tr>\n",
              "    <tr>\n",
              "      <th>1</th>\n",
              "      <td>2017-01-02</td>\n",
              "      <td>18.500000</td>\n",
              "      <td>2.586957</td>\n",
              "    </tr>\n",
              "    <tr>\n",
              "      <th>2</th>\n",
              "      <td>2017-01-03</td>\n",
              "      <td>17.111111</td>\n",
              "      <td>-1.388889</td>\n",
              "    </tr>\n",
              "    <tr>\n",
              "      <th>3</th>\n",
              "      <td>2017-01-04</td>\n",
              "      <td>18.700000</td>\n",
              "      <td>1.588889</td>\n",
              "    </tr>\n",
              "    <tr>\n",
              "      <th>4</th>\n",
              "      <td>2017-01-05</td>\n",
              "      <td>18.388889</td>\n",
              "      <td>-0.311111</td>\n",
              "    </tr>\n",
              "  </tbody>\n",
              "</table>\n",
              "</div>\n",
              "      <button class=\"colab-df-convert\" onclick=\"convertToInteractive('df-b99efd11-a340-403c-b9d6-2b5cbcfac0c9')\"\n",
              "              title=\"Convert this dataframe to an interactive table.\"\n",
              "              style=\"display:none;\">\n",
              "        \n",
              "  <svg xmlns=\"http://www.w3.org/2000/svg\" height=\"24px\"viewBox=\"0 0 24 24\"\n",
              "       width=\"24px\">\n",
              "    <path d=\"M0 0h24v24H0V0z\" fill=\"none\"/>\n",
              "    <path d=\"M18.56 5.44l.94 2.06.94-2.06 2.06-.94-2.06-.94-.94-2.06-.94 2.06-2.06.94zm-11 1L8.5 8.5l.94-2.06 2.06-.94-2.06-.94L8.5 2.5l-.94 2.06-2.06.94zm10 10l.94 2.06.94-2.06 2.06-.94-2.06-.94-.94-2.06-.94 2.06-2.06.94z\"/><path d=\"M17.41 7.96l-1.37-1.37c-.4-.4-.92-.59-1.43-.59-.52 0-1.04.2-1.43.59L10.3 9.45l-7.72 7.72c-.78.78-.78 2.05 0 2.83L4 21.41c.39.39.9.59 1.41.59.51 0 1.02-.2 1.41-.59l7.78-7.78 2.81-2.81c.8-.78.8-2.07 0-2.86zM5.41 20L4 18.59l7.72-7.72 1.47 1.35L5.41 20z\"/>\n",
              "  </svg>\n",
              "      </button>\n",
              "      \n",
              "  <style>\n",
              "    .colab-df-container {\n",
              "      display:flex;\n",
              "      flex-wrap:wrap;\n",
              "      gap: 12px;\n",
              "    }\n",
              "\n",
              "    .colab-df-convert {\n",
              "      background-color: #E8F0FE;\n",
              "      border: none;\n",
              "      border-radius: 50%;\n",
              "      cursor: pointer;\n",
              "      display: none;\n",
              "      fill: #1967D2;\n",
              "      height: 32px;\n",
              "      padding: 0 0 0 0;\n",
              "      width: 32px;\n",
              "    }\n",
              "\n",
              "    .colab-df-convert:hover {\n",
              "      background-color: #E2EBFA;\n",
              "      box-shadow: 0px 1px 2px rgba(60, 64, 67, 0.3), 0px 1px 3px 1px rgba(60, 64, 67, 0.15);\n",
              "      fill: #174EA6;\n",
              "    }\n",
              "\n",
              "    [theme=dark] .colab-df-convert {\n",
              "      background-color: #3B4455;\n",
              "      fill: #D2E3FC;\n",
              "    }\n",
              "\n",
              "    [theme=dark] .colab-df-convert:hover {\n",
              "      background-color: #434B5C;\n",
              "      box-shadow: 0px 1px 3px 1px rgba(0, 0, 0, 0.15);\n",
              "      filter: drop-shadow(0px 1px 2px rgba(0, 0, 0, 0.3));\n",
              "      fill: #FFFFFF;\n",
              "    }\n",
              "  </style>\n",
              "\n",
              "      <script>\n",
              "        const buttonEl =\n",
              "          document.querySelector('#df-b99efd11-a340-403c-b9d6-2b5cbcfac0c9 button.colab-df-convert');\n",
              "        buttonEl.style.display =\n",
              "          google.colab.kernel.accessAllowed ? 'block' : 'none';\n",
              "\n",
              "        async function convertToInteractive(key) {\n",
              "          const element = document.querySelector('#df-b99efd11-a340-403c-b9d6-2b5cbcfac0c9');\n",
              "          const dataTable =\n",
              "            await google.colab.kernel.invokeFunction('convertToInteractive',\n",
              "                                                     [key], {});\n",
              "          if (!dataTable) return;\n",
              "\n",
              "          const docLinkHtml = 'Like what you see? Visit the ' +\n",
              "            '<a target=\"_blank\" href=https://colab.research.google.com/notebooks/data_table.ipynb>data table notebook</a>'\n",
              "            + ' to learn more about interactive tables.';\n",
              "          element.innerHTML = '';\n",
              "          dataTable['output_type'] = 'display_data';\n",
              "          await google.colab.output.renderOutput(dataTable, element);\n",
              "          const docLink = document.createElement('div');\n",
              "          docLink.innerHTML = docLinkHtml;\n",
              "          element.appendChild(docLink);\n",
              "        }\n",
              "      </script>\n",
              "    </div>\n",
              "  </div>\n",
              "  "
            ]
          },
          "metadata": {},
          "execution_count": 21
        }
      ]
    },
    {
      "cell_type": "code",
      "source": [
        "## we will take 80-20 train test \n",
        "\n",
        "train_ma = df.iloc[:int(df.shape[0]*0.80),]    # earlier train, test dont have diff variable  train, test\n",
        "test_ma = df.iloc[int(df.shape[0]*0.80):,]"
      ],
      "metadata": {
        "id": "Fw0YNH_SIokk"
      },
      "execution_count": 22,
      "outputs": []
    },
    {
      "cell_type": "code",
      "source": [
        "from statsmodels.tsa.arima_model import ARMA\n",
        "from statsmodels.tsa.statespace.sarimax import SARIMAX\n",
        "\n",
        "ma_model = SARIMAX(train_ma['diff_temp'], order=(0,0,2), simple_differencing=False).fit(disp=False)  # order is p,d,q\n",
        "\n",
        "#ar_model = ARMA(endog = train_ma['diff_temp'], order = (0,2)).fit()\n",
        "print(ma_model.summary()) "
      ],
      "metadata": {
        "colab": {
          "base_uri": "https://localhost:8080/"
        },
        "id": "wgbPJd0omyqQ",
        "outputId": "4d1ba678-ec52-4b24-e1b9-8fd96fd6a6b0"
      },
      "execution_count": 33,
      "outputs": [
        {
          "output_type": "stream",
          "name": "stdout",
          "text": [
            "                               SARIMAX Results                                \n",
            "==============================================================================\n",
            "Dep. Variable:              diff_temp   No. Observations:                   91\n",
            "Model:               SARIMAX(0, 0, 2)   Log Likelihood                -180.194\n",
            "Date:                Sat, 24 Dec 2022   AIC                            366.387\n",
            "Time:                        14:20:13   BIC                            373.920\n",
            "Sample:                             0   HQIC                           369.426\n",
            "                                 - 91                                         \n",
            "Covariance Type:                  opg                                         \n",
            "==============================================================================\n",
            "                 coef    std err          z      P>|z|      [0.025      0.975]\n",
            "------------------------------------------------------------------------------\n",
            "ma.L1         -0.1329      0.110     -1.209      0.227      -0.348       0.083\n",
            "ma.L2          0.0289      0.111      0.259      0.795      -0.190       0.247\n",
            "sigma2         3.0717      0.456      6.737      0.000       2.178       3.965\n",
            "===================================================================================\n",
            "Ljung-Box (L1) (Q):                   0.01   Jarque-Bera (JB):                 1.02\n",
            "Prob(Q):                              0.93   Prob(JB):                         0.60\n",
            "Heteroskedasticity (H):               0.86   Skew:                            -0.25\n",
            "Prob(H) (two-sided):                  0.67   Kurtosis:                         3.11\n",
            "===================================================================================\n",
            "\n",
            "Warnings:\n",
            "[1] Covariance matrix calculated using the outer product of gradients (complex-step).\n"
          ]
        }
      ]
    },
    {
      "cell_type": "markdown",
      "source": [
        "Inference: The two parameter are q1 and q2, number of lag is  equal to number of parameter and there is constant.  \n",
        "\n",
        "Equation: yt = 0.14 -0.143et-1 + 0.015et-2"
      ],
      "metadata": {
        "id": "PAV6Xp_eJqkj"
      }
    },
    {
      "cell_type": "code",
      "source": [
        "## prediction\n",
        "## again back to orgianl value\n",
        "## plot"
      ],
      "metadata": {
        "id": "iuh-YfK6Kgmu"
      },
      "execution_count": 24,
      "outputs": []
    },
    {
      "cell_type": "code",
      "source": [
        "ma = pd.DataFrame(ma_model.forecast(23))  # forecaast 23 value\n",
        "#ma\n",
        "ma.columns = ['ma_pred']\n",
        "ma"
      ],
      "metadata": {
        "id": "bY_oEj_0bQzY"
      },
      "execution_count": null,
      "outputs": []
    },
    {
      "cell_type": "code",
      "source": [
        "ma.head()"
      ],
      "metadata": {
        "colab": {
          "base_uri": "https://localhost:8080/",
          "height": 206
        },
        "id": "RkkNnMARhdXa",
        "outputId": "3ad2c416-0a86-427c-e3de-1f8ad4341156"
      },
      "execution_count": 42,
      "outputs": [
        {
          "output_type": "execute_result",
          "data": {
            "text/plain": [
              "     ma_pred\n",
              "91 -0.093377\n",
              "92  0.027213\n",
              "93  0.000000\n",
              "94  0.000000\n",
              "95  0.000000"
            ],
            "text/html": [
              "\n",
              "  <div id=\"df-ccdf8258-e23d-4e3c-b3f7-82877c792c2b\">\n",
              "    <div class=\"colab-df-container\">\n",
              "      <div>\n",
              "<style scoped>\n",
              "    .dataframe tbody tr th:only-of-type {\n",
              "        vertical-align: middle;\n",
              "    }\n",
              "\n",
              "    .dataframe tbody tr th {\n",
              "        vertical-align: top;\n",
              "    }\n",
              "\n",
              "    .dataframe thead th {\n",
              "        text-align: right;\n",
              "    }\n",
              "</style>\n",
              "<table border=\"1\" class=\"dataframe\">\n",
              "  <thead>\n",
              "    <tr style=\"text-align: right;\">\n",
              "      <th></th>\n",
              "      <th>ma_pred</th>\n",
              "    </tr>\n",
              "  </thead>\n",
              "  <tbody>\n",
              "    <tr>\n",
              "      <th>91</th>\n",
              "      <td>-0.093377</td>\n",
              "    </tr>\n",
              "    <tr>\n",
              "      <th>92</th>\n",
              "      <td>0.027213</td>\n",
              "    </tr>\n",
              "    <tr>\n",
              "      <th>93</th>\n",
              "      <td>0.000000</td>\n",
              "    </tr>\n",
              "    <tr>\n",
              "      <th>94</th>\n",
              "      <td>0.000000</td>\n",
              "    </tr>\n",
              "    <tr>\n",
              "      <th>95</th>\n",
              "      <td>0.000000</td>\n",
              "    </tr>\n",
              "  </tbody>\n",
              "</table>\n",
              "</div>\n",
              "      <button class=\"colab-df-convert\" onclick=\"convertToInteractive('df-ccdf8258-e23d-4e3c-b3f7-82877c792c2b')\"\n",
              "              title=\"Convert this dataframe to an interactive table.\"\n",
              "              style=\"display:none;\">\n",
              "        \n",
              "  <svg xmlns=\"http://www.w3.org/2000/svg\" height=\"24px\"viewBox=\"0 0 24 24\"\n",
              "       width=\"24px\">\n",
              "    <path d=\"M0 0h24v24H0V0z\" fill=\"none\"/>\n",
              "    <path d=\"M18.56 5.44l.94 2.06.94-2.06 2.06-.94-2.06-.94-.94-2.06-.94 2.06-2.06.94zm-11 1L8.5 8.5l.94-2.06 2.06-.94-2.06-.94L8.5 2.5l-.94 2.06-2.06.94zm10 10l.94 2.06.94-2.06 2.06-.94-2.06-.94-.94-2.06-.94 2.06-2.06.94z\"/><path d=\"M17.41 7.96l-1.37-1.37c-.4-.4-.92-.59-1.43-.59-.52 0-1.04.2-1.43.59L10.3 9.45l-7.72 7.72c-.78.78-.78 2.05 0 2.83L4 21.41c.39.39.9.59 1.41.59.51 0 1.02-.2 1.41-.59l7.78-7.78 2.81-2.81c.8-.78.8-2.07 0-2.86zM5.41 20L4 18.59l7.72-7.72 1.47 1.35L5.41 20z\"/>\n",
              "  </svg>\n",
              "      </button>\n",
              "      \n",
              "  <style>\n",
              "    .colab-df-container {\n",
              "      display:flex;\n",
              "      flex-wrap:wrap;\n",
              "      gap: 12px;\n",
              "    }\n",
              "\n",
              "    .colab-df-convert {\n",
              "      background-color: #E8F0FE;\n",
              "      border: none;\n",
              "      border-radius: 50%;\n",
              "      cursor: pointer;\n",
              "      display: none;\n",
              "      fill: #1967D2;\n",
              "      height: 32px;\n",
              "      padding: 0 0 0 0;\n",
              "      width: 32px;\n",
              "    }\n",
              "\n",
              "    .colab-df-convert:hover {\n",
              "      background-color: #E2EBFA;\n",
              "      box-shadow: 0px 1px 2px rgba(60, 64, 67, 0.3), 0px 1px 3px 1px rgba(60, 64, 67, 0.15);\n",
              "      fill: #174EA6;\n",
              "    }\n",
              "\n",
              "    [theme=dark] .colab-df-convert {\n",
              "      background-color: #3B4455;\n",
              "      fill: #D2E3FC;\n",
              "    }\n",
              "\n",
              "    [theme=dark] .colab-df-convert:hover {\n",
              "      background-color: #434B5C;\n",
              "      box-shadow: 0px 1px 3px 1px rgba(0, 0, 0, 0.15);\n",
              "      filter: drop-shadow(0px 1px 2px rgba(0, 0, 0, 0.3));\n",
              "      fill: #FFFFFF;\n",
              "    }\n",
              "  </style>\n",
              "\n",
              "      <script>\n",
              "        const buttonEl =\n",
              "          document.querySelector('#df-ccdf8258-e23d-4e3c-b3f7-82877c792c2b button.colab-df-convert');\n",
              "        buttonEl.style.display =\n",
              "          google.colab.kernel.accessAllowed ? 'block' : 'none';\n",
              "\n",
              "        async function convertToInteractive(key) {\n",
              "          const element = document.querySelector('#df-ccdf8258-e23d-4e3c-b3f7-82877c792c2b');\n",
              "          const dataTable =\n",
              "            await google.colab.kernel.invokeFunction('convertToInteractive',\n",
              "                                                     [key], {});\n",
              "          if (!dataTable) return;\n",
              "\n",
              "          const docLinkHtml = 'Like what you see? Visit the ' +\n",
              "            '<a target=\"_blank\" href=https://colab.research.google.com/notebooks/data_table.ipynb>data table notebook</a>'\n",
              "            + ' to learn more about interactive tables.';\n",
              "          element.innerHTML = '';\n",
              "          dataTable['output_type'] = 'display_data';\n",
              "          await google.colab.output.renderOutput(dataTable, element);\n",
              "          const docLink = document.createElement('div');\n",
              "          docLink.innerHTML = docLinkHtml;\n",
              "          element.appendChild(docLink);\n",
              "        }\n",
              "      </script>\n",
              "    </div>\n",
              "  </div>\n",
              "  "
            ]
          },
          "metadata": {},
          "execution_count": 42
        }
      ]
    },
    {
      "cell_type": "code",
      "source": [
        "test_ma = test_ma.join(ma['ma_pred'])              # prediction  is on scale on differcing so we compare to diff_temp"
      ],
      "metadata": {
        "id": "EniEQcBAbs_2"
      },
      "execution_count": 45,
      "outputs": []
    },
    {
      "cell_type": "code",
      "source": [
        "test_ma.head()"
      ],
      "metadata": {
        "colab": {
          "base_uri": "https://localhost:8080/",
          "height": 206
        },
        "id": "CtKLJkPIgsby",
        "outputId": "57182b30-8403-46ca-9ed7-1b4c9bcdceea"
      },
      "execution_count": 46,
      "outputs": [
        {
          "output_type": "execute_result",
          "data": {
            "text/plain": [
              "         date   meantemp  diff_temp   ma_pred\n",
              "91 2017-04-02  29.750000  -1.625000 -0.093377\n",
              "92 2017-04-03  30.500000   0.750000  0.027213\n",
              "93 2017-04-04  30.933333   0.433333  0.000000\n",
              "94 2017-04-05  29.230769  -1.702564  0.000000\n",
              "95 2017-04-06  31.222222   1.991453  0.000000"
            ],
            "text/html": [
              "\n",
              "  <div id=\"df-b708670e-c63b-47f5-ac47-c6a5335ae210\">\n",
              "    <div class=\"colab-df-container\">\n",
              "      <div>\n",
              "<style scoped>\n",
              "    .dataframe tbody tr th:only-of-type {\n",
              "        vertical-align: middle;\n",
              "    }\n",
              "\n",
              "    .dataframe tbody tr th {\n",
              "        vertical-align: top;\n",
              "    }\n",
              "\n",
              "    .dataframe thead th {\n",
              "        text-align: right;\n",
              "    }\n",
              "</style>\n",
              "<table border=\"1\" class=\"dataframe\">\n",
              "  <thead>\n",
              "    <tr style=\"text-align: right;\">\n",
              "      <th></th>\n",
              "      <th>date</th>\n",
              "      <th>meantemp</th>\n",
              "      <th>diff_temp</th>\n",
              "      <th>ma_pred</th>\n",
              "    </tr>\n",
              "  </thead>\n",
              "  <tbody>\n",
              "    <tr>\n",
              "      <th>91</th>\n",
              "      <td>2017-04-02</td>\n",
              "      <td>29.750000</td>\n",
              "      <td>-1.625000</td>\n",
              "      <td>-0.093377</td>\n",
              "    </tr>\n",
              "    <tr>\n",
              "      <th>92</th>\n",
              "      <td>2017-04-03</td>\n",
              "      <td>30.500000</td>\n",
              "      <td>0.750000</td>\n",
              "      <td>0.027213</td>\n",
              "    </tr>\n",
              "    <tr>\n",
              "      <th>93</th>\n",
              "      <td>2017-04-04</td>\n",
              "      <td>30.933333</td>\n",
              "      <td>0.433333</td>\n",
              "      <td>0.000000</td>\n",
              "    </tr>\n",
              "    <tr>\n",
              "      <th>94</th>\n",
              "      <td>2017-04-05</td>\n",
              "      <td>29.230769</td>\n",
              "      <td>-1.702564</td>\n",
              "      <td>0.000000</td>\n",
              "    </tr>\n",
              "    <tr>\n",
              "      <th>95</th>\n",
              "      <td>2017-04-06</td>\n",
              "      <td>31.222222</td>\n",
              "      <td>1.991453</td>\n",
              "      <td>0.000000</td>\n",
              "    </tr>\n",
              "  </tbody>\n",
              "</table>\n",
              "</div>\n",
              "      <button class=\"colab-df-convert\" onclick=\"convertToInteractive('df-b708670e-c63b-47f5-ac47-c6a5335ae210')\"\n",
              "              title=\"Convert this dataframe to an interactive table.\"\n",
              "              style=\"display:none;\">\n",
              "        \n",
              "  <svg xmlns=\"http://www.w3.org/2000/svg\" height=\"24px\"viewBox=\"0 0 24 24\"\n",
              "       width=\"24px\">\n",
              "    <path d=\"M0 0h24v24H0V0z\" fill=\"none\"/>\n",
              "    <path d=\"M18.56 5.44l.94 2.06.94-2.06 2.06-.94-2.06-.94-.94-2.06-.94 2.06-2.06.94zm-11 1L8.5 8.5l.94-2.06 2.06-.94-2.06-.94L8.5 2.5l-.94 2.06-2.06.94zm10 10l.94 2.06.94-2.06 2.06-.94-2.06-.94-.94-2.06-.94 2.06-2.06.94z\"/><path d=\"M17.41 7.96l-1.37-1.37c-.4-.4-.92-.59-1.43-.59-.52 0-1.04.2-1.43.59L10.3 9.45l-7.72 7.72c-.78.78-.78 2.05 0 2.83L4 21.41c.39.39.9.59 1.41.59.51 0 1.02-.2 1.41-.59l7.78-7.78 2.81-2.81c.8-.78.8-2.07 0-2.86zM5.41 20L4 18.59l7.72-7.72 1.47 1.35L5.41 20z\"/>\n",
              "  </svg>\n",
              "      </button>\n",
              "      \n",
              "  <style>\n",
              "    .colab-df-container {\n",
              "      display:flex;\n",
              "      flex-wrap:wrap;\n",
              "      gap: 12px;\n",
              "    }\n",
              "\n",
              "    .colab-df-convert {\n",
              "      background-color: #E8F0FE;\n",
              "      border: none;\n",
              "      border-radius: 50%;\n",
              "      cursor: pointer;\n",
              "      display: none;\n",
              "      fill: #1967D2;\n",
              "      height: 32px;\n",
              "      padding: 0 0 0 0;\n",
              "      width: 32px;\n",
              "    }\n",
              "\n",
              "    .colab-df-convert:hover {\n",
              "      background-color: #E2EBFA;\n",
              "      box-shadow: 0px 1px 2px rgba(60, 64, 67, 0.3), 0px 1px 3px 1px rgba(60, 64, 67, 0.15);\n",
              "      fill: #174EA6;\n",
              "    }\n",
              "\n",
              "    [theme=dark] .colab-df-convert {\n",
              "      background-color: #3B4455;\n",
              "      fill: #D2E3FC;\n",
              "    }\n",
              "\n",
              "    [theme=dark] .colab-df-convert:hover {\n",
              "      background-color: #434B5C;\n",
              "      box-shadow: 0px 1px 3px 1px rgba(0, 0, 0, 0.15);\n",
              "      filter: drop-shadow(0px 1px 2px rgba(0, 0, 0, 0.3));\n",
              "      fill: #FFFFFF;\n",
              "    }\n",
              "  </style>\n",
              "\n",
              "      <script>\n",
              "        const buttonEl =\n",
              "          document.querySelector('#df-b708670e-c63b-47f5-ac47-c6a5335ae210 button.colab-df-convert');\n",
              "        buttonEl.style.display =\n",
              "          google.colab.kernel.accessAllowed ? 'block' : 'none';\n",
              "\n",
              "        async function convertToInteractive(key) {\n",
              "          const element = document.querySelector('#df-b708670e-c63b-47f5-ac47-c6a5335ae210');\n",
              "          const dataTable =\n",
              "            await google.colab.kernel.invokeFunction('convertToInteractive',\n",
              "                                                     [key], {});\n",
              "          if (!dataTable) return;\n",
              "\n",
              "          const docLinkHtml = 'Like what you see? Visit the ' +\n",
              "            '<a target=\"_blank\" href=https://colab.research.google.com/notebooks/data_table.ipynb>data table notebook</a>'\n",
              "            + ' to learn more about interactive tables.';\n",
              "          element.innerHTML = '';\n",
              "          dataTable['output_type'] = 'display_data';\n",
              "          await google.colab.output.renderOutput(dataTable, element);\n",
              "          const docLink = document.createElement('div');\n",
              "          docLink.innerHTML = docLinkHtml;\n",
              "          element.appendChild(docLink);\n",
              "        }\n",
              "      </script>\n",
              "    </div>\n",
              "  </div>\n",
              "  "
            ]
          },
          "metadata": {},
          "execution_count": 46
        }
      ]
    },
    {
      "cell_type": "code",
      "source": [
        "fig, ax = plt.subplots()\n",
        "#ax.plot(train['meantemp'], 'g-.' , label = 'train')\n",
        "ax.plot(test_ma['diff_temp'], 'b-', label = 'test')\n",
        "ax.plot(test_ma['ma_pred'], 'r--',label = 'ma predicted')\n",
        "ax.axvspan(91, 113, color='#808080', alpha=0.2)   # give different color to predicted area\n",
        "ax.set_xlabel('date')\n",
        "ax.set_ylabel('temp')\n",
        "ax.legend(loc=2)\n",
        "#fig.automft_xdate()  # fit xtick value automatically\n",
        "plt.tight_layout()"
      ],
      "metadata": {
        "colab": {
          "base_uri": "https://localhost:8080/",
          "height": 441
        },
        "id": "vxg-EcPkgmOz",
        "outputId": "13f722f3-84f2-441b-fe62-758a733d729a"
      },
      "execution_count": 49,
      "outputs": [
        {
          "output_type": "display_data",
          "data": {
            "text/plain": [
              "<Figure size 864x432 with 1 Axes>"
            ],
            "image/png": "[encoded data removed]"
          },
          "metadata": {
            "needs_background": "light"
          }
        }
      ]
    },
    {
      "cell_type": "code",
      "source": [
        "mape = MAPE(test_ma['diff_temp'], test_ma['ma_pred'])   # due to +,- unable to calculate the MAPE\n",
        "print(\"MAPE: \", mape) \n"
      ],
      "metadata": {
        "colab": {
          "base_uri": "https://localhost:8080/"
        },
        "id": "Xh5F6y8wifnQ",
        "outputId": "98047cdb-a41c-494d-f203-cbe39ff548a0"
      },
      "execution_count": 52,
      "outputs": [
        {
          "output_type": "stream",
          "name": "stdout",
          "text": [
            "MAPE:  99.57388083419431\n"
          ]
        }
      ]
    },
    {
      "cell_type": "code",
      "source": [
        "from sklearn.metrics import mean_squared_error\n",
        "MSE = mean_squared_error(test_ma['diff_temp'], test_ma['ma_pred'])\n",
        "RMSE = np.sqrt(MSE)\n",
        "\n",
        "print(\"Root Mean Square Error\", RMSE)"
      ],
      "metadata": {
        "colab": {
          "base_uri": "https://localhost:8080/"
        },
        "id": "5U82pMVbiqEf",
        "outputId": "681d3365-ac9d-46a0-a13e-1776896b815b"
      },
      "execution_count": 53,
      "outputs": [
        {
          "output_type": "stream",
          "name": "stdout",
          "text": [
            "Root Mean Square Error 1.3864407679088668\n"
          ]
        }
      ]
    },
    {
      "cell_type": "markdown",
      "source": [
        "### Auto Regression(AR): \n",
        "An autoregressive (AR) model predicts future behavior based on past behavior. It’s used for forecasting when there is some correlation between values in a time series and the values that precede and succeed them. You only use past data to model the behavior, hence the name autoregressive (the Greek prefix auto– means “self.” ). The process is basically a linear regression of the data in the current series against one or more past values in the same series. \n",
        "\n",
        "1) series should be stationary before applying AR  \n",
        "2) PACF is used to find the order(p)   \n",
        "3)Present value is linearly  dependent on past value"
      ],
      "metadata": {
        "id": "nSDZL8TcKs2G"
      }
    },
    {
      "cell_type": "markdown",
      "source": [
        "![images.png](data:image/png;base64,iVBORw0KGgoAAAANSUhEUgAAAlgAAABECAMAAABqM7snAAAAgVBMVEX///8AAADq6uo0NDSnp6eQkJCJiYn8/Pzh4eFiYmJTU1PS0tLy8vIPDw/IyMj09PR/f3/Dw8NoaGjY2NiWlpZ1dXVdXV0gICDl5eWKiopYWFjFxcUoKCitra2jo6O1tbU/Pz88PDycnJxvb28kJCSBgYFMTEwbGxsuLi5FRUUTExOv6zKAAAALUklEQVR4nO2c6bqquBKGLRRBQREZxBEV5/u/wJMBEMhAoLVd/Zy8P7rduiVF5UulqoJ7MNBoNBqNRqPRaDQajUaj0Wg0Gs0Psee/Hd/yjd8a0JdfO+6vs4t+O74P7m8N6MuvHffHseHHC296++34ffm54/44a/jt+C6MfmtAX37tuL8OLH47/gi83xrQl1877udYTuCIP3Vg+20DbMeRpOfH57fH96QOEPNzxylY8UtsAEnQjr4f0GOQ7HbJ93dCR+oAMT93HMFAVlj/zlASvADR2Fok/rGCBKb2t4uyJcBe8FESrMEPvjz+F4T17ziOIBGWhSZboVXj3+JJnC/f/Way8WufupsJh2Xt3pLJEFkBxzitviv0j7087S5wg9VC7KHRdFJaEm4mcR8RiITljaZ49BPEPu9jwhmPn1dfZtxv/I8LS8VxaMYm8WQS0VXu3SaTrI8NYmG5+/iIPprFh9Yr7B8A0/w1+s61fh3gMasI1loD3ILAjgCW1W8K/OMu4OGjbQqPdRfqPgkvpSXBQ7aniREIK13BOAngjNJ3EDonMe8AJn3tIFNS0V+U8GFhqTkOJ0coBwCbvj73tEEkLOuA/LLBqDQ9EoBH/jJtzqH7nHKI3zdmPYv5SyGsfpPvn+AOGwtZjZQcAEhW0xYgzl+G0Cth5QvrCoACVQYoBk0L//NI3+tkDNAnj/2ssJDjYiXHDciNFdMOcOljg0BY3g3gSX1mKCRg7h1muYf30LUKv5GJwjTqlYTnH+S0DfrfmUz5DiTNb+S9R/7pGO7dbKJwhbUgPrdgNiDaMYXfRrIYesV3hn3G/6iw1B03wAl+scYtSVSWY3Cs8NDAndr+cRkSlt2+iO+0/IYNNI65BgH7NX9ZatVdwQ4rfUUcgxaWOHexhmU8udVDYRsWHdSYAJxzA8rPQiq2PYzRf+eylW+tIL8fFJO7TU4+qI8c4DUcoPI9mePu7Y4bkBUzoa+cFglyyE1GCxsS+rK4goXjVadroVh/pvZ3DVhY18W0eXMaHRdMSlbqYknDmw0n/KcnyDbqTREKHdh1silhc8IibM/zbHJJBvZL//MorZtTa9WZMOOrpYgfchwJbyc6j1n3gGUyVhRZ9wFrrdO1/CKfiXKBKRNyFv2Vsay46Daf1zV95/4WJQcUC9fkxQbE1RsPVlj3XFh4yeFsyaBRft+sVGqY+byiL3XM8DLGAFHbo47YcX4Xx6ElPoQZUYBTJs/qhIwV6/yqIEsduKCpIEHB7pzpPYCddXM3xKCP4ERe7YoFG+d/m25yaF09JPFxnqvdJ8lFB5IHGXX4QokrffXMhVUI+0y374l0xv08e0/rxa4Ci0fDARe1ovJDjhuQaE9C2rTjmsQcqBW4g0Rf7PK4iapoCDyXoHgt70QtnnY9OMfNCNHaYbM/pF+SBfs0GUeZgOzYK7nDEN2AdZKUblIypkuQ5fNzKqZJloDYM7KfeI+O4b8kYBygxj913IBEnXDQY01W8BgrkLpfLxrDLqo9+YwoPOXY4V3HHMx8QnyJ79ji5pBvPRndY24tVfyT7OghybP7wFSFxgVWeBkENOnagjwWPciiWXerHCp8rio8d3Mcifbo1rxV3zUx4LQbcBDp3M4LSVX64kQfg9lxMUWDFGUpM9E1Wf/kAcOjNU0ALespw7WqAZe+TyEwwkIjkmewrlRQbbVVjOcvKZsOnfmcsDo6joS4o4VmtWNKVIURFjar8wGEg/OZA88OF2Ycdrmw0FIStphY/2yoZSl9f9lmJ1LtGFVKyqukGZ4ZYW3pFmLtyDRV2owWgr3eAe8nmWKWwrnE54TV0XGkQzJLXNqh6AkjLLQ7zTqfUro4Hexxmr3vtBVuaB92UzSR1u+P/Bc7f2jmlwGoPudpb5p5B09Y+cjYQcMiw0pIFTdlBIyEETlqWYozxZeI6hnqJ4X1qjmuPRChWwqiXgdRBZ8RFiqp7/UKIlBK47HvRNs465+IlAgGyee8aoLjDHmNGfcBw1NtcW6FK9WdAJOLMcKyacTKSGm4Li2fk3bChJkuYwXHYa1y8EVlRHhC1zKG9b4EKyz3fC721XNYpB17s3FXHRwnBFVwcXkkRt/pGDUYYSXcrdBuCejI9FpssO5qO8DrXaDYrf5xSKpwxm9bw0r/K7wGJq8eRUlqrfzxhPWhE/tzRlgTpjE5xZLySA66f58TzkmX1JsxS+QEtaiK4rqoAjbJQA6cqlPBCMu7lI3LTVlOj6G5qNQdJwZXpDVvhV3rQ0ZYqDwvZ+N9UHhsadHtG3aMFE8CUqBHOu7hphB4IyzeBzLPbra/rjxhoaDyqpqxkO0svkL16OA5HOEpXcCy9E1ChkZBu2nCAmBVzdwz4fgO8Z3Rcn6ClUYXvffums6gtXlQd5xSt9bd1Zu/Xu/a9g02f3lAmO+Ymbb1guza2rRxj64eSUWU3eKNyq/09jA0kRJj5oyDK6xtrb4l0yJOL1SENUhOYB5hdkbJW/MjjrDSmvzntV44D6PlQIyEERIWLSjj1LPlohSB49AVIw8/r8SMu6n1miJiu0j1d2Q3qlTubSXBvOwK5LEdP2UF8gMvqx733Nm0ZZASh6S+Z9WGCQ6onNDGFZZdP/K0pQfkSsIakOwj4q0B9/VqOj6oZ+5BW2RxoMVro/LenTIlNF6yA8s3fMeh3XdpoOsyk9vI3DNpZFk9TvNBwOYCDCkOWJULe4+2Y9RzPc91vvZTEFTr8+TBFVZW7wOm0gNVVWEdBGcFc/bccFJPVvdtR35hjwMUZfiOO1CfXJq6MRqPITxkWYRNF8S460Ex/mbLomjakX7tpwYO/2CeJyyn4UkzTy+s/ejNofCoorCsqSCsPJljinljdY1zndfHf69yr/OhYhf4jouo9jfNzGvZ6M0XIc0+VGwv5nhLE7BR10emsItaOh9Zo5Bc9HpkUoUxzHh1L09Yz0ZScCuejzqbb9aF4YrCSgQHz1e2RzOc1TOXwh4rrI7/DhUn5fShD1zHWbcLsenWmL9m+HWKUjJYV2wvRJFHWm6DXI7ZEqPT5iWf8scy+uPd+U+qcIRlNlMKebtRUVghvHi3Nl4xuro2nSYf33r2P/BVgO844057RI3OgLfa1ddEKt3llnTFLLvv5BNh6nbEkdyBZ30xWKveB2QtzAWPqNWERSYwbfZrXHkTXk1Ygp0w3lTvN39Yq7ExGNImvNf7rFwNvuMSauS8rOBHJEJsmhuOPLLsSFPFe3CXnAzreBFUmkneK2xcMfhatpDBivt+VVgBiutWyBz+buVTpyasgFdaWadawHZQdWSZ9WYnGUCyUxjf/n0y33Ep3dc35U64RMvGPjFVzk22A7k0Ax913wmTmWito4xwt4JXs8xku9gfwjPH/MpqXBFWCrPdi32ooKUo29aa5CL865pxcXKqa20PLzT+sZnRHCQdYKfvM2OqCBw3JooK30J6wGXH6Yu9ZLu4Q3J3B/8IqCOB8BQAN85hzIQzGx5p2Ln27M/cjyH0i/CNfwv3Cpm7RBv2diGK6IFvwsTvFzWeaHFhXnkRiB/6vp+Z8bdw20aCE1SAB7nEPzr27cESYt+vHPJauI8fs0ZO4exvRLpJ4Z76axh3fxTCQN88cNez5bouL5tyouzbP0CvsI+ixXURRYHcKD/KRAHdWdAr9JrXcJGzl4+fRpmodx1d6RVEwvsS3ulyjaJ9RRGe4LHhRSQ+hB4D8hwbyFUIosz5/T/woPk0idqxWwvPP/CPf2j+FIHsV0bKzB5aWJoao0/kdMlXDww0/0GSGEb9fy2R4/Ee9dD8P+Nmy2W8+KfbmBmjq3y5WaLRaDQajUaj0Wg0Go1Go9FoNBqNRqPRaDQajUaj0Wg0Go1Go9FoNB34H5bUlCjKgpHnAAAAAElFTkSuQmCC)"
      ],
      "metadata": {
        "id": "F2f0EbP2Ma84"
      }
    },
    {
      "cell_type": "markdown",
      "source": [
        "### PACF Partial autocorrelation\n",
        "Partial autocorrelation is a statistical measure that captures the correlation between two variables after controlling for the effects of other variables. For example, if we’re regressing a signal S at lag t (S_{t}) with the same signal at lags t-1, t-2 and t-3 (S_{t-1}, S_{t-2}, S_{t-3}), the partial correlation between S_{t} and S_{t-3} is the amount of correlation between S_{t} and S_{t-3} that isn’t explained by their mutual correlations with S_{t-1} and S_{t-2}."
      ],
      "metadata": {
        "id": "0gUdJbAFNHAQ"
      }
    },
    {
      "cell_type": "code",
      "source": [
        "from statsmodels.graphics.tsaplots import plot_pacf\n",
        "pacf_plot = plot_pacf(df['diff_temp'], lags = 15)\n",
        "pacf_plot.show()"
      ],
      "metadata": {
        "id": "LKHoXeqmMenh"
      },
      "execution_count": null,
      "outputs": []
    },
    {
      "cell_type": "markdown",
      "source": [
        "**Inference:** only  the one 12 lag is highly  correlated but that can be ignored and here also we take order as 2"
      ],
      "metadata": {
        "id": "w1QR5hRtOkce"
      }
    },
    {
      "cell_type": "markdown",
      "source": [
        "### AR Model: To develop the MA model  we take  ARMA or ARIMA by giving other variable order as 0"
      ],
      "metadata": {
        "id": "iWuoCfr4O6sA"
      }
    },
    {
      "cell_type": "code",
      "source": [
        "ar_model = SARIMAX(train_ma['diff_temp'], order=(2,0,0), simple_differencing=False).fit(disp=False)  # order is p,d,q\n",
        "\n",
        "#ar_model = ARMA(endog = train_ma['diff_temp'], order = (0,2)).fit()\n",
        "print(ar_model.summary()) "
      ],
      "metadata": {
        "colab": {
          "base_uri": "https://localhost:8080/"
        },
        "id": "dPCwI8J6PEaf",
        "outputId": "6b2f409e-3819-433e-eeb4-e1444166828b"
      },
      "execution_count": 54,
      "outputs": [
        {
          "output_type": "stream",
          "name": "stdout",
          "text": [
            "                               SARIMAX Results                                \n",
            "==============================================================================\n",
            "Dep. Variable:              diff_temp   No. Observations:                   91\n",
            "Model:               SARIMAX(2, 0, 0)   Log Likelihood                -180.174\n",
            "Date:                Sat, 24 Dec 2022   AIC                            366.349\n",
            "Time:                        14:32:28   BIC                            373.882\n",
            "Sample:                             0   HQIC                           369.388\n",
            "                                 - 91                                         \n",
            "Covariance Type:                  opg                                         \n",
            "==============================================================================\n",
            "                 coef    std err          z      P>|z|      [0.025      0.975]\n",
            "------------------------------------------------------------------------------\n",
            "ar.L1         -0.1356      0.110     -1.235      0.217      -0.351       0.080\n",
            "ar.L2          0.0172      0.122      0.141      0.888      -0.222       0.256\n",
            "sigma2         3.0703      0.457      6.725      0.000       2.175       3.965\n",
            "===================================================================================\n",
            "Ljung-Box (L1) (Q):                   0.00   Jarque-Bera (JB):                 1.03\n",
            "Prob(Q):                              0.95   Prob(JB):                         0.60\n",
            "Heteroskedasticity (H):               0.86   Skew:                            -0.25\n",
            "Prob(H) (two-sided):                  0.67   Kurtosis:                         3.11\n",
            "===================================================================================\n",
            "\n",
            "Warnings:\n",
            "[1] Covariance matrix calculated using the outer product of gradients (complex-step).\n"
          ]
        }
      ]
    },
    {
      "cell_type": "markdown",
      "source": [
        "Inference: The two parameter are q1 and q2, number of lag is equal to number of parameter and there is constant.\n",
        "\n",
        "Equation: yt = 0.1446 -0.1452yt-1 + 0.009yt-2"
      ],
      "metadata": {
        "id": "Muw7heTZQKrB"
      }
    },
    {
      "cell_type": "code",
      "source": [
        "ar = pd.DataFrame(ar_model.forecast(23))  # forecaast 23 value\n",
        "#ma\n",
        "ar.columns = ['ar_pred']\n",
        "ar"
      ],
      "metadata": {
        "id": "7QMN6ZAGjSM_"
      },
      "execution_count": null,
      "outputs": []
    },
    {
      "cell_type": "code",
      "source": [
        "test_ma = test_ma.join(ar['ar_pred'])              # prediction  is on scale on differcing so we compare to diff_temp"
      ],
      "metadata": {
        "id": "uXmCC97zjo--"
      },
      "execution_count": 57,
      "outputs": []
    },
    {
      "cell_type": "code",
      "source": [
        "test_ma"
      ],
      "metadata": {
        "id": "M6Qlhdyrj3s1"
      },
      "execution_count": null,
      "outputs": []
    },
    {
      "cell_type": "code",
      "source": [
        "fig, ax = plt.subplots()\n",
        "ax.plot(test_ma['diff_temp'], 'g-.' , label = 'train')\n",
        "ax.plot(test_ma['ma_pred'], 'b-', label = 'test')\n",
        "ax.plot(test_ma['ar_pred'], 'r--',label = 'ar predicted')\n",
        "ax.axvspan(91, 113, color='#808080', alpha=0.2)   # give different color to predicted area\n",
        "ax.set_xlabel('date')\n",
        "ax.set_ylabel('temp')\n",
        "ax.legend(loc=2)\n",
        "#fig.automft_xdate()  # fit xtick value automatically\n",
        "plt.tight_layout()"
      ],
      "metadata": {
        "colab": {
          "base_uri": "https://localhost:8080/",
          "height": 441
        },
        "id": "C1b34S63jyNl",
        "outputId": "68d73efe-54ae-4b0a-d732-5280f7f690dc"
      },
      "execution_count": 64,
      "outputs": [
        {
          "output_type": "display_data",
          "data": {
            "text/plain": [
              "<Figure size 864x432 with 1 Axes>"
            ],
            "image/png": "[encoded data removed]"
          },
          "metadata": {
            "needs_background": "light"
          }
        }
      ]
    },
    {
      "cell_type": "code",
      "source": [
        "mape = MAPE(test_ma['diff_temp'], test_ma['ar_pred'])   # due to +,- unable to calculate the MAPE\n",
        "print(\"MAPE: \", mape) \n"
      ],
      "metadata": {
        "id": "HLqrG-UiQo3y",
        "colab": {
          "base_uri": "https://localhost:8080/"
        },
        "outputId": "fcc2664d-0096-4878-888d-c3ad0731a9de"
      },
      "execution_count": 61,
      "outputs": [
        {
          "output_type": "stream",
          "name": "stdout",
          "text": [
            "MAPE:  inf\n"
          ]
        }
      ]
    },
    {
      "cell_type": "code",
      "source": [
        "from sklearn.metrics import mean_squared_error\n",
        "MSE = mean_squared_error(test_ma['diff_temp'], test_ma['ar_pred'])\n",
        "RMSE = np.sqrt(MSE)\n",
        "\n",
        "print(\"Root Mean Square Error\", RMSE)"
      ],
      "metadata": {
        "colab": {
          "base_uri": "https://localhost:8080/"
        },
        "id": "PMQV1EQwkOiC",
        "outputId": "9a5c0a00-442e-4bba-9774-7e17a8962365"
      },
      "execution_count": 62,
      "outputs": [
        {
          "output_type": "stream",
          "name": "stdout",
          "text": [
            "Root Mean Square Error 1.387368766983388\n"
          ]
        }
      ]
    }
  ]
}